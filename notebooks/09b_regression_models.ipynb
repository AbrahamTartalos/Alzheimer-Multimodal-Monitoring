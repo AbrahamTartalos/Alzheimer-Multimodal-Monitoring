{
 "cells": [
  {
   "cell_type": "markdown",
   "id": "fd9ea5a1-c1df-40b2-805d-0c822544a8b9",
   "metadata": {},
   "source": [
    "# 04b - Regression Models for Risk Score Prediction\n",
    "\n",
    "**Objetivo**: Desarrollar modelos de regresión para predecir el `composite_risk_score` continuo\n",
    " \n",
    "**Modelos a desarrollar**:\n",
    "- Linear Regression (baseline)\n",
    "- Random Forest Regressor\n",
    "- XGBoost Regressor\n",
    "- Support Vector Regressor\n",
    "- Neural Network Regressor"
   ]
  },
  {
   "cell_type": "markdown",
   "id": "cd0c3224-9980-41fb-90d7-2769c2be2543",
   "metadata": {},
   "source": [
    "   "
   ]
  },
  {
   "cell_type": "markdown",
   "id": "8d04e432-fc8b-403f-9111-0948ab575fed",
   "metadata": {},
   "source": [
    "---"
   ]
  },
  {
   "cell_type": "markdown",
   "id": "e6043910-407b-46d6-87bb-b1abcc06fdb9",
   "metadata": {},
   "source": [
    "## Importar Librerías"
   ]
  },
  {
   "cell_type": "code",
   "execution_count": 17,
   "id": "0c4b1430-75ee-4030-a132-996dfd23bec6",
   "metadata": {},
   "outputs": [],
   "source": [
    "import sys\n",
    "import os\n",
    "sys.path.append('../src/modeling')\n",
    "\n",
    "import pandas as pd\n",
    "import numpy as np\n",
    "import matplotlib.pyplot as plt\n",
    "import seaborn as sns\n",
    "from datetime import datetime\n",
    "import warnings\n",
    "import gc\n",
    "warnings.filterwarnings('ignore')\n",
    "from sklearn.impute import SimpleImputer\n",
    "\n",
    "# Importar pipeline de regresión\n",
    "from regression_pipeline import RegressionPipeline\n",
    "from model_utils import load_processed_data, save_model_artifacts\n",
    "import mlflow\n",
    "import mlflow.sklearn"
   ]
  },
  {
   "cell_type": "markdown",
   "id": "b36cbaa7-c965-49a7-8433-3dd965db7cfe",
   "metadata": {},
   "source": [
    "## Configuraciones"
   ]
  },
  {
   "cell_type": "code",
   "execution_count": 2,
   "id": "7ba661a7-4b52-45bb-b3e4-910e5c049f20",
   "metadata": {},
   "outputs": [],
   "source": [
    "# Configuración\n",
    "plt.style.use('seaborn-v0_8')\n",
    "sns.set_palette(\"husl\")"
   ]
  },
  {
   "cell_type": "code",
   "execution_count": 3,
   "id": "b44c0d41-d076-4b1e-a55c-b025938da515",
   "metadata": {},
   "outputs": [
    {
     "name": "stdout",
     "output_type": "stream",
     "text": [
      "✅ Librerías y módulos importados correctamente\n",
      "📅 Fecha de ejecución: 2025-06-15 09:52:31\n"
     ]
    }
   ],
   "source": [
    "print(\"✅ Librerías y módulos importados correctamente\")\n",
    "print(f\"📅 Fecha de ejecución: {datetime.now().strftime('%Y-%m-%d %H:%M:%S')}\")"
   ]
  },
  {
   "cell_type": "code",
   "execution_count": 3,
   "id": "1ee8628d-7fc3-49d8-b3ba-e092235b6231",
   "metadata": {},
   "outputs": [
    {
     "name": "stdout",
     "output_type": "stream",
     "text": [
      "🔧 MLflow configurado para modelos de regresión\n",
      "🎯 Target: composite_risk_score (regresión continua)\n"
     ]
    }
   ],
   "source": [
    "# Configuración MLflow\n",
    "mlflow.set_experiment(\"alzheimer_multimodal_monitoring\")\n",
    "\n",
    "print(\"🔧 MLflow configurado para modelos de regresión\")\n",
    "print(\"🎯 Target: composite_risk_score (regresión continua)\")\n"
   ]
  },
  {
   "cell_type": "code",
   "execution_count": 4,
   "id": "2b827dd6-a5c1-4429-893c-53d178931695",
   "metadata": {},
   "outputs": [
    {
     "name": "stdout",
     "output_type": "stream",
     "text": [
      "ID del experimento: 503314857977141831\n",
      "Ubicación: file:///E:/usuarios/alumno/Escritorio/Alzheimer-Multimodal-Monitoring/notebooks/mlruns/503314857977141831\n"
     ]
    }
   ],
   "source": [
    "# Agrega después de tu configuración:\n",
    "experiment = mlflow.get_experiment_by_name(\"alzheimer_multimodal_monitoring\")\n",
    "print(f\"ID del experimento: {experiment.experiment_id}\")\n",
    "print(f\"Ubicación: {experiment.artifact_location}\")"
   ]
  },
  {
   "cell_type": "markdown",
   "id": "5ce7cb23-8132-4a33-9c9a-f06a853621e8",
   "metadata": {},
   "source": [
    "## Cargar datos procesados"
   ]
  },
  {
   "cell_type": "code",
   "execution_count": 5,
   "id": "28ab9cab-ea31-487a-9711-f8002acd7acb",
   "metadata": {},
   "outputs": [
    {
     "name": "stdout",
     "output_type": "stream",
     "text": [
      "📊 Dataset cargado: (48466, 189)\n",
      "📈 Registros con score válido: 48466\n",
      "\n",
      "📊 ESTADÍSTICAS DEL TARGET:\n",
      "   • Media: 0.367\n",
      "   • Desviación estándar: 0.213\n",
      "   • Rango: [0.000, 0.929]\n"
     ]
    }
   ],
   "source": [
    "# Cargar datos procesados\n",
    "try:\n",
    "    df = pd.read_csv('../data/processed/features/alzheimer_features_selected_20250605.csv')\n",
    "    print(f\"📊 Dataset cargado: {df.shape}\")\n",
    "    print(f\"📈 Registros con score válido: {df['composite_risk_score'].notna().sum()}\")\n",
    "    \n",
    "    # Información del target\n",
    "    target_stats = df['composite_risk_score'].describe()\n",
    "    print(f\"\\n📊 ESTADÍSTICAS DEL TARGET:\")\n",
    "    print(f\"   • Media: {target_stats['mean']:.3f}\")\n",
    "    print(f\"   • Desviación estándar: {target_stats['std']:.3f}\")\n",
    "    print(f\"   • Rango: [{target_stats['min']:.3f}, {target_stats['max']:.3f}]\")\n",
    "    \n",
    "except FileNotFoundError:\n",
    "    print(\"❌ Error: Archivo no encontrado\")\n",
    "    print(\"💡 Ejecuta primero el notebook de feature engineering\")"
   ]
  },
  {
   "cell_type": "code",
   "execution_count": 6,
   "id": "235f2f3e-1fc6-45e5-a0d2-c69bb09c34dd",
   "metadata": {},
   "outputs": [
    {
     "name": "stdout",
     "output_type": "stream",
     "text": [
      "cantidad de columnas no numericas: 9\n",
      "['gender', 'update_stamp_apoe_normalized', 'update_stamp_apoe', 'PTGENDER', 'subject_id_activity', 'PTID_apoe', 'EDUCATION_LEVEL', 'gender_normalized', 'risk_category']\n"
     ]
    }
   ],
   "source": [
    "col_nonnum = df.select_dtypes(exclude=['number'])\n",
    "cant_nonnum = col_nonnum.shape[1]\n",
    "print(f\"cantidad de columnas no numericas: {cant_nonnum}\")\n",
    "print(list(col_nonnum))"
   ]
  },
  {
   "cell_type": "code",
   "execution_count": 7,
   "id": "845a59fe-ad11-4061-a632-3190791650d9",
   "metadata": {},
   "outputs": [
    {
     "name": "stdout",
     "output_type": "stream",
     "text": [
      "🔧 Pipeline de regresión inicializado\n",
      "   • Target: composite_risk_score\n",
      "   • Test size: 0.2\n"
     ]
    }
   ],
   "source": [
    "# Inicializar pipeline de regresión\n",
    "regression_pipeline = RegressionPipeline(\n",
    "    target_col='composite_risk_score',\n",
    "    test_size=0.2,\n",
    "    random_state=42\n",
    ")\n",
    "\n",
    "print(\"🔧 Pipeline de regresión inicializado\")\n",
    "print(f\"   • Target: {regression_pipeline.target_col}\")\n",
    "print(f\"   • Test size: {regression_pipeline.test_size}\")"
   ]
  },
  {
   "cell_type": "markdown",
   "id": "6cb3cfd8-57c7-461d-b508-c5b2ff9493bc",
   "metadata": {},
   "source": [
    "## Separación de datos en características (X) y variable objetivo (y)"
   ]
  },
  {
   "cell_type": "code",
   "execution_count": 8,
   "id": "db6af81a-31c8-4359-9956-1dbdb0d3be44",
   "metadata": {},
   "outputs": [
    {
     "name": "stdout",
     "output_type": "stream",
     "text": [
      "🔍 Dimensiones de los datos:\n",
      "   • X: (48466, 188) (features)\n",
      "   • y: (48466,) (target)\n"
     ]
    }
   ],
   "source": [
    "# Separar características (X) y variable objetivo (y)\n",
    "X = df.drop(columns=['composite_risk_score'])  # Todas las columnas excepto el target\n",
    "y = df['composite_risk_score']  # Solo la columna objetivo\n",
    "\n",
    "# Verificar las dimensiones\n",
    "print(f\"🔍 Dimensiones de los datos:\")\n",
    "print(f\"   • X: {X.shape} (features)\")\n",
    "print(f\"   • y: {y.shape} (target)\")"
   ]
  },
  {
   "cell_type": "code",
   "execution_count": 9,
   "id": "ebb08129-f518-4b3c-a223-a5ee138210fd",
   "metadata": {},
   "outputs": [
    {
     "name": "stdout",
     "output_type": "stream",
     "text": [
      "Valores faltantes en X: 1077109\n",
      "Valores faltantes en y: 0\n"
     ]
    }
   ],
   "source": [
    "print(\"Valores faltantes en X:\", X.isna().sum().sum())\n",
    "print(\"Valores faltantes en y:\", y.isna().sum())"
   ]
  },
  {
   "cell_type": "markdown",
   "id": "2837cc70-03cf-42d5-b795-315372632b4a",
   "metadata": {},
   "source": [
    "## Ejecución del Pipeline y Manejo de NaN"
   ]
  },
  {
   "cell_type": "code",
   "execution_count": 16,
   "id": "b13ab014-3166-4a86-97b5-7285e4e72f54",
   "metadata": {},
   "outputs": [
    {
     "name": "stderr",
     "output_type": "stream",
     "text": [
      "[Memory(location=None)]: Flushing completely the cache\n"
     ]
    }
   ],
   "source": [
    "from joblib import Memory\n",
    "import mlflow\n",
    "\n",
    "# Limpiar caché de joblib\n",
    "mem = Memory(location=None)\n",
    "mem.clear()\n",
    "\n",
    "# Limpiar caché de MLflow (opcional)\n",
    "mlflow.end_run()"
   ]
  },
  {
   "cell_type": "code",
   "execution_count": 19,
   "id": "5a2dba6a-64ed-4a46-9b32-269f2a139727",
   "metadata": {},
   "outputs": [
    {
     "name": "stdout",
     "output_type": "stream",
     "text": [
      "Valores infinitos antes: 0\n",
      "\n",
      "🔥 Columnas completamente vacías (0): []\n",
      "\n",
      "Valores NaN en X antes de imputar: 0\n",
      "\n",
      "Valores infinitos después: 0\n",
      "Valores NaN después de imputar: 0\n",
      "Nuevas dimensiones: (48466, 169)\n",
      "\n",
      "🚀 INICIANDO PIPELINE DE REGRESIÓN\n",
      "==================================================\n",
      "   • Dimensiones entrenamiento: (38772, 169)\n",
      "   • Dimensiones test: (9694, 169)\n",
      "\n",
      " Entrenando linear_regression...\n",
      "📊 RMSE: 0.0034\n",
      "📊 MAE: 0.0014\n",
      "📊 R²: 0.9997\n",
      "📊 CV RMSE: 0.0034 ± 0.0001\n"
     ]
    },
    {
     "ename": "MlflowException",
     "evalue": "Failed to convert metric value to float: can only convert an array of size 1 to a Python scalar",
     "output_type": "error",
     "traceback": [
      "\u001b[1;31m---------------------------------------------------------------------------\u001b[0m",
      "\u001b[1;31mValueError\u001b[0m                                Traceback (most recent call last)",
      "File \u001b[1;32mE:\\Programas\\miniconda3\\envs\\ea-env-py310\\lib\\site-packages\\mlflow\\tracking\\metric_value_conversion_utils.py:12\u001b[0m, in \u001b[0;36m_try_get_item\u001b[1;34m(x)\u001b[0m\n\u001b[0;32m     11\u001b[0m \u001b[38;5;28;01mtry\u001b[39;00m:\n\u001b[1;32m---> 12\u001b[0m     \u001b[38;5;28;01mreturn\u001b[39;00m \u001b[43mx\u001b[49m\u001b[38;5;241;43m.\u001b[39;49m\u001b[43mitem\u001b[49m\u001b[43m(\u001b[49m\u001b[43m)\u001b[49m\n\u001b[0;32m     13\u001b[0m \u001b[38;5;28;01mexcept\u001b[39;00m \u001b[38;5;167;01mException\u001b[39;00m \u001b[38;5;28;01mas\u001b[39;00m e:\n",
      "\u001b[1;31mValueError\u001b[0m: can only convert an array of size 1 to a Python scalar",
      "\nDuring handling of the above exception, another exception occurred:\n",
      "\u001b[1;31mMlflowException\u001b[0m                           Traceback (most recent call last)",
      "Cell \u001b[1;32mIn[19], line 33\u001b[0m\n\u001b[0;32m     30\u001b[0m gc\u001b[38;5;241m.\u001b[39mcollect()\n\u001b[0;32m     32\u001b[0m \u001b[38;5;66;03m# Ejecutar el pipeline completo de regresión para todos los modelos\u001b[39;00m\n\u001b[1;32m---> 33\u001b[0m results \u001b[38;5;241m=\u001b[39m \u001b[43mregression_pipeline\u001b[49m\u001b[38;5;241;43m.\u001b[39;49m\u001b[43mrun_regression_pipeline\u001b[49m\u001b[43m(\u001b[49m\n\u001b[0;32m     34\u001b[0m \u001b[43m    \u001b[49m\u001b[43mX\u001b[49m\u001b[43m,\u001b[49m\u001b[43m  \u001b[49m\u001b[38;5;66;43;03m# Features \u001b[39;49;00m\n\u001b[0;32m     35\u001b[0m \u001b[43m    \u001b[49m\u001b[43my\u001b[49m\u001b[43m,\u001b[49m\u001b[43m  \u001b[49m\u001b[38;5;66;43;03m# Target \u001b[39;49;00m\n\u001b[0;32m     36\u001b[0m \u001b[43m    \u001b[49m\u001b[43moptimize_hyperparams\u001b[49m\u001b[38;5;241;43m=\u001b[39;49m\u001b[38;5;28;43;01mFalse\u001b[39;49;00m\u001b[43m,\u001b[49m\u001b[43m  \u001b[49m\u001b[38;5;66;43;03m# No optimizar hiperparámetros\u001b[39;49;00m\n\u001b[0;32m     37\u001b[0m \u001b[43m    \u001b[49m\u001b[43mcross_validate\u001b[49m\u001b[38;5;241;43m=\u001b[39;49m\u001b[38;5;28;43;01mTrue\u001b[39;49;00m\u001b[43m          \u001b[49m\u001b[38;5;66;43;03m# Realizar validación cruzada\u001b[39;49;00m\n\u001b[0;32m     38\u001b[0m \u001b[43m)\u001b[49m\n\u001b[0;32m     40\u001b[0m \u001b[38;5;28mprint\u001b[39m(\u001b[38;5;124m\"\u001b[39m\u001b[38;5;124m✅ Pipeline completo ejecutado!\u001b[39m\u001b[38;5;124m\"\u001b[39m)\n",
      "File \u001b[1;32mE:\\usuarios\\alumno\\Escritorio\\Alzheimer-Multimodal-Monitoring\\notebooks\\../src/modeling\\regression_pipeline.py:225\u001b[0m, in \u001b[0;36mRegressionPipeline.run_regression_pipeline\u001b[1;34m(self, X, y, optimize_hyperparams, cross_validate)\u001b[0m\n\u001b[0;32m    222\u001b[0m     \u001b[38;5;28mprint\u001b[39m(\u001b[38;5;124mf\u001b[39m\u001b[38;5;124m\"\u001b[39m\u001b[38;5;124m📊 CV RMSE: \u001b[39m\u001b[38;5;132;01m{\u001b[39;00mcv_results[\u001b[38;5;124m'\u001b[39m\u001b[38;5;124mcv_rmse_mean\u001b[39m\u001b[38;5;124m'\u001b[39m]\u001b[38;5;132;01m:\u001b[39;00m\u001b[38;5;124m.4f\u001b[39m\u001b[38;5;132;01m}\u001b[39;00m\u001b[38;5;124m ± \u001b[39m\u001b[38;5;132;01m{\u001b[39;00mcv_results[\u001b[38;5;124m'\u001b[39m\u001b[38;5;124mcv_rmse_std\u001b[39m\u001b[38;5;124m'\u001b[39m]\u001b[38;5;132;01m:\u001b[39;00m\u001b[38;5;124m.4f\u001b[39m\u001b[38;5;132;01m}\u001b[39;00m\u001b[38;5;124m\"\u001b[39m)\n\u001b[0;32m    224\u001b[0m \u001b[38;5;66;03m# Registrar en MLflow\u001b[39;00m\n\u001b[1;32m--> 225\u001b[0m \u001b[43mlog_model_metrics\u001b[49m\u001b[43m(\u001b[49m\u001b[43mtest_metrics\u001b[49m\u001b[43m,\u001b[49m\u001b[43m \u001b[49m\u001b[43mmodel_name\u001b[49m\u001b[43m,\u001b[49m\u001b[43m \u001b[49m\u001b[38;5;124;43m\"\u001b[39;49m\u001b[38;5;124;43mregression\u001b[39;49m\u001b[38;5;124;43m\"\u001b[39;49m\u001b[43m)\u001b[49m\n\u001b[0;32m    226\u001b[0m mlflow\u001b[38;5;241m.\u001b[39msklearn\u001b[38;5;241m.\u001b[39mlog_model(trained_model, \u001b[38;5;124mf\u001b[39m\u001b[38;5;124m\"\u001b[39m\u001b[38;5;124mmodel_\u001b[39m\u001b[38;5;132;01m{\u001b[39;00mmodel_name\u001b[38;5;132;01m}\u001b[39;00m\u001b[38;5;124m\"\u001b[39m)\n\u001b[0;32m    228\u001b[0m \u001b[38;5;66;03m# Guardar modelo\u001b[39;00m\n",
      "File \u001b[1;32mE:\\usuarios\\alumno\\Escritorio\\Alzheimer-Multimodal-Monitoring\\notebooks\\../src/modeling\\model_utils.py:139\u001b[0m, in \u001b[0;36mlog_model_metrics\u001b[1;34m(metrics, model_name, model_type)\u001b[0m\n\u001b[0;32m    136\u001b[0m mlflow\u001b[38;5;241m.\u001b[39mset_tag(\u001b[38;5;124m\"\u001b[39m\u001b[38;5;124mtimestamp\u001b[39m\u001b[38;5;124m\"\u001b[39m, datetime\u001b[38;5;241m.\u001b[39mnow()\u001b[38;5;241m.\u001b[39misoformat())\n\u001b[0;32m    138\u001b[0m \u001b[38;5;28;01mfor\u001b[39;00m metric_name, value \u001b[38;5;129;01min\u001b[39;00m metrics\u001b[38;5;241m.\u001b[39mitems():\n\u001b[1;32m--> 139\u001b[0m     \u001b[43mmlflow\u001b[49m\u001b[38;5;241;43m.\u001b[39;49m\u001b[43mlog_metric\u001b[49m\u001b[43m(\u001b[49m\u001b[43mmetric_name\u001b[49m\u001b[43m,\u001b[49m\u001b[43m \u001b[49m\u001b[43mvalue\u001b[49m\u001b[43m)\u001b[49m\n\u001b[0;32m    141\u001b[0m \u001b[38;5;28mprint\u001b[39m(\u001b[38;5;124mf\u001b[39m\u001b[38;5;124m\"\u001b[39m\u001b[38;5;124m✅ Métricas registradas en MLflow para \u001b[39m\u001b[38;5;132;01m{\u001b[39;00mmodel_name\u001b[38;5;132;01m}\u001b[39;00m\u001b[38;5;124m\"\u001b[39m)\n",
      "File \u001b[1;32mE:\\Programas\\miniconda3\\envs\\ea-env-py310\\lib\\site-packages\\mlflow\\tracking\\fluent.py:923\u001b[0m, in \u001b[0;36mlog_metric\u001b[1;34m(key, value, step, synchronous, timestamp, run_id)\u001b[0m\n\u001b[0;32m    921\u001b[0m run_id \u001b[38;5;241m=\u001b[39m run_id \u001b[38;5;129;01mor\u001b[39;00m _get_or_start_run()\u001b[38;5;241m.\u001b[39minfo\u001b[38;5;241m.\u001b[39mrun_id\n\u001b[0;32m    922\u001b[0m synchronous \u001b[38;5;241m=\u001b[39m synchronous \u001b[38;5;28;01mif\u001b[39;00m synchronous \u001b[38;5;129;01mis\u001b[39;00m \u001b[38;5;129;01mnot\u001b[39;00m \u001b[38;5;28;01mNone\u001b[39;00m \u001b[38;5;28;01melse\u001b[39;00m \u001b[38;5;129;01mnot\u001b[39;00m MLFLOW_ENABLE_ASYNC_LOGGING\u001b[38;5;241m.\u001b[39mget()\n\u001b[1;32m--> 923\u001b[0m \u001b[38;5;28;01mreturn\u001b[39;00m \u001b[43mMlflowClient\u001b[49m\u001b[43m(\u001b[49m\u001b[43m)\u001b[49m\u001b[38;5;241;43m.\u001b[39;49m\u001b[43mlog_metric\u001b[49m\u001b[43m(\u001b[49m\n\u001b[0;32m    924\u001b[0m \u001b[43m    \u001b[49m\u001b[43mrun_id\u001b[49m\u001b[43m,\u001b[49m\n\u001b[0;32m    925\u001b[0m \u001b[43m    \u001b[49m\u001b[43mkey\u001b[49m\u001b[43m,\u001b[49m\n\u001b[0;32m    926\u001b[0m \u001b[43m    \u001b[49m\u001b[43mvalue\u001b[49m\u001b[43m,\u001b[49m\n\u001b[0;32m    927\u001b[0m \u001b[43m    \u001b[49m\u001b[43mtimestamp\u001b[49m\u001b[43m \u001b[49m\u001b[38;5;129;43;01mor\u001b[39;49;00m\u001b[43m \u001b[49m\u001b[43mget_current_time_millis\u001b[49m\u001b[43m(\u001b[49m\u001b[43m)\u001b[49m\u001b[43m,\u001b[49m\n\u001b[0;32m    928\u001b[0m \u001b[43m    \u001b[49m\u001b[43mstep\u001b[49m\u001b[43m \u001b[49m\u001b[38;5;129;43;01mor\u001b[39;49;00m\u001b[43m \u001b[49m\u001b[38;5;241;43m0\u001b[39;49m\u001b[43m,\u001b[49m\n\u001b[0;32m    929\u001b[0m \u001b[43m    \u001b[49m\u001b[43msynchronous\u001b[49m\u001b[38;5;241;43m=\u001b[39;49m\u001b[43msynchronous\u001b[49m\u001b[43m,\u001b[49m\n\u001b[0;32m    930\u001b[0m \u001b[43m\u001b[49m\u001b[43m)\u001b[49m\n",
      "File \u001b[1;32mE:\\Programas\\miniconda3\\envs\\ea-env-py310\\lib\\site-packages\\mlflow\\tracking\\client.py:1972\u001b[0m, in \u001b[0;36mMlflowClient.log_metric\u001b[1;34m(self, run_id, key, value, timestamp, step, synchronous)\u001b[0m\n\u001b[0;32m   1899\u001b[0m \u001b[38;5;250m\u001b[39m\u001b[38;5;124;03m\"\"\"\u001b[39;00m\n\u001b[0;32m   1900\u001b[0m \u001b[38;5;124;03mLog a metric against the run ID.\u001b[39;00m\n\u001b[0;32m   1901\u001b[0m \n\u001b[1;32m   (...)\u001b[0m\n\u001b[0;32m   1967\u001b[0m \u001b[38;5;124;03m    status: FINISHED\u001b[39;00m\n\u001b[0;32m   1968\u001b[0m \u001b[38;5;124;03m\"\"\"\u001b[39;00m\n\u001b[0;32m   1969\u001b[0m synchronous \u001b[38;5;241m=\u001b[39m (\n\u001b[0;32m   1970\u001b[0m     synchronous \u001b[38;5;28;01mif\u001b[39;00m synchronous \u001b[38;5;129;01mis\u001b[39;00m \u001b[38;5;129;01mnot\u001b[39;00m \u001b[38;5;28;01mNone\u001b[39;00m \u001b[38;5;28;01melse\u001b[39;00m \u001b[38;5;129;01mnot\u001b[39;00m MLFLOW_ENABLE_ASYNC_LOGGING\u001b[38;5;241m.\u001b[39mget()\n\u001b[0;32m   1971\u001b[0m )\n\u001b[1;32m-> 1972\u001b[0m \u001b[38;5;28;01mreturn\u001b[39;00m \u001b[38;5;28;43mself\u001b[39;49m\u001b[38;5;241;43m.\u001b[39;49m\u001b[43m_tracking_client\u001b[49m\u001b[38;5;241;43m.\u001b[39;49m\u001b[43mlog_metric\u001b[49m\u001b[43m(\u001b[49m\n\u001b[0;32m   1973\u001b[0m \u001b[43m    \u001b[49m\u001b[43mrun_id\u001b[49m\u001b[43m,\u001b[49m\u001b[43m \u001b[49m\u001b[43mkey\u001b[49m\u001b[43m,\u001b[49m\u001b[43m \u001b[49m\u001b[43mvalue\u001b[49m\u001b[43m,\u001b[49m\u001b[43m \u001b[49m\u001b[43mtimestamp\u001b[49m\u001b[43m,\u001b[49m\u001b[43m \u001b[49m\u001b[43mstep\u001b[49m\u001b[43m,\u001b[49m\u001b[43m \u001b[49m\u001b[43msynchronous\u001b[49m\u001b[38;5;241;43m=\u001b[39;49m\u001b[43msynchronous\u001b[49m\n\u001b[0;32m   1974\u001b[0m \u001b[43m\u001b[49m\u001b[43m)\u001b[49m\n",
      "File \u001b[1;32mE:\\Programas\\miniconda3\\envs\\ea-env-py310\\lib\\site-packages\\mlflow\\tracking\\_tracking_service\\client.py:669\u001b[0m, in \u001b[0;36mTrackingServiceClient.log_metric\u001b[1;34m(self, run_id, key, value, timestamp, step, synchronous)\u001b[0m\n\u001b[0;32m    667\u001b[0m timestamp \u001b[38;5;241m=\u001b[39m timestamp \u001b[38;5;28;01mif\u001b[39;00m timestamp \u001b[38;5;129;01mis\u001b[39;00m \u001b[38;5;129;01mnot\u001b[39;00m \u001b[38;5;28;01mNone\u001b[39;00m \u001b[38;5;28;01melse\u001b[39;00m get_current_time_millis()\n\u001b[0;32m    668\u001b[0m step \u001b[38;5;241m=\u001b[39m step \u001b[38;5;28;01mif\u001b[39;00m step \u001b[38;5;129;01mis\u001b[39;00m \u001b[38;5;129;01mnot\u001b[39;00m \u001b[38;5;28;01mNone\u001b[39;00m \u001b[38;5;28;01melse\u001b[39;00m \u001b[38;5;241m0\u001b[39m\n\u001b[1;32m--> 669\u001b[0m metric_value \u001b[38;5;241m=\u001b[39m \u001b[43mconvert_metric_value_to_float_if_possible\u001b[49m\u001b[43m(\u001b[49m\u001b[43mvalue\u001b[49m\u001b[43m)\u001b[49m\n\u001b[0;32m    670\u001b[0m metric \u001b[38;5;241m=\u001b[39m Metric(key, metric_value, timestamp, step)\n\u001b[0;32m    671\u001b[0m \u001b[38;5;28;01mif\u001b[39;00m synchronous:\n",
      "File \u001b[1;32mE:\\Programas\\miniconda3\\envs\\ea-env-py310\\lib\\site-packages\\mlflow\\tracking\\metric_value_conversion_utils.py:48\u001b[0m, in \u001b[0;36mconvert_metric_value_to_float_if_possible\u001b[1;34m(x)\u001b[0m\n\u001b[0;32m     41\u001b[0m converter_fns_to_try \u001b[38;5;241m=\u001b[39m [\n\u001b[0;32m     42\u001b[0m     convert_metric_value_to_float_if_ndarray,\n\u001b[0;32m     43\u001b[0m     convert_metric_value_to_float_if_tensorflow_tensor,\n\u001b[0;32m     44\u001b[0m     convert_metric_value_to_float_if_torch_tensor,\n\u001b[0;32m     45\u001b[0m ]\n\u001b[0;32m     47\u001b[0m \u001b[38;5;28;01mfor\u001b[39;00m converter_fn \u001b[38;5;129;01min\u001b[39;00m converter_fns_to_try:\n\u001b[1;32m---> 48\u001b[0m     possible_float \u001b[38;5;241m=\u001b[39m \u001b[43mconverter_fn\u001b[49m\u001b[43m(\u001b[49m\u001b[43mx\u001b[49m\u001b[43m)\u001b[49m\n\u001b[0;32m     49\u001b[0m     \u001b[38;5;28;01mif\u001b[39;00m \u001b[38;5;28mtype\u001b[39m(possible_float) \u001b[38;5;241m==\u001b[39m \u001b[38;5;28mfloat\u001b[39m:\n\u001b[0;32m     50\u001b[0m         \u001b[38;5;28;01mreturn\u001b[39;00m possible_float\n",
      "File \u001b[1;32mE:\\Programas\\miniconda3\\envs\\ea-env-py310\\lib\\site-packages\\mlflow\\tracking\\metric_value_conversion_utils.py:30\u001b[0m, in \u001b[0;36m_converter_requires.<locals>.decorator.<locals>.wrapper\u001b[1;34m(x)\u001b[0m\n\u001b[0;32m     27\u001b[0m \u001b[38;5;28;01mif\u001b[39;00m \u001b[38;5;129;01mnot\u001b[39;00m _is_module_imported(module_name):\n\u001b[0;32m     28\u001b[0m     \u001b[38;5;28;01mreturn\u001b[39;00m x\n\u001b[1;32m---> 30\u001b[0m \u001b[38;5;28;01mreturn\u001b[39;00m \u001b[43mfunc\u001b[49m\u001b[43m(\u001b[49m\u001b[43mx\u001b[49m\u001b[43m)\u001b[49m\n",
      "File \u001b[1;32mE:\\Programas\\miniconda3\\envs\\ea-env-py310\\lib\\site-packages\\mlflow\\tracking\\metric_value_conversion_utils.py:63\u001b[0m, in \u001b[0;36mconvert_metric_value_to_float_if_ndarray\u001b[1;34m(x)\u001b[0m\n\u001b[0;32m     60\u001b[0m \u001b[38;5;28;01mimport\u001b[39;00m\u001b[38;5;250m \u001b[39m\u001b[38;5;21;01mnumpy\u001b[39;00m\u001b[38;5;250m \u001b[39m\u001b[38;5;28;01mas\u001b[39;00m\u001b[38;5;250m \u001b[39m\u001b[38;5;21;01mnp\u001b[39;00m\n\u001b[0;32m     62\u001b[0m \u001b[38;5;28;01mif\u001b[39;00m \u001b[38;5;28misinstance\u001b[39m(x, np\u001b[38;5;241m.\u001b[39mndarray):\n\u001b[1;32m---> 63\u001b[0m     \u001b[38;5;28;01mreturn\u001b[39;00m \u001b[38;5;28mfloat\u001b[39m(\u001b[43m_try_get_item\u001b[49m\u001b[43m(\u001b[49m\u001b[43mx\u001b[49m\u001b[43m)\u001b[49m)\n\u001b[0;32m     65\u001b[0m \u001b[38;5;28;01mreturn\u001b[39;00m x\n",
      "File \u001b[1;32mE:\\Programas\\miniconda3\\envs\\ea-env-py310\\lib\\site-packages\\mlflow\\tracking\\metric_value_conversion_utils.py:14\u001b[0m, in \u001b[0;36m_try_get_item\u001b[1;34m(x)\u001b[0m\n\u001b[0;32m     12\u001b[0m     \u001b[38;5;28;01mreturn\u001b[39;00m x\u001b[38;5;241m.\u001b[39mitem()\n\u001b[0;32m     13\u001b[0m \u001b[38;5;28;01mexcept\u001b[39;00m \u001b[38;5;167;01mException\u001b[39;00m \u001b[38;5;28;01mas\u001b[39;00m e:\n\u001b[1;32m---> 14\u001b[0m     \u001b[38;5;28;01mraise\u001b[39;00m MlflowException(\n\u001b[0;32m     15\u001b[0m         \u001b[38;5;124mf\u001b[39m\u001b[38;5;124m\"\u001b[39m\u001b[38;5;124mFailed to convert metric value to float: \u001b[39m\u001b[38;5;132;01m{\u001b[39;00me\u001b[38;5;132;01m}\u001b[39;00m\u001b[38;5;124m\"\u001b[39m,\n\u001b[0;32m     16\u001b[0m         error_code\u001b[38;5;241m=\u001b[39mINVALID_PARAMETER_VALUE,\n\u001b[0;32m     17\u001b[0m     )\n",
      "\u001b[1;31mMlflowException\u001b[0m: Failed to convert metric value to float: can only convert an array of size 1 to a Python scalar"
     ]
    }
   ],
   "source": [
    "# 1. Eliminar columnas no numéricas\n",
    "non_numeric = ['gender', 'update_stamp_apoe_normalized', 'update_stamp_apoe', \n",
    "              'PTGENDER', 'subject_id_activity', 'PTID_apoe', 'EDUCATION_LEVEL', \n",
    "              'gender_normalized', 'risk_category']\n",
    "X = X.drop(columns=non_numeric, errors='ignore')  # 'errors=ignore' evita errores si alguna columna no existe\n",
    "\n",
    "# 2. Reemplazar infinitos por NaN\n",
    "print(f\"Valores infinitos antes: {np.isinf(X.values).sum()}\")\n",
    "X.replace([np.inf, -np.inf], np.nan, inplace=True)\n",
    "\n",
    "# 3. Identificar y eliminar columnas completamente vacías\n",
    "empty_cols = X.columns[X.isna().all()].tolist()\n",
    "print(f\"\\n🔥 Columnas completamente vacías ({len(empty_cols)}): {empty_cols}\")\n",
    "X = X.drop(columns=empty_cols)\n",
    "\n",
    "# 4. Imputar valores faltantes\n",
    "print(f\"\\nValores NaN en X antes de imputar: {X.isna().sum().sum()}\")\n",
    "imputer = SimpleImputer(strategy='mean')\n",
    "X_imputed = imputer.fit_transform(X)\n",
    "\n",
    "# 5. Crear nuevo DataFrame manteniendo solo las columnas no vacías\n",
    "X = pd.DataFrame(X_imputed, columns=X.columns)\n",
    "\n",
    "# 6. Verificar resultados\n",
    "print(f\"\\nValores infinitos después: {np.isinf(X.values).sum()}\")\n",
    "print(f\"Valores NaN después de imputar: {X.isna().sum().sum()}\")\n",
    "print(f\"Nuevas dimensiones: {X.shape}\")\n",
    "\n",
    "# Liberar memoria explícitamente\n",
    "gc.collect()\n",
    "\n",
    "# Ejecutar el pipeline completo de regresión para todos los modelos\n",
    "results = regression_pipeline.run_regression_pipeline(\n",
    "    X,  # Features \n",
    "    y,  # Target \n",
    "    optimize_hyperparams=False,  # No optimizar hiperparámetros\n",
    "    cross_validate=True          # Realizar validación cruzada\n",
    ")\n",
    "\n",
    "print(\"✅ Pipeline completo ejecutado!\")"
   ]
  },
  {
   "cell_type": "markdown",
   "id": "23c5f4c4-76ce-4fec-b43d-6915da60f755",
   "metadata": {
    "jp-MarkdownHeadingCollapsed": true
   },
   "source": [
    "## Comparación de modelos"
   ]
  },
  {
   "cell_type": "code",
   "execution_count": null,
   "id": "8c389ba4-4243-4dc1-9f3a-35e711d5a231",
   "metadata": {},
   "outputs": [],
   "source": [
    "# Comparación de modelos\n",
    "models_comparison = {\n",
    "    'Linear Regression': lr_results,\n",
    "    'Random Forest': rf_results,\n",
    "    'XGBoost': xgb_results,\n",
    "    'SVR': svr_results,\n",
    "    'Neural Network': nn_results\n",
    "}\n",
    "\n",
    "# Crear DataFrame de comparación\n",
    "comparison_df = pd.DataFrame({\n",
    "    model_name: {\n",
    "        'R² Score': results['r2_score'],\n",
    "        'RMSE': results['rmse'],\n",
    "        'MAE': results['mae'],\n",
    "        'Training Time (s)': results.get('training_time', 0)\n",
    "    }\n",
    "    for model_name, results in models_comparison.items()\n",
    "}).T\n",
    "\n",
    "print(\"\\n📊 COMPARACIÓN DE MODELOS DE REGRESIÓN\")\n",
    "print(\"=\" * 60)\n",
    "print(comparison_df.round(4))\n"
   ]
  },
  {
   "cell_type": "code",
   "execution_count": null,
   "id": "2508e5b0-1fd4-4b7b-9efa-156c577a2527",
   "metadata": {},
   "outputs": [],
   "source": [
    "# Visualizaciones de comparación\n",
    "fig, axes = plt.subplots(2, 2, figsize=(15, 12))\n",
    "\n",
    "# R² Score comparison\n",
    "comparison_df['R² Score'].plot(kind='bar', ax=axes[0,0], color='skyblue')\n",
    "axes[0,0].set_title('R² Score por Modelo')\n",
    "axes[0,0].set_ylabel('R² Score')\n",
    "axes[0,0].tick_params(axis='x', rotation=45)\n",
    "\n",
    "# RMSE comparison\n",
    "comparison_df['RMSE'].plot(kind='bar', ax=axes[0,1], color='lightcoral')\n",
    "axes[0,1].set_title('RMSE por Modelo')\n",
    "axes[0,1].set_ylabel('RMSE')\n",
    "axes[0,1].tick_params(axis='x', rotation=45)\n",
    "\n",
    "# MAE comparison\n",
    "comparison_df['MAE'].plot(kind='bar', ax=axes[1,0], color='lightgreen')\n",
    "axes[1,0].set_title('MAE por Modelo')\n",
    "axes[1,0].set_ylabel('MAE')\n",
    "axes[1,0].tick_params(axis='x', rotation=45)\n",
    "\n",
    "# Training Time comparison\n",
    "if 'Training Time (s)' in comparison_df.columns:\n",
    "    comparison_df['Training Time (s)'].plot(kind='bar', ax=axes[1,1], color='orange')\n",
    "    axes[1,1].set_title('Tiempo de Entrenamiento')\n",
    "    axes[1,1].set_ylabel('Segundos')\n",
    "    axes[1,1].tick_params(axis='x', rotation=45)\n",
    "\n",
    "plt.tight_layout()\n",
    "plt.show()"
   ]
  },
  {
   "cell_type": "markdown",
   "id": "04e0a735-e629-435b-be0f-4a52267159d6",
   "metadata": {
    "jp-MarkdownHeadingCollapsed": true
   },
   "source": [
    "## Identificar mejor modelo"
   ]
  },
  {
   "cell_type": "code",
   "execution_count": null,
   "id": "ba752de3-9338-4522-b8a9-2ee56daf8b49",
   "metadata": {},
   "outputs": [],
   "source": [
    "# Identificar mejor modelo\n",
    "best_model_r2 = comparison_df['R² Score'].idxmax()\n",
    "best_model_rmse = comparison_df['RMSE'].idxmin()\n",
    "best_model_mae = comparison_df['MAE'].idxmin()\n",
    "\n",
    "print(f\"\\n🏆 MEJORES MODELOS POR MÉTRICA:\")\n",
    "print(f\"   • Mejor R² Score: {best_model_r2} ({comparison_df.loc[best_model_r2, 'R² Score']:.4f})\")\n",
    "print(f\"   • Mejor RMSE: {best_model_rmse} ({comparison_df.loc[best_model_rmse, 'RMSE']:.4f})\")\n",
    "print(f\"   • Mejor MAE: {best_model_mae} ({comparison_df.loc[best_model_mae, 'MAE']:.4f})\")\n",
    "\n",
    "# Modelo recomendado (mejor balance)\n",
    "comparison_df['Score_Compuesto'] = (\n",
    "    comparison_df['R² Score'] * 0.4 +\n",
    "    (1 - comparison_df['RMSE'] / comparison_df['RMSE'].max()) * 0.3 +\n",
    "    (1 - comparison_df['MAE'] / comparison_df['MAE'].max()) * 0.3\n",
    ")\n",
    "\n",
    "best_overall = comparison_df['Score_Compuesto'].idxmax()\n",
    "print(f\"\\n⭐ MODELO RECOMENDADO: {best_overall}\")\n",
    "print(f\"   • Score Compuesto: {comparison_df.loc[best_overall, 'Score_Compuesto']:.4f}\")\n"
   ]
  },
  {
   "cell_type": "code",
   "execution_count": null,
   "id": "f6b6ed3f-421a-4217-928c-82ceb8378426",
   "metadata": {},
   "outputs": [],
   "source": [
    "# Análisis de residuos del mejor modelo\n",
    "best_model_results = models_comparison[best_overall]\n",
    "residuals = best_model_results['predictions'] - best_model_results['y_true']\n",
    "\n",
    "fig, axes = plt.subplots(1, 2, figsize=(15, 6))\n",
    "\n",
    "# Scatter plot: Predicciones vs Valores reales\n",
    "axes[0].scatter(best_model_results['y_true'], best_model_results['predictions'], \n",
    "               alpha=0.6, color='blue')\n",
    "axes[0].plot([best_model_results['y_true'].min(), best_model_results['y_true'].max()], \n",
    "             [best_model_results['y_true'].min(), best_model_results['y_true'].max()], \n",
    "             'r--', lw=2)\n",
    "axes[0].set_xlabel('Valores Reales')\n",
    "axes[0].set_ylabel('Predicciones')\n",
    "axes[0].set_title(f'Predicciones vs Reales - {best_overall}')\n",
    "\n",
    "# Histograma de residuos\n",
    "axes[1].hist(residuals, bins=30, alpha=0.7, color='green')\n",
    "axes[1].set_xlabel('Residuos')\n",
    "axes[1].set_ylabel('Frecuencia')\n",
    "axes[1].set_title(f'Distribución de Residuos - {best_overall}')\n",
    "axes[1].axvline(x=0, color='red', linestyle='--')\n",
    "\n",
    "plt.tight_layout()\n",
    "plt.show()\n",
    "\n",
    "print(f\"\\n📊 ANÁLISIS DE RESIDUOS ({best_overall}):\")\n",
    "print(f\"   • Media de residuos: {residuals.mean():.6f}\")\n",
    "print(f\"   • Desviación estándar: {residuals.std():.4f}\")\n",
    "print(f\"   • Residuos dentro de ±1σ: {(np.abs(residuals) <= residuals.std()).mean()*100:.1f}%\")\n",
    "\n",
    "# %%\n",
    "# Análisis de importancia de features (si disponible)\n",
    "if hasattr(regression_pipeline, 'get_feature_importance'):\n",
    "    print(\"\\n🔍 ANÁLISIS DE IMPORTANCIA DE FEATURES\")\n",
    "    print(\"=\" * 50)\n",
    "    \n",
    "    try:\n",
    "        feature_importance = regression_pipeline.get_feature_importance(best_overall)\n",
    "        \n",
    "        if feature_importance is not None:\n",
    "            # Top 15 features más importantes\n",
    "            top_features = feature_importance.head(15)\n",
    "            \n",
    "            plt.figure(figsize=(12, 8))\n",
    "            top_features.plot(kind='barh', color='steelblue')\n",
    "            plt.title(f'Top 15 Features Más Importantes - {best_overall}')\n",
    "            plt.xlabel('Importancia')\n",
    "            plt.tight_layout()\n",
    "            plt.show()\n",
    "            \n",
    "            print(\"🔝 TOP 10 FEATURES MÁS IMPORTANTES:\")\n",
    "            for i, (feature, importance) in enumerate(top_features.head(10).items(), 1):\n",
    "                print(f\"   {i:2d}. {feature}: {importance:.4f}\")\n",
    "        \n",
    "    except Exception as e:\n",
    "        print(f\"⚠️  No se pudo obtener importancia de features: {e}\")\n"
   ]
  },
  {
   "cell_type": "markdown",
   "id": "6cadacf1-b5db-4479-ae34-2fff44c368f8",
   "metadata": {},
   "source": [
    "## Guardar resultados"
   ]
  },
  {
   "cell_type": "code",
   "execution_count": null,
   "id": "f0fa4d03-3490-445c-ae7e-be3e299ddd81",
   "metadata": {},
   "outputs": [],
   "source": [
    "# Guardar resultados\n",
    "results_summary = {\n",
    "    'experiment_date': datetime.now().strftime('%Y-%m-%d %H:%M:%S'),\n",
    "    'best_model': best_overall,\n",
    "    'best_r2_score': comparison_df.loc[best_overall, 'R² Score'],\n",
    "    'best_rmse': comparison_df.loc[best_overall, 'RMSE'],\n",
    "    'best_mae': comparison_df.loc[best_overall, 'MAE'],\n",
    "    'total_features': X_train.shape[1],\n",
    "    'training_samples': X_train.shape[0],\n",
    "    'test_samples': X_test.shape[0]\n",
    "}\n",
    "\n",
    "# Guardar comparación de modelos\n",
    "comparison_df.to_csv('../data/processed/regression_models_comparison.csv')\n",
    "print(f\"📁 Comparación guardada en: ../data/processed/regression_models_comparison.csv\")\n",
    "\n",
    "# Guardar resumen\n",
    "import json\n",
    "with open('../data/processed/regression_results_summary.json', 'w') as f:\n",
    "    json.dump(results_summary, f, indent=2)\n",
    "\n",
    "print(f\"📁 Resumen guardado en: ../data/processed/regression_results_summary.json\")\n"
   ]
  },
  {
   "cell_type": "code",
   "execution_count": null,
   "id": "67ad12fa-8c10-4677-9045-055ce86b5c5f",
   "metadata": {},
   "outputs": [],
   "source": [
    "print(\"\\n\" + \"=\"*60)\n",
    "print(\"🎯 RESUMEN DE MODELOS DE REGRESIÓN\")\n",
    "print(\"=\"*60)\n",
    "print(f\"✅ Modelos entrenados: {len(models_comparison)}\")\n",
    "print(f\"🏆 Mejor modelo: {best_overall}\")\n",
    "print(f\"📊 Mejor R² Score: {comparison_df.loc[best_overall, 'R² Score']:.4f}\")\n",
    "print(f\"📉 Mejor RMSE: {comparison_df.loc[best_overall, 'RMSE']:.4f}\")\n",
    "print(f\"📈 Features utilizadas: {X_train.shape[1]}\")\n",
    "print(f\"🔄 Listo para optimización en Fase 5\")\n",
    "print(\"=\"*60)"
   ]
  },
  {
   "cell_type": "markdown",
   "id": "7caba989-5204-4a87-8df5-ac3dfa4c4c88",
   "metadata": {},
   "source": [
    "   "
   ]
  },
  {
   "cell_type": "markdown",
   "id": "4007363e-4a35-47fc-8753-8324cd3dc0ea",
   "metadata": {},
   "source": [
    "---"
   ]
  },
  {
   "cell_type": "markdown",
   "id": "dff19c48-7b23-403c-9293-be1f380c0766",
   "metadata": {},
   "source": [
    "__Abraham Tartalos__"
   ]
  }
 ],
 "metadata": {
  "kernelspec": {
   "display_name": "Python 3.10 (Alzheimer)",
   "language": "python",
   "name": "alzheimer-env-py310"
  },
  "language_info": {
   "codemirror_mode": {
    "name": "ipython",
    "version": 3
   },
   "file_extension": ".py",
   "mimetype": "text/x-python",
   "name": "python",
   "nbconvert_exporter": "python",
   "pygments_lexer": "ipython3",
   "version": "3.10.17"
  }
 },
 "nbformat": 4,
 "nbformat_minor": 5
}
