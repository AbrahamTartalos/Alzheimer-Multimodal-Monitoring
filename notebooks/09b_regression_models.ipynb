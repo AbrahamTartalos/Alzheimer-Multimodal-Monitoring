{
 "cells": [
  {
   "cell_type": "markdown",
   "id": "fd9ea5a1-c1df-40b2-805d-0c822544a8b9",
   "metadata": {},
   "source": [
    "# 04b - Regression Models for Risk Score Prediction\n",
    "\n",
    "**Objetivo**: Desarrollar modelos de regresión para predecir el `composite_risk_score` continuo\n",
    " \n",
    "**Modelos a desarrollar**:\n",
    "- Linear Regression (baseline)\n",
    "- Random Forest Regressor\n",
    "- XGBoost Regressor\n",
    "- Support Vector Regressor\n",
    "- Neural Network Regressor"
   ]
  },
  {
   "cell_type": "markdown",
   "id": "cd0c3224-9980-41fb-90d7-2769c2be2543",
   "metadata": {},
   "source": [
    "   "
   ]
  },
  {
   "cell_type": "markdown",
   "id": "8d04e432-fc8b-403f-9111-0948ab575fed",
   "metadata": {},
   "source": [
    "---"
   ]
  },
  {
   "cell_type": "markdown",
   "id": "e6043910-407b-46d6-87bb-b1abcc06fdb9",
   "metadata": {},
   "source": [
    "## Importar Librerías"
   ]
  },
  {
   "cell_type": "code",
   "execution_count": 8,
   "id": "0c4b1430-75ee-4030-a132-996dfd23bec6",
   "metadata": {},
   "outputs": [],
   "source": [
    "import sys\n",
    "import os\n",
    "sys.path.append('../src/modeling')\n",
    "\n",
    "import pandas as pd\n",
    "import numpy as np\n",
    "import matplotlib.pyplot as plt\n",
    "import seaborn as sns\n",
    "from datetime import datetime\n",
    "import warnings\n",
    "warnings.filterwarnings('ignore')\n",
    "\n",
    "# Importar pipeline de regresión\n",
    "from regression_pipeline import RegressionPipeline\n",
    "from model_utils import load_processed_data, save_model_artifacts\n",
    "import mlflow\n",
    "import mlflow.sklearn"
   ]
  },
  {
   "cell_type": "markdown",
   "id": "b36cbaa7-c965-49a7-8433-3dd965db7cfe",
   "metadata": {},
   "source": [
    "## Configuraciones"
   ]
  },
  {
   "cell_type": "code",
   "execution_count": 15,
   "id": "b44c0d41-d076-4b1e-a55c-b025938da515",
   "metadata": {},
   "outputs": [
    {
     "name": "stdout",
     "output_type": "stream",
     "text": [
      "✅ Librerías y módulos importados correctamente\n",
      "📅 Fecha de ejecución: 2025-06-15 08:20:51\n"
     ]
    }
   ],
   "source": [
    "# Configuración\n",
    "plt.style.use('seaborn-v0_8')\n",
    "sns.set_palette(\"husl\")\n",
    "\n",
    "print(\"✅ Librerías y módulos importados correctamente\")\n",
    "print(f\"📅 Fecha de ejecución: {datetime.now().strftime('%Y-%m-%d %H:%M:%S')}\")"
   ]
  },
  {
   "cell_type": "code",
   "execution_count": 10,
   "id": "1ee8628d-7fc3-49d8-b3ba-e092235b6231",
   "metadata": {},
   "outputs": [
    {
     "name": "stderr",
     "output_type": "stream",
     "text": [
      "2025/06/14 11:49:21 INFO mlflow.tracking.fluent: Experiment with name 'alzheimer_multimodal_monitoring' does not exist. Creating a new experiment.\n"
     ]
    },
    {
     "name": "stdout",
     "output_type": "stream",
     "text": [
      "🔧 MLflow configurado para modelos de regresión\n",
      "🎯 Target: composite_risk_score (regresión continua)\n"
     ]
    }
   ],
   "source": [
    "# Configuración MLflow\n",
    "mlflow.set_experiment(\"alzheimer_multimodal_monitoring\")\n",
    "\n",
    "print(\"🔧 MLflow configurado para modelos de regresión\")\n",
    "print(\"🎯 Target: composite_risk_score (regresión continua)\")\n"
   ]
  },
  {
   "cell_type": "code",
   "execution_count": 16,
   "id": "2b827dd6-a5c1-4429-893c-53d178931695",
   "metadata": {},
   "outputs": [
    {
     "name": "stdout",
     "output_type": "stream",
     "text": [
      "ID del experimento: 503314857977141831\n",
      "Ubicación: file:///E:/usuarios/alumno/Escritorio/Alzheimer-Multimodal-Monitoring/notebooks/mlruns/503314857977141831\n"
     ]
    }
   ],
   "source": [
    "# Agrega después de tu configuración:\n",
    "experiment = mlflow.get_experiment_by_name(\"alzheimer_multimodal_monitoring\")\n",
    "print(f\"ID del experimento: {experiment.experiment_id}\")\n",
    "print(f\"Ubicación: {experiment.artifact_location}\")"
   ]
  },
  {
   "cell_type": "markdown",
   "id": "5ce7cb23-8132-4a33-9c9a-f06a853621e8",
   "metadata": {},
   "source": [
    "## Cargar datos procesados"
   ]
  },
  {
   "cell_type": "code",
   "execution_count": 17,
   "id": "28ab9cab-ea31-487a-9711-f8002acd7acb",
   "metadata": {},
   "outputs": [
    {
     "name": "stdout",
     "output_type": "stream",
     "text": [
      "📊 Dataset cargado: (48466, 189)\n",
      "📈 Registros con score válido: 48466\n",
      "\n",
      "📊 ESTADÍSTICAS DEL TARGET:\n",
      "   • Media: 0.367\n",
      "   • Desviación estándar: 0.213\n",
      "   • Rango: [0.000, 0.929]\n"
     ]
    }
   ],
   "source": [
    "# Cargar datos procesados\n",
    "try:\n",
    "    df = pd.read_csv('../data/processed/features/alzheimer_features_selected_20250605.csv')\n",
    "    print(f\"📊 Dataset cargado: {df.shape}\")\n",
    "    print(f\"📈 Registros con score válido: {df['composite_risk_score'].notna().sum()}\")\n",
    "    \n",
    "    # Información del target\n",
    "    target_stats = df['composite_risk_score'].describe()\n",
    "    print(f\"\\n📊 ESTADÍSTICAS DEL TARGET:\")\n",
    "    print(f\"   • Media: {target_stats['mean']:.3f}\")\n",
    "    print(f\"   • Desviación estándar: {target_stats['std']:.3f}\")\n",
    "    print(f\"   • Rango: [{target_stats['min']:.3f}, {target_stats['max']:.3f}]\")\n",
    "    \n",
    "except FileNotFoundError:\n",
    "    print(\"❌ Error: Archivo no encontrado\")\n",
    "    print(\"💡 Ejecuta primero el notebook de feature engineering\")"
   ]
  },
  {
   "cell_type": "code",
   "execution_count": 14,
   "id": "845a59fe-ad11-4061-a632-3190791650d9",
   "metadata": {},
   "outputs": [
    {
     "ename": "TypeError",
     "evalue": "RegressionPipeline.__init__() got an unexpected keyword argument 'target_column'",
     "output_type": "error",
     "traceback": [
      "\u001b[1;31m---------------------------------------------------------------------------\u001b[0m",
      "\u001b[1;31mTypeError\u001b[0m                                 Traceback (most recent call last)",
      "Cell \u001b[1;32mIn[14], line 2\u001b[0m\n\u001b[0;32m      1\u001b[0m \u001b[38;5;66;03m# Inicializar pipeline de regresión\u001b[39;00m\n\u001b[1;32m----> 2\u001b[0m regression_pipeline \u001b[38;5;241m=\u001b[39m \u001b[43mRegressionPipeline\u001b[49m\u001b[43m(\u001b[49m\n\u001b[0;32m      3\u001b[0m \u001b[43m    \u001b[49m\u001b[43mtarget_column\u001b[49m\u001b[38;5;241;43m=\u001b[39;49m\u001b[38;5;124;43m'\u001b[39;49m\u001b[38;5;124;43mcomposite_risk_score\u001b[39;49m\u001b[38;5;124;43m'\u001b[39;49m\u001b[43m,\u001b[49m\n\u001b[0;32m      4\u001b[0m \u001b[43m    \u001b[49m\u001b[43mtest_size\u001b[49m\u001b[38;5;241;43m=\u001b[39;49m\u001b[38;5;241;43m0.2\u001b[39;49m\u001b[43m,\u001b[49m\n\u001b[0;32m      5\u001b[0m \u001b[43m    \u001b[49m\u001b[43mrandom_state\u001b[49m\u001b[38;5;241;43m=\u001b[39;49m\u001b[38;5;241;43m42\u001b[39;49m\n\u001b[0;32m      6\u001b[0m \u001b[43m)\u001b[49m\n\u001b[0;32m      8\u001b[0m \u001b[38;5;28mprint\u001b[39m(\u001b[38;5;124m\"\u001b[39m\u001b[38;5;124m🔧 Pipeline de regresión inicializado\u001b[39m\u001b[38;5;124m\"\u001b[39m)\n\u001b[0;32m      9\u001b[0m \u001b[38;5;28mprint\u001b[39m(\u001b[38;5;124mf\u001b[39m\u001b[38;5;124m\"\u001b[39m\u001b[38;5;124m   • Target: \u001b[39m\u001b[38;5;132;01m{\u001b[39;00mregression_pipeline\u001b[38;5;241m.\u001b[39mtarget_column\u001b[38;5;132;01m}\u001b[39;00m\u001b[38;5;124m\"\u001b[39m)\n",
      "\u001b[1;31mTypeError\u001b[0m: RegressionPipeline.__init__() got an unexpected keyword argument 'target_column'"
     ]
    }
   ],
   "source": [
    "# Inicializar pipeline de regresión\n",
    "regression_pipeline = RegressionPipeline(\n",
    "    target_column='composite_risk_score',\n",
    "    test_size=0.2,\n",
    "    random_state=42\n",
    ")\n",
    "\n",
    "print(\"🔧 Pipeline de regresión inicializado\")\n",
    "print(f\"   • Target: {regression_pipeline.target_column}\")\n",
    "print(f\"   • Test size: {regression_pipeline.test_size}\")"
   ]
  },
  {
   "cell_type": "markdown",
   "id": "75072b7b-1ff6-4a51-b97f-2d356b13e6d8",
   "metadata": {},
   "source": [
    "## Preparación de datos para modelado"
   ]
  },
  {
   "cell_type": "code",
   "execution_count": null,
   "id": "3ce4cced-d4a1-46bf-99de-f3f4086f0a9f",
   "metadata": {},
   "outputs": [],
   "source": [
    "X_train, X_test, y_train, y_test = regression_pipeline.prepare_data(df)\n",
    "\n",
    "print(f\"📊 DIVISIÓN DE DATOS:\")\n",
    "print(f\"   • Training set: {X_train.shape}\")\n",
    "print(f\"   • Test set: {X_test.shape}\")\n",
    "print(f\"   • Features utilizadas: {X_train.shape[1]}\")\n",
    "print(f\"   • Target range - Train: [{y_train.min():.3f}, {y_train.max():.3f}]\")\n",
    "print(f\"   • Target range - Test: [{y_test.min():.3f}, {y_test.max():.3f}]\")\n"
   ]
  },
  {
   "cell_type": "markdown",
   "id": "2837cc70-03cf-42d5-b795-315372632b4a",
   "metadata": {},
   "source": [
    "## Definición de modelos"
   ]
  },
  {
   "cell_type": "code",
   "execution_count": null,
   "id": "5a2dba6a-64ed-4a46-9b32-269f2a139727",
   "metadata": {},
   "outputs": [],
   "source": [
    "# 1. Linear Regression (Baseline)\n",
    "with mlflow.start_run(run_name=\"linear_regression_baseline\"):\n",
    "    print(\"\\n🔹 Entrenando Linear Regression...\")\n",
    "    \n",
    "    lr_results = regression_pipeline.train_linear_regression(\n",
    "        X_train, y_train, X_test, y_test\n",
    "    )\n",
    "    \n",
    "    print(f\"✅ Linear Regression completado\")\n",
    "    print(f\"   • R² Score: {lr_results['r2_score']:.4f}\")\n",
    "    print(f\"   • RMSE: {lr_results['rmse']:.4f}\")\n",
    "    print(f\"   • MAE: {lr_results['mae']:.4f}\")\n",
    "\n",
    "# %%\n",
    "# 2. Random Forest Regressor\n",
    "with mlflow.start_run(run_name=\"random_forest_regressor\"):\n",
    "    print(\"\\n🌲 Entrenando Random Forest...\")\n",
    "    \n",
    "    rf_results = regression_pipeline.train_random_forest(\n",
    "        X_train, y_train, X_test, y_test,\n",
    "        n_estimators=100,\n",
    "        max_depth=10,\n",
    "        min_samples_split=5\n",
    "    )\n",
    "    \n",
    "    print(f\"✅ Random Forest completado\")\n",
    "    print(f\"   • R² Score: {rf_results['r2_score']:.4f}\")\n",
    "    print(f\"   • RMSE: {rf_results['rmse']:.4f}\")\n",
    "    print(f\"   • MAE: {rf_results['mae']:.4f}\")\n",
    "\n",
    "# %%\n",
    "# 3. XGBoost Regressor\n",
    "with mlflow.start_run(run_name=\"xgboost_regressor\"):\n",
    "    print(\"\\n🚀 Entrenando XGBoost...\")\n",
    "    \n",
    "    xgb_results = regression_pipeline.train_xgboost(\n",
    "        X_train, y_train, X_test, y_test,\n",
    "        n_estimators=100,\n",
    "        max_depth=6,\n",
    "        learning_rate=0.1\n",
    "    )\n",
    "    \n",
    "    print(f\"✅ XGBoost completado\")\n",
    "    print(f\"   • R² Score: {xgb_results['r2_score']:.4f}\")\n",
    "    print(f\"   • RMSE: {xgb_results['rmse']:.4f}\")\n",
    "    print(f\"   • MAE: {xgb_results['mae']:.4f}\")\n",
    "\n",
    "# %%\n",
    "# 4. Support Vector Regressor\n",
    "with mlflow.start_run(run_name=\"svr_regressor\"):\n",
    "    print(\"\\n⚡ Entrenando Support Vector Regressor...\")\n",
    "    \n",
    "    svr_results = regression_pipeline.train_svr(\n",
    "        X_train, y_train, X_test, y_test,\n",
    "        kernel='rbf',\n",
    "        C=1.0,\n",
    "        gamma='scale'\n",
    "    )\n",
    "    \n",
    "    print(f\"✅ SVR completado\")\n",
    "    print(f\"   • R² Score: {svr_results['r2_score']:.4f}\")\n",
    "    print(f\"   • RMSE: {svr_results['rmse']:.4f}\")\n",
    "    print(f\"   • MAE: {svr_results['mae']:.4f}\")\n",
    "\n",
    "# %%\n",
    "# 5. Neural Network Regressor\n",
    "with mlflow.start_run(run_name=\"neural_network_regressor\"):\n",
    "    print(\"\\n🧠 Entrenando Neural Network...\")\n",
    "    \n",
    "    nn_results = regression_pipeline.train_neural_network(\n",
    "        X_train, y_train, X_test, y_test,\n",
    "        hidden_layer_sizes=(100, 50),\n",
    "        max_iter=500,\n",
    "        learning_rate_init=0.001\n",
    "    )\n",
    "    \n",
    "    print(f\"✅ Neural Network completado\")\n",
    "    print(f\"   • R² Score: {nn_results['r2_score']:.4f}\")\n",
    "    print(f\"   • RMSE: {nn_results['rmse']:.4f}\")\n",
    "    print(f\"   • MAE: {nn_results['mae']:.4f}\")"
   ]
  },
  {
   "cell_type": "markdown",
   "id": "23c5f4c4-76ce-4fec-b43d-6915da60f755",
   "metadata": {},
   "source": [
    "## Comparaci{on de modelos"
   ]
  },
  {
   "cell_type": "code",
   "execution_count": null,
   "id": "8c389ba4-4243-4dc1-9f3a-35e711d5a231",
   "metadata": {},
   "outputs": [],
   "source": [
    "# Comparación de modelos\n",
    "models_comparison = {\n",
    "    'Linear Regression': lr_results,\n",
    "    'Random Forest': rf_results,\n",
    "    'XGBoost': xgb_results,\n",
    "    'SVR': svr_results,\n",
    "    'Neural Network': nn_results\n",
    "}\n",
    "\n",
    "# Crear DataFrame de comparación\n",
    "comparison_df = pd.DataFrame({\n",
    "    model_name: {\n",
    "        'R² Score': results['r2_score'],\n",
    "        'RMSE': results['rmse'],\n",
    "        'MAE': results['mae'],\n",
    "        'Training Time (s)': results.get('training_time', 0)\n",
    "    }\n",
    "    for model_name, results in models_comparison.items()\n",
    "}).T\n",
    "\n",
    "print(\"\\n📊 COMPARACIÓN DE MODELOS DE REGRESIÓN\")\n",
    "print(\"=\" * 60)\n",
    "print(comparison_df.round(4))\n"
   ]
  },
  {
   "cell_type": "code",
   "execution_count": null,
   "id": "2508e5b0-1fd4-4b7b-9efa-156c577a2527",
   "metadata": {},
   "outputs": [],
   "source": [
    "# Visualizaciones de comparación\n",
    "fig, axes = plt.subplots(2, 2, figsize=(15, 12))\n",
    "\n",
    "# R² Score comparison\n",
    "comparison_df['R² Score'].plot(kind='bar', ax=axes[0,0], color='skyblue')\n",
    "axes[0,0].set_title('R² Score por Modelo')\n",
    "axes[0,0].set_ylabel('R² Score')\n",
    "axes[0,0].tick_params(axis='x', rotation=45)\n",
    "\n",
    "# RMSE comparison\n",
    "comparison_df['RMSE'].plot(kind='bar', ax=axes[0,1], color='lightcoral')\n",
    "axes[0,1].set_title('RMSE por Modelo')\n",
    "axes[0,1].set_ylabel('RMSE')\n",
    "axes[0,1].tick_params(axis='x', rotation=45)\n",
    "\n",
    "# MAE comparison\n",
    "comparison_df['MAE'].plot(kind='bar', ax=axes[1,0], color='lightgreen')\n",
    "axes[1,0].set_title('MAE por Modelo')\n",
    "axes[1,0].set_ylabel('MAE')\n",
    "axes[1,0].tick_params(axis='x', rotation=45)\n",
    "\n",
    "# Training Time comparison\n",
    "if 'Training Time (s)' in comparison_df.columns:\n",
    "    comparison_df['Training Time (s)'].plot(kind='bar', ax=axes[1,1], color='orange')\n",
    "    axes[1,1].set_title('Tiempo de Entrenamiento')\n",
    "    axes[1,1].set_ylabel('Segundos')\n",
    "    axes[1,1].tick_params(axis='x', rotation=45)\n",
    "\n",
    "plt.tight_layout()\n",
    "plt.show()"
   ]
  },
  {
   "cell_type": "markdown",
   "id": "04e0a735-e629-435b-be0f-4a52267159d6",
   "metadata": {},
   "source": [
    "## Identificar mejor modelo"
   ]
  },
  {
   "cell_type": "code",
   "execution_count": null,
   "id": "ba752de3-9338-4522-b8a9-2ee56daf8b49",
   "metadata": {},
   "outputs": [],
   "source": [
    "# Identificar mejor modelo\n",
    "best_model_r2 = comparison_df['R² Score'].idxmax()\n",
    "best_model_rmse = comparison_df['RMSE'].idxmin()\n",
    "best_model_mae = comparison_df['MAE'].idxmin()\n",
    "\n",
    "print(f\"\\n🏆 MEJORES MODELOS POR MÉTRICA:\")\n",
    "print(f\"   • Mejor R² Score: {best_model_r2} ({comparison_df.loc[best_model_r2, 'R² Score']:.4f})\")\n",
    "print(f\"   • Mejor RMSE: {best_model_rmse} ({comparison_df.loc[best_model_rmse, 'RMSE']:.4f})\")\n",
    "print(f\"   • Mejor MAE: {best_model_mae} ({comparison_df.loc[best_model_mae, 'MAE']:.4f})\")\n",
    "\n",
    "# Modelo recomendado (mejor balance)\n",
    "comparison_df['Score_Compuesto'] = (\n",
    "    comparison_df['R² Score'] * 0.4 +\n",
    "    (1 - comparison_df['RMSE'] / comparison_df['RMSE'].max()) * 0.3 +\n",
    "    (1 - comparison_df['MAE'] / comparison_df['MAE'].max()) * 0.3\n",
    ")\n",
    "\n",
    "best_overall = comparison_df['Score_Compuesto'].idxmax()\n",
    "print(f\"\\n⭐ MODELO RECOMENDADO: {best_overall}\")\n",
    "print(f\"   • Score Compuesto: {comparison_df.loc[best_overall, 'Score_Compuesto']:.4f}\")\n"
   ]
  },
  {
   "cell_type": "code",
   "execution_count": null,
   "id": "f6b6ed3f-421a-4217-928c-82ceb8378426",
   "metadata": {},
   "outputs": [],
   "source": [
    "# Análisis de residuos del mejor modelo\n",
    "best_model_results = models_comparison[best_overall]\n",
    "residuals = best_model_results['predictions'] - best_model_results['y_true']\n",
    "\n",
    "fig, axes = plt.subplots(1, 2, figsize=(15, 6))\n",
    "\n",
    "# Scatter plot: Predicciones vs Valores reales\n",
    "axes[0].scatter(best_model_results['y_true'], best_model_results['predictions'], \n",
    "               alpha=0.6, color='blue')\n",
    "axes[0].plot([best_model_results['y_true'].min(), best_model_results['y_true'].max()], \n",
    "             [best_model_results['y_true'].min(), best_model_results['y_true'].max()], \n",
    "             'r--', lw=2)\n",
    "axes[0].set_xlabel('Valores Reales')\n",
    "axes[0].set_ylabel('Predicciones')\n",
    "axes[0].set_title(f'Predicciones vs Reales - {best_overall}')\n",
    "\n",
    "# Histograma de residuos\n",
    "axes[1].hist(residuals, bins=30, alpha=0.7, color='green')\n",
    "axes[1].set_xlabel('Residuos')\n",
    "axes[1].set_ylabel('Frecuencia')\n",
    "axes[1].set_title(f'Distribución de Residuos - {best_overall}')\n",
    "axes[1].axvline(x=0, color='red', linestyle='--')\n",
    "\n",
    "plt.tight_layout()\n",
    "plt.show()\n",
    "\n",
    "print(f\"\\n📊 ANÁLISIS DE RESIDUOS ({best_overall}):\")\n",
    "print(f\"   • Media de residuos: {residuals.mean():.6f}\")\n",
    "print(f\"   • Desviación estándar: {residuals.std():.4f}\")\n",
    "print(f\"   • Residuos dentro de ±1σ: {(np.abs(residuals) <= residuals.std()).mean()*100:.1f}%\")\n",
    "\n",
    "# %%\n",
    "# Análisis de importancia de features (si disponible)\n",
    "if hasattr(regression_pipeline, 'get_feature_importance'):\n",
    "    print(\"\\n🔍 ANÁLISIS DE IMPORTANCIA DE FEATURES\")\n",
    "    print(\"=\" * 50)\n",
    "    \n",
    "    try:\n",
    "        feature_importance = regression_pipeline.get_feature_importance(best_overall)\n",
    "        \n",
    "        if feature_importance is not None:\n",
    "            # Top 15 features más importantes\n",
    "            top_features = feature_importance.head(15)\n",
    "            \n",
    "            plt.figure(figsize=(12, 8))\n",
    "            top_features.plot(kind='barh', color='steelblue')\n",
    "            plt.title(f'Top 15 Features Más Importantes - {best_overall}')\n",
    "            plt.xlabel('Importancia')\n",
    "            plt.tight_layout()\n",
    "            plt.show()\n",
    "            \n",
    "            print(\"🔝 TOP 10 FEATURES MÁS IMPORTANTES:\")\n",
    "            for i, (feature, importance) in enumerate(top_features.head(10).items(), 1):\n",
    "                print(f\"   {i:2d}. {feature}: {importance:.4f}\")\n",
    "        \n",
    "    except Exception as e:\n",
    "        print(f\"⚠️  No se pudo obtener importancia de features: {e}\")\n"
   ]
  },
  {
   "cell_type": "markdown",
   "id": "6cadacf1-b5db-4479-ae34-2fff44c368f8",
   "metadata": {},
   "source": [
    "## Guardar resultados"
   ]
  },
  {
   "cell_type": "code",
   "execution_count": null,
   "id": "f0fa4d03-3490-445c-ae7e-be3e299ddd81",
   "metadata": {},
   "outputs": [],
   "source": [
    "# Guardar resultados\n",
    "results_summary = {\n",
    "    'experiment_date': datetime.now().strftime('%Y-%m-%d %H:%M:%S'),\n",
    "    'best_model': best_overall,\n",
    "    'best_r2_score': comparison_df.loc[best_overall, 'R² Score'],\n",
    "    'best_rmse': comparison_df.loc[best_overall, 'RMSE'],\n",
    "    'best_mae': comparison_df.loc[best_overall, 'MAE'],\n",
    "    'total_features': X_train.shape[1],\n",
    "    'training_samples': X_train.shape[0],\n",
    "    'test_samples': X_test.shape[0]\n",
    "}\n",
    "\n",
    "# Guardar comparación de modelos\n",
    "comparison_df.to_csv('../data/processed/regression_models_comparison.csv')\n",
    "print(f\"📁 Comparación guardada en: ../data/processed/regression_models_comparison.csv\")\n",
    "\n",
    "# Guardar resumen\n",
    "import json\n",
    "with open('../data/processed/regression_results_summary.json', 'w') as f:\n",
    "    json.dump(results_summary, f, indent=2)\n",
    "\n",
    "print(f\"📁 Resumen guardado en: ../data/processed/regression_results_summary.json\")\n"
   ]
  },
  {
   "cell_type": "code",
   "execution_count": null,
   "id": "67ad12fa-8c10-4677-9045-055ce86b5c5f",
   "metadata": {},
   "outputs": [],
   "source": [
    "print(\"\\n\" + \"=\"*60)\n",
    "print(\"🎯 RESUMEN DE MODELOS DE REGRESIÓN\")\n",
    "print(\"=\"*60)\n",
    "print(f\"✅ Modelos entrenados: {len(models_comparison)}\")\n",
    "print(f\"🏆 Mejor modelo: {best_overall}\")\n",
    "print(f\"📊 Mejor R² Score: {comparison_df.loc[best_overall, 'R² Score']:.4f}\")\n",
    "print(f\"📉 Mejor RMSE: {comparison_df.loc[best_overall, 'RMSE']:.4f}\")\n",
    "print(f\"📈 Features utilizadas: {X_train.shape[1]}\")\n",
    "print(f\"🔄 Listo para optimización en Fase 5\")\n",
    "print(\"=\"*60)"
   ]
  },
  {
   "cell_type": "markdown",
   "id": "7caba989-5204-4a87-8df5-ac3dfa4c4c88",
   "metadata": {},
   "source": [
    "   "
   ]
  },
  {
   "cell_type": "markdown",
   "id": "4007363e-4a35-47fc-8753-8324cd3dc0ea",
   "metadata": {},
   "source": [
    "---"
   ]
  },
  {
   "cell_type": "markdown",
   "id": "dff19c48-7b23-403c-9293-be1f380c0766",
   "metadata": {},
   "source": [
    "__Abraham Tartalos__"
   ]
  }
 ],
 "metadata": {
  "kernelspec": {
   "display_name": "Python 3.10 (Alzheimer)",
   "language": "python",
   "name": "alzheimer-env-py310"
  },
  "language_info": {
   "codemirror_mode": {
    "name": "ipython",
    "version": 3
   },
   "file_extension": ".py",
   "mimetype": "text/x-python",
   "name": "python",
   "nbconvert_exporter": "python",
   "pygments_lexer": "ipython3",
   "version": "3.10.17"
  }
 },
 "nbformat": 4,
 "nbformat_minor": 5
}
