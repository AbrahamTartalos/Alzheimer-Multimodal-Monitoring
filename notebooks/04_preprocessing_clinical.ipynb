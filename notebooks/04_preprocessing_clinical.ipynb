{
 "cells": [
  {
   "cell_type": "markdown",
   "id": "148d70cd-632b-4fc9-bd65-c6aecafc4ebe",
   "metadata": {},
   "source": [
    "# 04_preprocessing_clinical.ipynb - Preprocesamiento de Datos Clínicos\n",
    "\n",
    "## Introducción\n",
    "\n",
    "Este notebook implementa el preprocesamiento de los datos clínicos del proyecto de Monitorización Multimodal de Alzheimer. Trabajaremos con los conjuntos de datos CDR.csv (Clinical Dementia Rating) y DXSUM.csv (Diagnóstico), aplicando las recomendaciones derivadas del análisis exploratorio previo.\n"
   ]
  },
  {
   "cell_type": "markdown",
   "id": "b75c43fa-1cbc-4f53-b3a2-1e7a34c4d35d",
   "metadata": {},
   "source": [
    "***"
   ]
  },
  {
   "cell_type": "markdown",
   "id": "85542a2e-254b-4565-9012-af2d2fad2837",
   "metadata": {},
   "source": [
    "   "
   ]
  },
  {
   "cell_type": "markdown",
   "id": "4bf012c2-12d5-48f1-a053-bffe3c88f285",
   "metadata": {},
   "source": [
    "## 1. Configuración inicial"
   ]
  },
  {
   "cell_type": "code",
   "execution_count": 2,
   "id": "0c04c622-d5a4-4d15-a395-6eeac6649b1a",
   "metadata": {},
   "outputs": [],
   "source": [
    "# Importación de librerías necesarias\n",
    "import pandas as pd\n",
    "import numpy as np\n",
    "import matplotlib.pyplot as plt\n",
    "import seaborn as sns\n",
    "from scipy import stats\n",
    "from sklearn.impute import KNNImputer\n",
    "import os\n",
    "import warnings\n",
    "warnings.filterwarnings('ignore')"
   ]
  },
  {
   "cell_type": "code",
   "execution_count": 3,
   "id": "dffabacd-7323-4add-8c5b-b34ac7906bfb",
   "metadata": {},
   "outputs": [],
   "source": [
    "# Configuración de visualización\n",
    "plt.style.use('seaborn-v0_8-whitegrid')\n",
    "sns.set_palette(\"viridis\")\n",
    "\n",
    "%matplotlib inline"
   ]
  },
  {
   "cell_type": "markdown",
   "id": "637d7df0-da6a-426e-91b9-3263197add16",
   "metadata": {},
   "source": [
    "## 2. Carga de datos"
   ]
  },
  {
   "cell_type": "code",
   "execution_count": 4,
   "id": "8819ed52-59a4-45fd-a217-e80f86b3cd6f",
   "metadata": {},
   "outputs": [
    {
     "name": "stdout",
     "output_type": "stream",
     "text": [
      "CDR dataset: 14102 filas, 25 columnas\n",
      "DXSUM dataset: 14880 filas, 41 columnas\n"
     ]
    }
   ],
   "source": [
    "# Definir la ruta a los datos (ajustar según sea necesario)\n",
    "data_path = \"../data/raw/adni/clinical/\"\n",
    "\n",
    "# Cargar los datasets\n",
    "cdr_df = pd.read_csv(os.path.join(data_path, \"CDR.csv\"))\n",
    "dx_df = pd.read_csv(os.path.join(data_path, \"DXSUM.csv\"))\n",
    "\n",
    "print(f\"CDR dataset: {cdr_df.shape[0]} filas, {cdr_df.shape[1]} columnas\")\n",
    "print(f\"DXSUM dataset: {dx_df.shape[0]} filas, {dx_df.shape[1]} columnas\")"
   ]
  },
  {
   "cell_type": "markdown",
   "id": "2c6d40c1-6cc5-4699-b3ff-e3e38a30b048",
   "metadata": {},
   "source": [
    "## 3. Preprocesamiento de los datos CDR"
   ]
  },
  {
   "cell_type": "markdown",
   "id": "5e145a6e-3b53-4de0-90d2-9423e1383291",
   "metadata": {},
   "source": [
    "### 3.1 Selección de variables relevantes y limpieza básica"
   ]
  },
  {
   "cell_type": "code",
   "execution_count": 5,
   "id": "35e40ebe-573f-4f20-bed2-052bd047bb34",
   "metadata": {},
   "outputs": [
    {
     "name": "stdout",
     "output_type": "stream",
     "text": [
      "Valores faltantes en dataset CDR:\n",
      "PTID          0\n",
      "RID           0\n",
      "VISCODE       0\n",
      "VISCODE2     15\n",
      "VISDATE       7\n",
      "CDMEMORY     96\n",
      "CDORIENT     95\n",
      "CDJUDGE      95\n",
      "CDCOMMUN     96\n",
      "CDHOME       96\n",
      "CDCARE       96\n",
      "CDGLOBAL    101\n",
      "CDRSB       230\n",
      "dtype: int64\n"
     ]
    }
   ],
   "source": [
    "# Seleccionar columnas relevantes del dataset CDR\n",
    "cdr_relevant = cdr_df[['PTID', 'RID', 'VISCODE', 'VISCODE2', 'VISDATE', \n",
    "                       'CDMEMORY', 'CDORIENT', 'CDJUDGE', 'CDCOMMUN',\n",
    "                       'CDHOME', 'CDCARE', 'CDGLOBAL', 'CDRSB']]\n",
    "\n",
    "# Convertir fecha de visita a datetime\n",
    "cdr_relevant['VISDATE'] = pd.to_datetime(cdr_relevant['VISDATE'], errors='coerce')\n",
    "\n",
    "# Verificar valores faltantes\n",
    "print(\"Valores faltantes en dataset CDR:\")\n",
    "print(cdr_relevant.isnull().sum())"
   ]
  },
  {
   "cell_type": "markdown",
   "id": "f83a2888-bb70-4056-8c55-3bf1bb6a5046",
   "metadata": {},
   "source": [
    "### 3.2 Imputación de valores faltantes basada en diagnóstico"
   ]
  },
  {
   "cell_type": "code",
   "execution_count": 6,
   "id": "87fdb366-4cf4-4e8b-ab9b-3870ecce277a",
   "metadata": {},
   "outputs": [
    {
     "data": {
      "text/plain": [
       "Index(['PHASE', 'PTID', 'RID', 'VISCODE', 'VISCODE2', 'VISDATE', 'CDSOURCE',\n",
       "       'CDVERSION', 'SPID', 'CDMEMORY', 'CDORIENT', 'CDJUDGE', 'CDCOMMUN',\n",
       "       'CDHOME', 'CDCARE', 'CDGLOBAL', 'CDRSB', 'ID', 'SITEID', 'USERDATE',\n",
       "       'USERDATE2', 'DD_CRF_VERSION_LABEL', 'LANGUAGE_CODE', 'HAS_QC_ERROR',\n",
       "       'update_stamp'],\n",
       "      dtype='object')"
      ]
     },
     "metadata": {},
     "output_type": "display_data"
    },
    {
     "data": {
      "text/plain": [
       "Index(['PHASE', 'PTID', 'RID', 'VISCODE', 'VISCODE2', 'EXAMDATE', 'DIAGNOSIS',\n",
       "       'DXNORM', 'DXNODEP', 'DXMCI', 'DXMDES', 'DXMPTR1', 'DXMPTR2', 'DXMPTR3',\n",
       "       'DXMPTR4', 'DXMPTR5', 'DXMPTR6', 'DXMDUE', 'DXMOTHET', 'DXDSEV',\n",
       "       'DXDDUE', 'DXAD', 'DXAPP', 'DXAPROB', 'DXAPOSS', 'DXPARK', 'DXPDES',\n",
       "       'DXPCOG', 'DXPATYP', 'DXDEP', 'DXOTHDEM', 'DXODES', 'DXCONFID', 'ID',\n",
       "       'SITEID', 'USERDATE', 'USERDATE2', 'DD_CRF_VERSION_LABEL',\n",
       "       'LANGUAGE_CODE', 'HAS_QC_ERROR', 'update_stamp'],\n",
       "      dtype='object')"
      ]
     },
     "metadata": {},
     "output_type": "display_data"
    }
   ],
   "source": [
    "display(cdr_df.columns)\n",
    "display(dx_df.columns)"
   ]
  },
  {
   "cell_type": "code",
   "execution_count": 7,
   "id": "401e416b-78cc-4314-9afa-e17896cc01cc",
   "metadata": {},
   "outputs": [
    {
     "data": {
      "text/plain": [
       "array([ 1.,  3.,  2., nan])"
      ]
     },
     "metadata": {},
     "output_type": "display_data"
    }
   ],
   "source": [
    "display(dx_df['DIAGNOSIS'].unique())"
   ]
  },
  {
   "cell_type": "code",
   "execution_count": 8,
   "id": "828a3915-f1ca-4185-a098-d0268bb08d2a",
   "metadata": {},
   "outputs": [
    {
     "name": "stdout",
     "output_type": "stream",
     "text": [
      "\n",
      "Valores faltantes después de imputación:\n",
      "CDMEMORY    74\n",
      "CDORIENT    74\n",
      "CDJUDGE     74\n",
      "CDCOMMUN    75\n",
      "CDHOME      75\n",
      "CDCARE      75\n",
      "CDGLOBAL    77\n",
      "CDRSB       75\n",
      "dtype: int64\n"
     ]
    }
   ],
   "source": [
    "# Primero unimos temporalmente con dx_df para tener la información de diagnóstico\n",
    "dx_temp = dx_df[['PTID', 'RID', 'VISCODE', 'VISCODE2', 'DIAGNOSIS']]\n",
    "cdr_with_dx = pd.merge(cdr_relevant, dx_temp, on=['PTID', 'RID', 'VISCODE', 'VISCODE2'], how='left')\n",
    "\n",
    "# Función para imputación por subgrupo diagnóstico\n",
    "def impute_by_diagnosis(df, target_cols):\n",
    "    # Crear una copia para no modificar el original durante la iteración\n",
    "    result_df = df.copy()\n",
    "    \n",
    "    # Agrupar por diagnóstico para la imputación específica\n",
    "    diagnosis_groups = ['CN', 'MCI', 'AD', 'Unknown']\n",
    "    \n",
    "    for diag in diagnosis_groups:\n",
    "        if diag == 'Unknown':\n",
    "            mask = df['DIAGNOSIS'].isnull()\n",
    "        else:\n",
    "            mask = df['DIAGNOSIS'] == diag\n",
    "            \n",
    "        if mask.sum() > 0:\n",
    "            # Para cada grupo diagnóstico con suficientes datos, aplicar KNN\n",
    "            group_df = df[mask]\n",
    "            if group_df.shape[0] > 10:  # Verificar que hay suficientes datos\n",
    "                imputer = KNNImputer(n_neighbors=5)\n",
    "                # Aplicar imputación solo a las columnas objetivo\n",
    "                cols_to_impute = [col for col in target_cols if group_df[col].isnull().any()]\n",
    "                if cols_to_impute:\n",
    "                    imputed_values = imputer.fit_transform(group_df[cols_to_impute])\n",
    "                    result_df.loc[mask, cols_to_impute] = imputed_values\n",
    "            else:\n",
    "                # Si hay pocos datos, usar la mediana del grupo\n",
    "                for col in target_cols:\n",
    "                    if group_df[col].isnull().any():\n",
    "                        median_val = group_df[col].median()\n",
    "                        result_df.loc[mask & df[col].isnull(), col] = median_val\n",
    "    \n",
    "    return result_df\n",
    "\n",
    "# Columnas CDR para imputar\n",
    "cdr_components = ['CDMEMORY', 'CDORIENT', 'CDJUDGE', 'CDCOMMUN', 'CDHOME', 'CDCARE', 'CDGLOBAL']\n",
    "\n",
    "# Aplicar imputación\n",
    "cdr_imputed = impute_by_diagnosis(cdr_with_dx, cdr_components)\n",
    "\n",
    "# Recalcular CDRSB para casos donde se imputaron componentes pero CDRSB es NA\n",
    "mask_recalc = cdr_imputed['CDRSB'].isnull() & cdr_imputed[cdr_components].notna().all(axis=1)\n",
    "cdr_imputed.loc[mask_recalc, 'CDRSB'] = cdr_imputed.loc[mask_recalc, cdr_components].sum(axis=1)\n",
    "\n",
    "# Verificar imputación\n",
    "print(\"\\nValores faltantes después de imputación:\")\n",
    "print(cdr_imputed[cdr_components + ['CDRSB']].isnull().sum())\n",
    "\n",
    "# Eliminar la columna de diagnóstico que habíamos agregado temporalmente\n",
    "cdr_processed = cdr_imputed.drop(columns=['DIAGNOSIS'])"
   ]
  },
  {
   "cell_type": "markdown",
   "id": "a7f4743e-2603-49b1-968f-29e97c1fedfe",
   "metadata": {},
   "source": [
    "### 3.3 Crear variables derivadas para capturar cambios longitudinales"
   ]
  },
  {
   "cell_type": "code",
   "execution_count": 9,
   "id": "ebc719ff-18f8-4689-9a4a-e0e454168212",
   "metadata": {},
   "outputs": [
    {
     "name": "stdout",
     "output_type": "stream",
     "text": [
      "\n",
      "Estadísticas de cambios longitudinales:\n",
      "       CDRSB_CHANGE  CDRSB_CHANGE_ANNUAL\n",
      "count   9888.000000          9878.000000\n",
      "mean       0.381259                 -inf\n",
      "std        1.829429                  NaN\n",
      "min      -24.000000                 -inf\n",
      "25%        0.000000             0.000000\n",
      "50%        0.000000             0.000000\n",
      "75%        0.500000             0.857394\n",
      "max       24.000000           182.625000\n"
     ]
    }
   ],
   "source": [
    "# Ordenar datos por paciente y fecha de visita\n",
    "cdr_processed = cdr_processed.sort_values(['PTID', 'VISDATE'])\n",
    "\n",
    "# Función para calcular cambios entre visitas\n",
    "def calculate_longitudinal_changes(df):\n",
    "    # Crear una copia para no modificar el original\n",
    "    result_df = df.copy()\n",
    "    \n",
    "    # Inicializar columnas de cambio\n",
    "    result_df['CDRSB_CHANGE'] = np.nan\n",
    "    result_df['CDRSB_CHANGE_ANNUAL'] = np.nan\n",
    "    result_df['DAYS_SINCE_BASELINE'] = np.nan\n",
    "    \n",
    "    # Procesar cada paciente\n",
    "    for patient_id in df['PTID'].unique():\n",
    "        patient_data = df[df['PTID'] == patient_id].copy()\n",
    "        patient_data = patient_data.sort_values('VISDATE')\n",
    "        \n",
    "        if len(patient_data) <= 1:\n",
    "            continue  # Saltar pacientes con una sola visita\n",
    "            \n",
    "        # Calcular días desde la visita inicial\n",
    "        baseline_date = patient_data['VISDATE'].iloc[0]\n",
    "        patient_data['DAYS_SINCE_BASELINE'] = (patient_data['VISDATE'] - baseline_date).dt.days\n",
    "        \n",
    "        # Calcular cambios en CDRSB\n",
    "        patient_data['PREV_CDRSB'] = patient_data['CDRSB'].shift(1)\n",
    "        patient_data['PREV_DATE'] = patient_data['VISDATE'].shift(1)\n",
    "        mask = ~patient_data['PREV_CDRSB'].isnull()\n",
    "        \n",
    "        if mask.sum() > 0:\n",
    "            # Cambio absoluto\n",
    "            patient_data.loc[mask, 'CDRSB_CHANGE'] = patient_data.loc[mask, 'CDRSB'] - patient_data.loc[mask, 'PREV_CDRSB']\n",
    "            \n",
    "            # Cambio anualizado (ajustado por tiempo entre visitas)\n",
    "            days_diff = (patient_data.loc[mask, 'VISDATE'] - patient_data.loc[mask, 'PREV_DATE']).dt.days\n",
    "            patient_data.loc[mask, 'CDRSB_CHANGE_ANNUAL'] = patient_data.loc[mask, 'CDRSB_CHANGE'] * 365.25 / days_diff\n",
    "            \n",
    "        # Actualizar el dataframe principal\n",
    "        result_df.loc[patient_data.index, 'CDRSB_CHANGE'] = patient_data['CDRSB_CHANGE']\n",
    "        result_df.loc[patient_data.index, 'CDRSB_CHANGE_ANNUAL'] = patient_data['CDRSB_CHANGE_ANNUAL']\n",
    "        result_df.loc[patient_data.index, 'DAYS_SINCE_BASELINE'] = patient_data['DAYS_SINCE_BASELINE']\n",
    "    \n",
    "    # Eliminar columnas temporales si se han añadido al dataframe resultante\n",
    "    if 'PREV_CDRSB' in result_df.columns:\n",
    "        result_df = result_df.drop(columns=['PREV_CDRSB', 'PREV_DATE'])\n",
    "\n",
    "    # Manejo de outliers: winsorización al 5–95%\n",
    "    for col in ['CDRSB_CHANGE', 'CDRSB_CHANGE_ANNUAL']:\n",
    "        if col in result_df.columns:\n",
    "            lo, hi = result_df[col].quantile([0.05, 0.95])\n",
    "            result_df[f'{col}_winsorized'] = result_df[col].clip(lower=lo, upper=hi)\n",
    "\n",
    "    return result_df\n",
    "\n",
    "# Aplicar cálculo de cambios longitudinales\n",
    "cdr_processed = calculate_longitudinal_changes(cdr_processed)\n",
    "\n",
    "# Verificar las nuevas variables\n",
    "print(\"\\nEstadísticas de cambios longitudinales:\")\n",
    "print(cdr_processed[['CDRSB_CHANGE', 'CDRSB_CHANGE_ANNUAL']].describe())"
   ]
  },
  {
   "cell_type": "markdown",
   "id": "5d2b49e7-526c-4c3d-b79f-58aa1c3fe975",
   "metadata": {},
   "source": [
    "## 4. Preprocesamiento de los datos de Diagnóstico (DXSUM)"
   ]
  },
  {
   "cell_type": "markdown",
   "id": "bea55ad3-962d-4036-ae45-f631e442ec15",
   "metadata": {},
   "source": [
    "### 4.1 Selección de variables relevantes y limpieza básica"
   ]
  },
  {
   "cell_type": "code",
   "execution_count": 10,
   "id": "f5c1cc7d-176c-444e-a801-cf1b92bcbea2",
   "metadata": {},
   "outputs": [
    {
     "name": "stdout",
     "output_type": "stream",
     "text": [
      "\n",
      "Valores faltantes en dataset de diagnóstico:\n",
      "PTID             0\n",
      "RID              0\n",
      "VISCODE          0\n",
      "VISCODE2        14\n",
      "EXAMDATE        93\n",
      "DIAGNOSIS       38\n",
      "DXNORM       11012\n",
      "DXMCI        11012\n",
      "DXAD         11012\n",
      "DXPARK         139\n",
      "DXDEP         4477\n",
      "DXOTHDEM     11012\n",
      "dtype: int64\n"
     ]
    }
   ],
   "source": [
    "# Seleccionar columnas relevantes del dataset de diagnóstico\n",
    "dx_relevant = dx_df[['PTID', 'RID', 'VISCODE', 'VISCODE2', 'EXAMDATE', \n",
    "                     'DIAGNOSIS', 'DXNORM', 'DXMCI', 'DXAD', \n",
    "                     'DXPARK', 'DXDEP', 'DXOTHDEM']]\n",
    "\n",
    "# Convertir fecha de examen a datetime\n",
    "dx_relevant['EXAMDATE'] = pd.to_datetime(dx_relevant['EXAMDATE'], errors='coerce')\n",
    "\n",
    "# Verificar valores faltantes\n",
    "print(\"\\nValores faltantes en dataset de diagnóstico:\")\n",
    "print(dx_relevant.isnull().sum())"
   ]
  },
  {
   "cell_type": "markdown",
   "id": "a9919ab3-b21d-4564-9288-603d10adf875",
   "metadata": {},
   "source": [
    "### 4.2 Implementar codificación ordinal para DIAGNOSIS"
   ]
  },
  {
   "cell_type": "code",
   "execution_count": 13,
   "id": "3852c2db-130f-4973-a852-22230365eb31",
   "metadata": {},
   "outputs": [
    {
     "name": "stdout",
     "output_type": "stream",
     "text": [
      "\n",
      "Distribución de diagnóstico ordinal:\n",
      "DIAGNOSIS_ORDINAL\n",
      "NaN    14880\n",
      "Name: count, dtype: int64\n"
     ]
    }
   ],
   "source": [
    "# Crear variable de diagnóstico ordinal\n",
    "def map_diagnosis_to_ordinal(diagnosis):\n",
    "    if pd.isnull(diagnosis):\n",
    "        return np.nan\n",
    "    elif diagnosis == 'CN':\n",
    "        return 0  # Normal\n",
    "    elif diagnosis == 'MCI':\n",
    "        return 1  # MCI\n",
    "    elif diagnosis == 'Dementia':\n",
    "        return 2  # Asumimos demencia leve por defecto\n",
    "    else:\n",
    "        return np.nan  # Otros valores\n",
    "\n",
    "# Aplicar mapeo\n",
    "dx_relevant['DIAGNOSIS_ORDINAL'] = dx_relevant['DIAGNOSIS'].apply(map_diagnosis_to_ordinal)\n",
    "\n",
    "# Ajustar severidad para pacientes con demencia basado en CDR Global\n",
    "# Primero fusionar con CDR para obtener CDGLOBAL\n",
    "dx_with_cdr = pd.merge(\n",
    "    dx_relevant,\n",
    "    cdr_df[['PTID', 'RID', 'VISCODE', 'VISCODE2', 'CDGLOBAL']],\n",
    "    on=['PTID', 'RID', 'VISCODE', 'VISCODE2'],\n",
    "    how='left'\n",
    ")\n",
    "\n",
    "# Ajustar la severidad para pacientes con demencia basado en CDGLOBAL\n",
    "# CDGLOBAL: 0=Normal, 0.5=Muy leve, 1=Leve, 2=Moderado, 3=Severo\n",
    "def adjust_dementia_severity(row):\n",
    "    if row['DIAGNOSIS_ORDINAL'] == 2 and not pd.isnull(row['CDGLOBAL']):\n",
    "        if row['CDGLOBAL'] == 1:\n",
    "            return 2  # Demencia leve\n",
    "        elif row['CDGLOBAL'] == 2:\n",
    "            return 3  # Demencia moderada\n",
    "        elif row['CDGLOBAL'] == 3:\n",
    "            return 4  # Demencia severa\n",
    "    return row['DIAGNOSIS_ORDINAL']\n",
    "\n",
    "dx_with_cdr['DIAGNOSIS_ORDINAL'] = dx_with_cdr.apply(adjust_dementia_severity, axis=1)\n",
    "\n",
    "# Eliminar la columna CDGLOBAL que usamos temporalmente\n",
    "dx_processed = dx_with_cdr.drop(columns=['CDGLOBAL'])\n",
    "\n",
    "# Verificar la distribución de la variable ordinal\n",
    "print(\"\\nDistribución de diagnóstico ordinal:\")\n",
    "print(dx_processed['DIAGNOSIS_ORDINAL'].value_counts(dropna=False))"
   ]
  },
  {
   "cell_type": "markdown",
   "id": "e5dabab0-dac6-44d0-9464-5074fefa7db4",
   "metadata": {},
   "source": [
    "### 4.3 Crear variables binarias para comorbilidades"
   ]
  },
  {
   "cell_type": "code",
   "execution_count": 14,
   "id": "821d233e-3570-4f9b-b495-13fab48a37e1",
   "metadata": {},
   "outputs": [
    {
     "name": "stdout",
     "output_type": "stream",
     "text": [
      "\n",
      "Distribución de comorbilidades binarias:\n",
      "DXPARK_BINARY: DXPARK_BINARY\n",
      "0    10877\n",
      "1     4003\n",
      "Name: count, dtype: int64\n",
      "DXDEP_BINARY: DXDEP_BINARY\n",
      "0    13934\n",
      "1      946\n",
      "Name: count, dtype: int64\n",
      "DXOTHDEM_BINARY: DXOTHDEM_BINARY\n",
      "0    11012\n",
      "1     3868\n",
      "Name: count, dtype: int64\n"
     ]
    }
   ],
   "source": [
    "# Convertir variables de comorbilidad a formato binario (1=presente, 0=ausente)\n",
    "comorbidity_vars = ['DXPARK', 'DXDEP', 'DXOTHDEM']\n",
    "\n",
    "for var in comorbidity_vars:\n",
    "    # Asumir que cualquier valor distinto de 0 o NaN indica presencia\n",
    "    dx_processed[f'{var}_BINARY'] = dx_processed[var].apply(\n",
    "        lambda x: 1 if not pd.isnull(x) and x != 0 else 0\n",
    "    )\n",
    "\n",
    "# Verificar las nuevas variables binarias\n",
    "print(\"\\nDistribución de comorbilidades binarias:\")\n",
    "for var in comorbidity_vars:\n",
    "    print(f\"{var}_BINARY:\", dx_processed[f'{var}_BINARY'].value_counts())"
   ]
  },
  {
   "cell_type": "markdown",
   "id": "b78e04b5-aaa0-4d87-944d-01889dd975f4",
   "metadata": {},
   "source": [
    "### 4.4 Calcular transiciones diagnósticas"
   ]
  },
  {
   "cell_type": "code",
   "execution_count": 16,
   "id": "a436a8c2-866b-491d-be38-74ca97b2704e",
   "metadata": {},
   "outputs": [
    {
     "name": "stdout",
     "output_type": "stream",
     "text": [
      "\n",
      "Estadísticas de transiciones diagnósticas:\n",
      "DIAGNOSIS_TRANSITION\n",
      "NaN    14880\n",
      "Name: count, dtype: int64\n",
      "\n",
      "Días hasta transición (estadísticas):\n",
      "count    0.0\n",
      "mean     NaN\n",
      "std      NaN\n",
      "min      NaN\n",
      "25%      NaN\n",
      "50%      NaN\n",
      "75%      NaN\n",
      "max      NaN\n",
      "Name: DAYS_TO_TRANSITION, dtype: float64\n"
     ]
    }
   ],
   "source": [
    "# Función para calcular transiciones diagnósticas\n",
    "def calculate_diagnostic_transitions(df):\n",
    "    # Crear una copia para no modificar el original\n",
    "    result_df = df.copy()\n",
    "    \n",
    "    # Inicializar columnas EN EL DATAFRAME PRINCIPAL\n",
    "    result_df['DIAGNOSIS_PREV'] = np.nan\n",
    "    result_df['DIAGNOSIS_TRANSITION'] = np.nan  # <-- Añadir inicialización aquí\n",
    "    result_df['DAYS_TO_TRANSITION'] = np.nan\n",
    "    \n",
    "    # Procesar cada paciente\n",
    "    for patient_id in df['PTID'].unique():\n",
    "        patient_data = df[df['PTID'] == patient_id].copy()\n",
    "        patient_data = patient_data.sort_values('EXAMDATE')\n",
    "        \n",
    "        # Inicializar columnas EN EL DATAFRAME DEL PACIENTE <-- Solución clave\n",
    "        patient_data['DIAGNOSIS_TRANSITION'] = np.nan  \n",
    "        patient_data['DAYS_TO_TRANSITION'] = np.nan     \n",
    "        \n",
    "        if len(patient_data) <= 1:\n",
    "            continue\n",
    "            \n",
    "        # Calcular diagnóstico previo y transiciones\n",
    "        patient_data['DIAGNOSIS_PREV'] = patient_data['DIAGNOSIS_ORDINAL'].shift(1)\n",
    "        patient_data['PREV_DATE'] = patient_data['EXAMDATE'].shift(1)\n",
    "        mask = ~patient_data['DIAGNOSIS_PREV'].isnull()\n",
    "        \n",
    "        if mask.sum() > 0:\n",
    "            # Calcular transición \n",
    "            patient_data.loc[mask, 'DIAGNOSIS_TRANSITION'] = (\n",
    "                patient_data.loc[mask, 'DIAGNOSIS_ORDINAL'] - \n",
    "                patient_data.loc[mask, 'DIAGNOSIS_PREV']\n",
    "            )\n",
    "            \n",
    "            # Calcular días hasta la transición\n",
    "            days_diff = (patient_data.loc[mask, 'EXAMDATE'] - patient_data.loc[mask, 'PREV_DATE']).dt.days\n",
    "            patient_data.loc[mask, 'DAYS_TO_TRANSITION'] = days_diff\n",
    "            \n",
    "        # Actualizar el dataframe principal\n",
    "        result_df.loc[patient_data.index, 'DIAGNOSIS_PREV'] = patient_data['DIAGNOSIS_PREV']\n",
    "        result_df.loc[patient_data.index, 'DIAGNOSIS_TRANSITION'] = patient_data['DIAGNOSIS_TRANSITION']  # Ya existe\n",
    "        result_df.loc[patient_data.index, 'DAYS_TO_TRANSITION'] = patient_data['DAYS_TO_TRANSITION']\n",
    "    \n",
    "    # Eliminar columnas temporales\n",
    "    result_df = result_df.drop(columns=['PREV_DATE'], errors='ignore')\n",
    "        \n",
    "    return result_df\n",
    "\n",
    "# Aplicar cálculo de transiciones diagnósticas\n",
    "dx_processed = calculate_diagnostic_transitions(dx_processed)\n",
    "\n",
    "# Verificar las nuevas variables\n",
    "print(\"\\nEstadísticas de transiciones diagnósticas:\")\n",
    "print(dx_processed['DIAGNOSIS_TRANSITION'].value_counts(dropna=False))\n",
    "print(\"\\nDías hasta transición (estadísticas):\")\n",
    "print(dx_processed['DAYS_TO_TRANSITION'].describe())"
   ]
  },
  {
   "cell_type": "markdown",
   "id": "f388f264-aff8-42af-9d27-c8d900e71e3e",
   "metadata": {},
   "source": [
    "## 5. Integración de datos CDR y diagnóstico"
   ]
  },
  {
   "cell_type": "code",
   "execution_count": 18,
   "id": "cf80c257-7c0a-4531-885d-7733f4355c1b",
   "metadata": {},
   "outputs": [
    {
     "name": "stdout",
     "output_type": "stream",
     "text": [
      "Registros duplicados: 30\n",
      "==========================================================================================\n",
      "\n",
      "Dimensiones del dataset integrado:\n",
      "Filas: 16917, Columnas: 36\n",
      "\n",
      "Valores faltantes en el dataset integrado:\n",
      "CDRSB                 2890\n",
      "DIAGNOSIS_ORDINAL    16917\n",
      "dtype: int64\n"
     ]
    }
   ],
   "source": [
    "# Fusionar datasets de CDR y diagnóstico\n",
    "clinical_integrated = pd.merge(\n",
    "    cdr_processed,\n",
    "    dx_processed,\n",
    "    on=['RID', 'VISCODE'],\n",
    "    how='outer',\n",
    "    suffixes=('_CDR', '_DX')\n",
    ")\n",
    "\n",
    "# Consolidar fechas (pueden diferir ligeramente entre CDR y diagnóstico)\n",
    "clinical_integrated['VISIT_DATE'] = clinical_integrated['VISDATE'].combine_first(clinical_integrated['EXAMDATE'])\n",
    "\n",
    "# Verificar duplicados\n",
    "duplicates = clinical_integrated.duplicated(subset=['RID', 'VISIT_DATE'], keep=False)\n",
    "print(\"Registros duplicados:\", duplicates.sum())\n",
    "print(\"=\"*90)\n",
    "\n",
    "# Verificar el resultado de la fusión\n",
    "print(\"\\nDimensiones del dataset integrado:\")\n",
    "print(f\"Filas: {clinical_integrated.shape[0]}, Columnas: {clinical_integrated.shape[1]}\")\n",
    "print(\"\\nValores faltantes en el dataset integrado:\")\n",
    "print(clinical_integrated[['CDRSB', 'DIAGNOSIS_ORDINAL']].isnull().sum())"
   ]
  },
  {
   "cell_type": "markdown",
   "id": "ea6c6b3a-f41a-4f65-9955-166f06306f54",
   "metadata": {},
   "source": [
    "### Análisis de inconsistencias temporales"
   ]
  },
  {
   "cell_type": "code",
   "execution_count": 21,
   "id": "a627610a-97d3-402f-9d18-a01011bbd514",
   "metadata": {},
   "outputs": [
    {
     "data": {
      "text/plain": [
       "(7139, 36)"
      ]
     },
     "metadata": {},
     "output_type": "display_data"
    }
   ],
   "source": [
    "# Análisis de inconsistencias temporales\n",
    "\n",
    "date_discrepancies = clinical_integrated[\n",
    "    (clinical_integrated['VISDATE'] != clinical_integrated['EXAMDATE']) \n",
    "    & clinical_integrated['VISDATE'].notna() \n",
    "    & clinical_integrated['EXAMDATE'].notna()\n",
    "]\n",
    "\n",
    "display(date_discrepancies.shape)"
   ]
  },
  {
   "cell_type": "markdown",
   "id": "488a13df-b8d7-4442-8715-0332fc31e78f",
   "metadata": {},
   "source": [
    "## 6. Transformaciones adicionales para análisis estadísticos"
   ]
  },
  {
   "cell_type": "code",
   "execution_count": 23,
   "id": "abc62659-83ff-4282-a956-dab86bf310ba",
   "metadata": {},
   "outputs": [
    {
     "name": "stdout",
     "output_type": "stream",
     "text": [
      "\n",
      "Distribución de categorías CDRSB:\n",
      "CDRSB_CATEGORY\n",
      "0.0    6545\n",
      "1.0    5399\n",
      "NaN    2890\n",
      "2.0    2083\n",
      "Name: count, dtype: int64\n"
     ]
    }
   ],
   "source": [
    "# Transformación logarítmica de CDRSB para distribución más normal \n",
    "# (añadimos 0.1 para evitar log(0))\n",
    "clinical_integrated['CDRSB_LOG'] = np.log1p(clinical_integrated['CDRSB'])\n",
    "\n",
    "# Categorización de CDRSB según umbrales clínicos identificados en el EDA\n",
    "def categorize_cdrsb(cdrsb):\n",
    "    if pd.isnull(cdrsb):\n",
    "        return np.nan\n",
    "    elif cdrsb < 1.0:\n",
    "        return 0  # Normal\n",
    "    elif cdrsb <= 4.0:\n",
    "        return 1  # Consistente con MCI\n",
    "    else:\n",
    "        return 2  # Sugestivo de demencia\n",
    "\n",
    "clinical_integrated['CDRSB_CATEGORY'] = clinical_integrated['CDRSB'].apply(categorize_cdrsb)\n",
    "\n",
    "# Verificar distribución\n",
    "print(\"\\nDistribución de categorías CDRSB:\")\n",
    "print(clinical_integrated['CDRSB_CATEGORY'].value_counts(dropna=False))"
   ]
  },
  {
   "cell_type": "markdown",
   "id": "1b3a1cb9-9094-4746-b549-3e439470b073",
   "metadata": {},
   "source": [
    "## 7. Limpieza final y exportación de datos"
   ]
  },
  {
   "cell_type": "code",
   "execution_count": 24,
   "id": "15b2d552-c7ed-4a7b-85af-94015ff2d40a",
   "metadata": {},
   "outputs": [
    {
     "name": "stdout",
     "output_type": "stream",
     "text": [
      "====================================================================================================\n",
      "\n",
      "Datos clínicos procesados guardados en ../data/processed/clinical_processed.csv\n",
      "Dimensiones finales: 14027 filas, 27 columnas\n"
     ]
    }
   ],
   "source": [
    "# Eliminar filas donde faltan tanto CDRSB como diagnóstico (no aportan valor)\n",
    "clinical_clean = clinical_integrated.dropna(subset=['CDRSB', 'DIAGNOSIS_ORDINAL'], how='all')\n",
    "\n",
    "# Seleccionar columnas en orden lógico\n",
    "final_columns = [\n",
    "    # Identificadores y metadata\n",
    "    'PTID', 'RID', 'VISCODE', 'VISCODE2', 'VISIT_DATE', \n",
    "    'DAYS_SINCE_BASELINE',\n",
    "    \n",
    "    # Variables CDR originales\n",
    "    'CDMEMORY', 'CDORIENT', 'CDJUDGE', 'CDCOMMUN', 'CDHOME', 'CDCARE', 'CDGLOBAL', 'CDRSB',\n",
    "    \n",
    "    # Variables CDR derivadas\n",
    "    'CDRSB_LOG', 'CDRSB_CATEGORY', 'CDRSB_CHANGE', 'CDRSB_CHANGE_ANNUAL',\n",
    "    \n",
    "    # Variables de diagnóstico originales\n",
    "    'DIAGNOSIS', 'DXNORM', 'DXMCI', 'DXAD',\n",
    "    \n",
    "    # Variables de diagnóstico derivadas\n",
    "    'DIAGNOSIS_ORDINAL', 'DIAGNOSIS_PREV', 'DIAGNOSIS_TRANSITION', 'DAYS_TO_TRANSITION',\n",
    "    \n",
    "    # Comorbilidades\n",
    "    'DXPARK_BINARY', 'DXDEP_BINARY', 'DXOTHDEM_BINARY'\n",
    "]\n",
    "\n",
    "# Verificar que todas las columnas existen\n",
    "existing_columns = [col for col in final_columns if col in clinical_clean.columns]\n",
    "clinical_final = clinical_clean[existing_columns]\n",
    "\n",
    "# Guardar el dataset procesado\n",
    "processed_path = \"../data/processed/\"\n",
    "os.makedirs(processed_path, exist_ok=True)\n",
    "clinical_final.to_csv(os.path.join(processed_path, \"clinical_processed.csv\"), index=False)\n",
    "\n",
    "print(\"=\"*100)\n",
    "print(f\"\\nDatos clínicos procesados guardados en {processed_path}clinical_processed.csv\")\n",
    "print(f\"Dimensiones finales: {clinical_final.shape[0]} filas, {clinical_final.shape[1]} columnas\")"
   ]
  },
  {
   "cell_type": "markdown",
   "id": "71ca4dbe-0dfe-46d1-ba3f-894b782bc5ad",
   "metadata": {},
   "source": [
    "## 8. Resumen de las transformaciones realizadas"
   ]
  },
  {
   "cell_type": "code",
   "execution_count": 25,
   "id": "7a52ed11-a2b5-49d9-8e86-e802f0a07e03",
   "metadata": {},
   "outputs": [
    {
     "name": "stdout",
     "output_type": "stream",
     "text": [
      "\n",
      "Resumen de transformaciones aplicadas:\n",
      "- Imputación: Implementada por subgrupo diagnóstico para preservar relaciones clínicas\n",
      "- Variables longitudinales: Creadas CDRSB_CHANGE y CDRSB_CHANGE_ANNUAL para capturar progresión\n",
      "- Codificación diagnóstica: Implementada escala ordinal (0=Normal a 4=Demencia severa)\n",
      "- Comorbilidades: Convertidas a formato binario para facilitar análisis\n",
      "- Transiciones: Calculadas transiciones diagnósticas y días entre cambios\n",
      "- Transformaciones: Aplicada transformación logarítmica a CDRSB\n",
      "- Categorización: Implementados umbrales clínicos para CDRSB (<1.0=Normal, 1.0-4.0=MCI, >4.0=Demencia)\n"
     ]
    }
   ],
   "source": [
    "# Mostramos un resumen de las transformaciones aplicadas\n",
    "transformations = {\n",
    "    \"Imputación\": \"Implementada por subgrupo diagnóstico para preservar relaciones clínicas\",\n",
    "    \"Variables longitudinales\": \"Creadas CDRSB_CHANGE y CDRSB_CHANGE_ANNUAL para capturar progresión\",\n",
    "    \"Codificación diagnóstica\": \"Implementada escala ordinal (0=Normal a 4=Demencia severa)\",\n",
    "    \"Comorbilidades\": \"Convertidas a formato binario para facilitar análisis\",\n",
    "    \"Transiciones\": \"Calculadas transiciones diagnósticas y días entre cambios\",\n",
    "    \"Transformaciones\": \"Aplicada transformación logarítmica a CDRSB\",\n",
    "    \"Categorización\": \"Implementados umbrales clínicos para CDRSB (<1.0=Normal, 1.0-4.0=MCI, >4.0=Demencia)\"\n",
    "}\n",
    "\n",
    "print(\"\\nResumen de transformaciones aplicadas:\")\n",
    "for category, description in transformations.items():\n",
    "    print(f\"- {category}: {description}\")"
   ]
  },
  {
   "cell_type": "markdown",
   "id": "939c0782-1381-4c8e-a1fd-489efbd80992",
   "metadata": {},
   "source": [
    "## 9. Visualización de resultados clave del preprocesamiento"
   ]
  },
  {
   "cell_type": "code",
   "execution_count": 28,
   "id": "641bd2b2-d643-45a1-bad5-67c779935d96",
   "metadata": {},
   "outputs": [
    {
     "name": "stdout",
     "output_type": "stream",
     "text": [
      "===Conteo por categoría diagnóstica:\n",
      "DIAGNOSIS_ORDINAL\n",
      "NaN    14027\n",
      "Name: count, dtype: int64\n",
      "\n",
      "===Valores faltantes en CDRSB_CHANGE_ANNUAL por categoría:\n",
      "Series([], Name: CDRSB_CHANGE_ANNUAL, dtype: float64)\n"
     ]
    }
   ],
   "source": [
    "print(\"===Conteo por categoría diagnóstica:\")\n",
    "print(clinical_final['DIAGNOSIS_ORDINAL'].value_counts(dropna=False))\n",
    "\n",
    "print(\"\\n===Valores faltantes en CDRSB_CHANGE_ANNUAL por categoría:\")\n",
    "print(clinical_final.groupby('DIAGNOSIS_ORDINAL')['CDRSB_CHANGE_ANNUAL'].apply(lambda x: x.isnull().sum()))"
   ]
  },
  {
   "cell_type": "code",
   "execution_count": 32,
   "id": "459c0e15-8aa5-44b0-9b1f-267dc0dfbc62",
   "metadata": {},
   "outputs": [
    {
     "data": {
      "image/png": "[encoded data removed]",
      "text/plain": [
       "<Figure size 1500x1200 with 5 Axes>"
      ]
     },
     "metadata": {},
     "output_type": "display_data"
    },
    {
     "name": "stdout",
     "output_type": "stream",
     "text": [
      "\n",
      "Gráfico resumen guardado en: ..\\reports\\figures\\clinical_preprocessing_summary.png\n"
     ]
    }
   ],
   "source": [
    "reports_path = r\"..\\reports\\figures\"\n",
    "\n",
    "# Configuración de visualización\n",
    "plt.figure(figsize=(15, 12))\n",
    "\n",
    "# 1. Comparación de distribución original vs transformada de CDRSB\n",
    "plt.subplot(2, 2, 1)\n",
    "sns.histplot(clinical_final['CDRSB'], kde=True, color='blue', label='Original')\n",
    "plt.title('Distribución de CDRSB')\n",
    "plt.xlabel('CDRSB')\n",
    "plt.ylabel('Frecuencia')\n",
    "\n",
    "plt.subplot(2, 2, 2)\n",
    "sns.histplot(clinical_final['CDRSB_LOG'], kde=True, color='green', label='Log-transformada')\n",
    "plt.title('Distribución de CDRSB (transformación logarítmica)')\n",
    "plt.xlabel('log(CDRSB+1)')\n",
    "plt.ylabel('Frecuencia')\n",
    "\n",
    "# 2. Cambio anual en CDRSB por categoría diagnóstica\n",
    "plt.subplot(2, 2, 3)\n",
    "# Filtrar datos antes de plotear\n",
    "valid_data = clinical_final.dropna(subset=['CDRSB_CHANGE_ANNUAL', 'DIAGNOSIS_ORDINAL'])\n",
    "sns.boxplot(\n",
    "    x='DIAGNOSIS_ORDINAL', \n",
    "    y='CDRSB_CHANGE_ANNUAL', \n",
    "    data=valid_data,\n",
    "    order=sorted(valid_data['DIAGNOSIS_ORDINAL'].unique())  # Asegurar orden consistente\n",
    ")\n",
    "plt.title('Cambio anual en CDRSB por diagnóstico')\n",
    "plt.xlabel('Diagnóstico (ordinal)')\n",
    "plt.ylabel('Cambio anual en CDRSB')\n",
    "\n",
    "# 3. Matriz de correlación de variables clave\n",
    "plt.subplot(2, 2, 4)\n",
    "corr_vars = ['CDRSB', 'CDRSB_CHANGE_ANNUAL', 'DIAGNOSIS_ORDINAL', 'DIAGNOSIS_TRANSITION', \n",
    "             'DXPARK_BINARY', 'DXDEP_BINARY', 'DXOTHDEM_BINARY']\n",
    "corr_matrix = clinical_final[corr_vars].corr()\n",
    "sns.heatmap(corr_matrix, annot=True, cmap='coolwarm', vmin=-1, vmax=1, fmt='.2f')\n",
    "plt.title('Correlaciones entre variables clave')\n",
    "\n",
    "plt.tight_layout()\n",
    "plt.savefig(os.path.join(reports_path, \"clinical_preprocessing_summary.png\"))\n",
    "plt.show()\n",
    "\n",
    "print(\"\\nGráfico resumen guardado en:\", os.path.join(reports_path, \"clinical_preprocessing_summary.png\"))"
   ]
  },
  {
   "cell_type": "markdown",
   "id": "f5907629-4022-4b69-8474-765f8c8b8f66",
   "metadata": {},
   "source": [
    "## 10. Distribución de muestras por grupo diagnóstico y visita"
   ]
  },
  {
   "cell_type": "code",
   "execution_count": 37,
   "id": "d0f61696-3eff-49eb-9d54-ebe943ee9f3b",
   "metadata": {},
   "outputs": [
    {
     "name": "stdout",
     "output_type": "stream",
     "text": [
      "\n",
      "Distribución de diagnósticos por visita:\n",
      "Empty DataFrame\n",
      "Columns: []\n",
      "Index: []\n",
      "No hay datos válidos para graficar tras eliminar 'All'.\n",
      "\n",
      "Distribución guardada en: ..\\reports\\figures\\diagnosis_by_visit.png\n"
     ]
    },
    {
     "data": {
      "text/plain": [
       "<Figure size 1200x600 with 0 Axes>"
      ]
     },
     "metadata": {},
     "output_type": "display_data"
    }
   ],
   "source": [
    "# Tabla cruzada de diagnóstico por visita\n",
    "visit_diag_counts = pd.crosstab(\n",
    "    clinical_final['VISCODE'], \n",
    "    clinical_final['DIAGNOSIS_ORDINAL'],\n",
    "    margins=True\n",
    ")\n",
    "\n",
    "print(\"\\nDistribución de diagnósticos por visita:\")\n",
    "print(visit_diag_counts)\n",
    "\n",
    "# Visualizar distribución\n",
    "plt.figure(figsize=(12, 6))\n",
    "\n",
    "plot_data = visit_diag_counts.copy()\n",
    "\n",
    "# Eliminar 'All' solo si existen\n",
    "if 'All' in plot_data.index:\n",
    "    plot_data = plot_data.drop('All', axis=0)\n",
    "if 'All' in plot_data.columns:\n",
    "    plot_data = plot_data.drop('All', axis=1)\n",
    "\n",
    "# Asegurar que los datos son numéricos\n",
    "plot_data = plot_data.apply(pd.to_numeric, errors='coerce')\n",
    "\n",
    "# Filtrar datos completamente vacíos\n",
    "plot_data = plot_data.dropna(how='all', axis=0).dropna(how='all', axis=1)\n",
    "\n",
    "if not plot_data.empty:\n",
    "    plot_data.plot(kind='bar', stacked=True)\n",
    "    plt.title('Distribución de diagnósticos por visita')\n",
    "    plt.xlabel('Visita')\n",
    "    plt.ylabel('Número de pacientes')\n",
    "    plt.legend(title='Diagnóstico (ordinal)')\n",
    "    plt.tight_layout()\n",
    "    plt.savefig(os.path.join(reports_path, \"diagnosis_by_visit.png\"))\n",
    "    plt.show()\n",
    "else:\n",
    "    print(\"No hay datos válidos para graficar tras eliminar 'All'.\")\n",
    "\n",
    "print(\"\\nDistribución guardada en:\", os.path.join(reports_path, \"diagnosis_by_visit.png\"))"
   ]
  },
  {
   "cell_type": "markdown",
   "id": "4f63dcdc-d754-4e79-836a-a6b876107236",
   "metadata": {},
   "source": [
    "   "
   ]
  },
  {
   "cell_type": "markdown",
   "id": "c097a7ad-a502-4833-9801-060b2c476428",
   "metadata": {},
   "source": [
    "***"
   ]
  },
  {
   "cell_type": "markdown",
   "id": "d80925d5-c2dd-4499-9a54-1a43df6f9374",
   "metadata": {},
   "source": [
    "   "
   ]
  },
  {
   "cell_type": "markdown",
   "id": "3c624438-26c1-4a4f-a874-7b5bb16f625c",
   "metadata": {},
   "source": [
    "__Abraham Tartalos__"
   ]
  },
  {
   "cell_type": "markdown",
   "id": "19dddbb8-60e7-4a34-9fbb-2307ebb98f48",
   "metadata": {},
   "source": [
    "##"
   ]
  },
  {
   "cell_type": "markdown",
   "id": "3a79fc53-c686-4254-959b-23601796e279",
   "metadata": {},
   "source": [
    "##"
   ]
  }
 ],
 "metadata": {
  "kernelspec": {
   "display_name": "Python 3.10 (Alzheimer)",
   "language": "python",
   "name": "alzheimer-env-py310"
  },
  "language_info": {
   "codemirror_mode": {
    "name": "ipython",
    "version": 3
   },
   "file_extension": ".py",
   "mimetype": "text/x-python",
   "name": "python",
   "nbconvert_exporter": "python",
   "pygments_lexer": "ipython3",
   "version": "3.10.17"
  }
 },
 "nbformat": 4,
 "nbformat_minor": 5
}
