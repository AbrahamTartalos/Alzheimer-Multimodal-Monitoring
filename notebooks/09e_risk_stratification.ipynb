{
 "cells": [
  {
   "cell_type": "markdown",
   "id": "11627ce7-78c5-4a7d-a943-a14045c30105",
   "metadata": {},
   "source": [
    "# 04e - Risk Stratification Models\n",
    "\n",
    "**Objetivo**: Desarrollar modelos de estratificación de riesgo para identificar subgrupos de pacientes y fenotipos específicos de Alzheimer\n",
    " \n",
    "**Componentes principales**:\n",
    "- Modelos de clustering para identificación de fenotipos\n",
    "- Estratificación por características demográficas y genéticas\n",
    "- Modelos jerárquicos para diferentes niveles de riesgo\n",
    "- Análisis de subgrupos específicos (APOE, edad, biomarkers)\n"
   ]
  },
  {
   "cell_type": "markdown",
   "id": "3672a99e-016e-467d-b4d4-53d68076f945",
   "metadata": {},
   "source": [
    "   "
   ]
  },
  {
   "cell_type": "markdown",
   "id": "06f4fbcb-0c87-4ae7-8a26-c25f0d504500",
   "metadata": {},
   "source": [
    "---"
   ]
  },
  {
   "cell_type": "markdown",
   "id": "5956f2bd-5236-49c1-9f22-96350e023fd4",
   "metadata": {
    "jp-MarkdownHeadingCollapsed": true
   },
   "source": [
    "## Importar librerías y Configurar ML Flow"
   ]
  },
  {
   "cell_type": "code",
   "execution_count": null,
   "id": "f33faa02-7ffa-427f-943f-9959755b7e8f",
   "metadata": {},
   "outputs": [],
   "source": [
    "import sys\n",
    "import os\n",
    "sys.path.append('../scripts/modeling')\n",
    "\n",
    "import pandas as pd\n",
    "import numpy as np\n",
    "import matplotlib.pyplot as plt\n",
    "import seaborn as sns\n",
    "from sklearn.cluster import KMeans, DBSCAN, AgglomerativeClustering\n",
    "from sklearn.mixture import GaussianMixture\n",
    "from sklearn.preprocessing import StandardScaler\n",
    "from sklearn.metrics import silhouette_score, calinski_harabasz_score\n",
    "from sklearn.decomposition import PCA\n",
    "from sklearn.model_selection import train_test_split, StratifiedKFold\n",
    "from sklearn.ensemble import RandomForestClassifier\n",
    "from sklearn.linear_model import LogisticRegression\n",
    "from sklearn.tree import DecisionTreeClassifier\n",
    "import mlflow\n",
    "import mlflow.sklearn\n",
    "from datetime import datetime\n",
    "import warnings\n",
    "warnings.filterwarnings('ignore')"
   ]
  },
  {
   "cell_type": "code",
   "execution_count": null,
   "id": "4948e9cf-f608-4bb9-a860-4b41ed6d91c9",
   "metadata": {},
   "outputs": [],
   "source": [
    "# Configuración de visualización\n",
    "plt.style.use('seaborn-v0_8')\n",
    "sns.set_palette(\"husl\")\n",
    "\n",
    "print(\"✅ Librerías importadas correctamente\")\n",
    "print(f\"📅 Fecha de ejecución: {datetime.now().strftime('%Y-%m-%d %H:%M:%S')}\")\n"
   ]
  },
  {
   "cell_type": "code",
   "execution_count": null,
   "id": "867c6f90-3ec5-4c75-8206-efd02c5f191c",
   "metadata": {},
   "outputs": [],
   "source": [
    "# Configuración MLflow\n",
    "mlflow.set_experiment(\"alzheimer_risk_stratification\")\n",
    "\n",
    "def log_clustering_metrics(model_name, labels, X, n_clusters=None):\n",
    "    \"\"\"Registra métricas de clustering en MLflow\"\"\"\n",
    "    with mlflow.start_run(nested=True):\n",
    "        mlflow.set_tag(\"model_type\", \"clustering\")\n",
    "        mlflow.set_tag(\"algorithm\", model_name)\n",
    "        \n",
    "        if n_clusters:\n",
    "            mlflow.log_param(\"n_clusters\", n_clusters)\n",
    "        \n",
    "        # Métricas de clustering\n",
    "        silhouette = silhouette_score(X, labels)\n",
    "        calinski = calinski_harabasz_score(X, labels)\n",
    "        \n",
    "        mlflow.log_metric(\"silhouette_score\", silhouette)\n",
    "        mlflow.log_metric(\"calinski_harabasz_score\", calinski)\n",
    "        mlflow.log_metric(\"unique_clusters\", len(np.unique(labels)))\n",
    "        \n",
    "        return silhouette, calinski\n",
    "\n",
    "print(\"🔧 MLflow configurado para Risk Stratification\")"
   ]
  },
  {
   "cell_type": "markdown",
   "id": "53c8191c-33fc-4a3c-a79e-95de134b15f7",
   "metadata": {
    "jp-MarkdownHeadingCollapsed": true
   },
   "source": [
    "## Cargar datos procesados y Análisis inicial"
   ]
  },
  {
   "cell_type": "code",
   "execution_count": null,
   "id": "01554632-a0a9-4024-b33e-fec3f4246e72",
   "metadata": {},
   "outputs": [],
   "source": [
    "try:\n",
    "    df = pd.read_csv('../data/processed/integrated_features_final.csv')\n",
    "    print(f\"📊 Dataset cargado: {df.shape}\")\n",
    "    print(f\"📈 Score de riesgo disponible: {df['composite_risk_score'].notna().sum()} registros\")\n",
    "    print(f\"🎯 Distribución de categorías:\")\n",
    "    print(df['risk_category'].value_counts())\n",
    "except FileNotFoundError:\n",
    "    print(\"❌ Error: Archivo de features no encontrado\")\n",
    "    print(\"💡 Asegúrate de ejecutar el notebook 03_feature_engineering_master.ipynb primero\")\n"
   ]
  },
  {
   "cell_type": "code",
   "execution_count": null,
   "id": "c79b1fcf-2a24-438f-b69b-4b1c10caea7b",
   "metadata": {},
   "outputs": [],
   "source": [
    "# Análisis inicial de distribución de riesgo\n",
    "fig, axes = plt.subplots(2, 2, figsize=(15, 12))\n",
    "\n",
    "# Distribución del score compuesto\n",
    "axes[0,0].hist(df['composite_risk_score'].dropna(), bins=50, alpha=0.7, color='skyblue')\n",
    "axes[0,0].set_title('Distribución Score de Riesgo Compuesto')\n",
    "axes[0,0].set_xlabel('Score de Riesgo')\n",
    "axes[0,0].set_ylabel('Frecuencia')\n",
    "\n",
    "# Distribución por categorías\n",
    "df['risk_category'].value_counts().plot(kind='bar', ax=axes[0,1], color='lightcoral')\n",
    "axes[0,1].set_title('Distribución por Categorías de Riesgo')\n",
    "axes[0,1].set_xlabel('Categoría de Riesgo')\n",
    "axes[0,1].tick_params(axis='x', rotation=45)\n",
    "\n",
    "# Score por APOE status\n",
    "if 'APOE_e4_carrier' in df.columns:\n",
    "    df.boxplot(column='composite_risk_score', by='APOE_e4_carrier', ax=axes[1,0])\n",
    "    axes[1,0].set_title('Score de Riesgo por APOE Status')\n",
    "    axes[1,0].set_xlabel('APOE e4 Carrier')\n",
    "\n",
    "# Score por edad (si disponible)\n",
    "if 'age_standardized' in df.columns:\n",
    "    axes[1,1].scatter(df['age_standardized'], df['composite_risk_score'], alpha=0.5)\n",
    "    axes[1,1].set_title('Score de Riesgo vs Edad Estandarizada')\n",
    "    axes[1,1].set_xlabel('Edad Estandarizada')\n",
    "    axes[1,1].set_ylabel('Score de Riesgo')\n",
    "\n",
    "plt.tight_layout()\n",
    "plt.show()\n",
    "\n",
    "print(\"📊 Análisis descriptivo completado\")"
   ]
  },
  {
   "cell_type": "markdown",
   "id": "4d1bdfad-e576-40d8-984c-89cccaa23430",
   "metadata": {},
   "source": [
    "## Preparación de datos para clustering"
   ]
  },
  {
   "cell_type": "code",
   "execution_count": null,
   "id": "c3e4fbdd-b642-436b-bedf-481a71c9e038",
   "metadata": {},
   "outputs": [],
   "source": [
    "# Seleccionar features clave para estratificación\n",
    "stratification_features = []\n",
    "\n",
    "# Features genéticas\n",
    "genetic_features = [col for col in df.columns if 'APOE' in col or 'genetic' in col.lower()]\n",
    "stratification_features.extend(genetic_features[:5])  # Top 5\n",
    "\n",
    "# Features de biomarkers\n",
    "biomarker_features = [col for col in df.columns if any(x in col.upper() for x in ['ABETA', 'TAU', 'biomarker'])]\n",
    "stratification_features.extend(biomarker_features[:5])  # Top 5\n",
    "\n",
    "# Features cognitivas\n",
    "cognitive_features = [col for col in df.columns if any(x in col.upper() for x in ['CDRSB', 'DIAGNOSIS'])]\n",
    "stratification_features.extend(cognitive_features[:3])  # Top 3\n",
    "\n",
    "# Features de actividad/sueño\n",
    "activity_features = [col for col in df.columns if 'sleep' in col.lower() or 'activity' in col.lower()]\n",
    "stratification_features.extend(activity_features[:4])  # Top 4\n",
    "\n",
    "# Features demográficas\n",
    "demo_features = [col for col in df.columns if any(x in col.lower() for x in ['age', 'gender'])]\n",
    "stratification_features.extend(demo_features[:3])  # Top 3\n",
    "\n",
    "# Remover duplicados y filtrar features existentes\n",
    "stratification_features = list(set(stratification_features))\n",
    "stratification_features = [f for f in stratification_features if f in df.columns]\n",
    "stratification_features.append('composite_risk_score')  # Incluir target\n",
    "\n",
    "print(f\"🎯 Features seleccionadas para estratificación: {len(stratification_features)}\")"
   ]
  },
  {
   "cell_type": "code",
   "execution_count": null,
   "id": "80a39d1b-1d91-4d64-aa26-3d35a639970d",
   "metadata": {},
   "outputs": [],
   "source": [
    "print(\"📋 Features principales:\")\n",
    "for f in stratification_features[:10]:\n",
    "    print(f\"   • {f}\")\n",
    "if len(stratification_features) > 10:\n",
    "    print(f\"   ... y {len(stratification_features)-10} más\")\n"
   ]
  },
  {
   "cell_type": "code",
   "execution_count": null,
   "id": "a39bf9ad-ba5c-436c-b9a2-31616075b054",
   "metadata": {},
   "outputs": [],
   "source": [
    "# Preparar datos para clustering\n",
    "df_clustering = df[stratification_features].copy()\n",
    "df_clustering = df_clustering.dropna()\n",
    "\n",
    "print(f\"📊 Dataset para clustering: {df_clustering.shape}\")\n",
    "print(f\"🎯 Registros válidos: {len(df_clustering)}\")"
   ]
  },
  {
   "cell_type": "markdown",
   "id": "4fafc1ee-c019-40b6-ba36-49c559c86b9c",
   "metadata": {},
   "source": [
    "## Separar features y target y Estandarizar features"
   ]
  },
  {
   "cell_type": "code",
   "execution_count": null,
   "id": "c0fa2d9c-33ba-4adf-bc4c-f10d23a1728d",
   "metadata": {},
   "outputs": [],
   "source": [
    "# Separar features y target\n",
    "X_clustering = df_clustering.drop('composite_risk_score', axis=1)\n",
    "y_risk_score = df_clustering['composite_risk_score']\n",
    "\n",
    "# Estandarizar features\n",
    "scaler = StandardScaler()\n",
    "X_scaled = scaler.fit_transform(X_clustering)\n",
    "\n",
    "print(\"✅ Datos preparados y estandarizados para clustering\")"
   ]
  },
  {
   "cell_type": "markdown",
   "id": "995ad42e-8647-4192-ae70-899c1a375986",
   "metadata": {},
   "source": [
    "## 1. K-Means Clustering para identificar fenotipos"
   ]
  },
  {
   "cell_type": "code",
   "execution_count": null,
   "id": "cbd40dc1-430b-462e-8a8e-bc27e82cd0f2",
   "metadata": {},
   "outputs": [],
   "source": [
    "# 1. K-Means Clustering para identificar fenotipos\n",
    "with mlflow.start_run(run_name=\"phenotype_identification\"):\n",
    "    mlflow.set_tag(\"phase\", \"risk_stratification\")\n",
    "    mlflow.set_tag(\"approach\", \"phenotype_clustering\")\n",
    "    \n",
    "    # Determinar número óptimo de clusters\n",
    "    silhouette_scores = []\n",
    "    calinski_scores = []\n",
    "    k_range = range(2, 8)\n",
    "    \n",
    "    for k in k_range:\n",
    "        kmeans = KMeans(n_clusters=k, random_state=42, n_init=10)\n",
    "        labels = kmeans.fit_predict(X_scaled)\n",
    "        \n",
    "        sil_score = silhouette_score(X_scaled, labels)\n",
    "        cal_score = calinski_harabasz_score(X_scaled, labels)\n",
    "        \n",
    "        silhouette_scores.append(sil_score)\n",
    "        calinski_scores.append(cal_score)\n",
    "    \n",
    "    # Seleccionar k óptimo\n",
    "    optimal_k = k_range[np.argmax(silhouette_scores)]\n",
    "    \n",
    "    # Modelo final K-Means\n",
    "    kmeans_final = KMeans(n_clusters=optimal_k, random_state=42, n_init=10)\n",
    "    phenotype_labels = kmeans_final.fit_predict(X_scaled)\n",
    "    \n",
    "    # Registrar métricas\n",
    "    mlflow.log_param(\"optimal_k\", optimal_k)\n",
    "    mlflow.log_metric(\"best_silhouette\", max(silhouette_scores))\n",
    "    mlflow.log_metric(\"best_calinski\", calinski_scores[np.argmax(silhouette_scores)])\n",
    "    mlflow.sklearn.log_model(kmeans_final, \"kmeans_phenotypes\")\n",
    "    \n",
    "    print(f\"🎯 Fenotipos identificados: {optimal_k} clusters\")\n",
    "    print(f\"📊 Silhouette Score: {max(silhouette_scores):.3f}\")\n",
    "\n"
   ]
  },
  {
   "cell_type": "code",
   "execution_count": null,
   "id": "bc1ede32-c01a-4398-a942-739c3016be81",
   "metadata": {},
   "outputs": [],
   "source": [
    "# Análisis de fenotipos identificados\n",
    "df_clustering['phenotype'] = phenotype_labels\n",
    "\n",
    "# Análisis por fenotipo\n",
    "phenotype_analysis = df_clustering.groupby('phenotype').agg({\n",
    "    'composite_risk_score': ['mean', 'std', 'count']\n",
    "}).round(3)\n",
    "\n",
    "print(\"🧬 ANÁLISIS DE FENOTIPOS IDENTIFICADOS\")\n",
    "print(\"=\" * 50)\n",
    "print(phenotype_analysis)\n",
    "\n",
    "# Visualización de fenotipos\n",
    "fig, axes = plt.subplots(2, 2, figsize=(15, 12))\n",
    "\n",
    "# PCA para visualización\n",
    "pca = PCA(n_components=2)\n",
    "X_pca = pca.fit_transform(X_scaled)\n",
    "\n",
    "# Scatter plot de fenotipos en espacio PCA\n",
    "scatter = axes[0,0].scatter(X_pca[:, 0], X_pca[:, 1], c=phenotype_labels, cmap='tab10', alpha=0.6)\n",
    "axes[0,0].set_title('Fenotipos en Espacio PCA')\n",
    "axes[0,0].set_xlabel(f'PC1 ({pca.explained_variance_ratio_[0]:.1%} varianza)')\n",
    "axes[0,0].set_ylabel(f'PC2 ({pca.explained_variance_ratio_[1]:.1%} varianza)')\n",
    "plt.colorbar(scatter, ax=axes[0,0])\n",
    "\n",
    "# Distribución de score por fenotipo\n",
    "df_clustering.boxplot(column='composite_risk_score', by='phenotype', ax=axes[0,1])\n",
    "axes[0,1].set_title('Score de Riesgo por Fenotipo')\n",
    "axes[0,1].set_xlabel('Fenotipo')\n",
    "\n",
    "# Conteo de fenotipos\n",
    "phenotype_counts = df_clustering['phenotype'].value_counts().sort_index()\n",
    "axes[1,0].bar(phenotype_counts.index, phenotype_counts.values, color='lightgreen')\n",
    "axes[1,0].set_title('Distribución de Fenotipos')\n",
    "axes[1,0].set_xlabel('Fenotipo')\n",
    "axes[1,0].set_ylabel('Número de Pacientes')\n",
    "\n",
    "# Score promedio por fenotipo\n",
    "phenotype_means = df_clustering.groupby('phenotype')['composite_risk_score'].mean()\n",
    "axes[1,1].bar(phenotype_means.index, phenotype_means.values, color='salmon')\n",
    "axes[1,1].set_title('Score Promedio por Fenotipo')\n",
    "axes[1,1].set_xlabel('Fenotipo')\n",
    "axes[1,1].set_ylabel('Score Promedio')\n",
    "\n",
    "plt.tight_layout()\n",
    "plt.show()"
   ]
  },
  {
   "cell_type": "markdown",
   "id": "f8b47553-4f37-4465-afce-49e2387fc2ab",
   "metadata": {},
   "source": [
    "## 2. Estratificación por APOE Status"
   ]
  },
  {
   "cell_type": "code",
   "execution_count": null,
   "id": "1a169533-61c8-4228-8b18-4ae9051d163e",
   "metadata": {},
   "outputs": [],
   "source": [
    "# 2. Estratificación por APOE Status\n",
    "if 'APOE_e4_carrier' in df.columns:\n",
    "    with mlflow.start_run(run_name=\"apoe_stratification\"):\n",
    "        mlflow.set_tag(\"stratification_type\", \"genetic_apoe\")\n",
    "        \n",
    "        # Análisis por APOE status\n",
    "        apoe_analysis = df.groupby('APOE_e4_carrier').agg({\n",
    "            'composite_risk_score': ['mean', 'std', 'count', 'median']\n",
    "        }).round(3)\n",
    "        \n",
    "        print(\"\\n🧬 ESTRATIFICACIÓN POR APOE STATUS\")\n",
    "        print(\"=\" * 40)\n",
    "        print(apoe_analysis)\n",
    "        \n",
    "        # Modelos específicos por APOE status\n",
    "        apoe_carriers = df[df['APOE_e4_carrier'] == 1]\n",
    "        apoe_non_carriers = df[df['APOE_e4_carrier'] == 0]\n",
    "        \n",
    "        mlflow.log_metric(\"apoe_carriers_count\", len(apoe_carriers))\n",
    "        mlflow.log_metric(\"apoe_non_carriers_count\", len(apoe_non_carriers))\n",
    "        mlflow.log_metric(\"apoe_risk_difference\", \n",
    "                         apoe_carriers['composite_risk_score'].mean() - \n",
    "                         apoe_non_carriers['composite_risk_score'].mean())\n",
    "        \n",
    "        print(f\"📊 APOE4 Carriers: {len(apoe_carriers)} ({len(apoe_carriers)/len(df)*100:.1f}%)\")\n",
    "        print(f\"📊 Non-carriers: {len(apoe_non_carriers)} ({len(apoe_non_carriers)/len(df)*100:.1f}%)\")\n"
   ]
  },
  {
   "cell_type": "markdown",
   "id": "f195fb84-dde7-4b0a-8771-c8fb69f0deac",
   "metadata": {},
   "source": [
    "## 3. Estratificación por Edad"
   ]
  },
  {
   "cell_type": "code",
   "execution_count": null,
   "id": "3c35f385-ffdf-41f1-b21c-7a82ed9f1ff6",
   "metadata": {},
   "outputs": [],
   "source": [
    "# 3. Estratificación por Edad\n",
    "if 'age_standardized' in df.columns:\n",
    "    with mlflow.start_run(run_name=\"age_stratification\"):\n",
    "        mlflow.set_tag(\"stratification_type\", \"demographic_age\")\n",
    "        \n",
    "        # Crear grupos de edad\n",
    "        df['age_group'] = pd.cut(df['age_standardized'], \n",
    "                                bins=[-np.inf, -1, 0, 1, np.inf], \n",
    "                                labels=['Very_Low', 'Low', 'High', 'Very_High'])\n",
    "        \n",
    "        age_analysis = df.groupby('age_group').agg({\n",
    "            'composite_risk_score': ['mean', 'std', 'count']\n",
    "        }).round(3)\n",
    "        \n",
    "        print(\"\\n👥 ESTRATIFICACIÓN POR EDAD\")\n",
    "        print(\"=\" * 35)\n",
    "        print(age_analysis)\n",
    "        \n",
    "        # Registrar métricas\n",
    "        for group in df['age_group'].unique():\n",
    "            if pd.notna(group):\n",
    "                group_data = df[df['age_group'] == group]\n",
    "                mlflow.log_metric(f\"age_group_{group}_mean_risk\", \n",
    "                                group_data['composite_risk_score'].mean())\n",
    "                mlflow.log_metric(f\"age_group_{group}_count\", len(group_data))\n"
   ]
  },
  {
   "cell_type": "markdown",
   "id": "45c56af1-ef50-4515-be1c-87a8c77eaaef",
   "metadata": {},
   "source": [
    "## 4. Gaussian Mixture Model para estratificación probabilística"
   ]
  },
  {
   "cell_type": "code",
   "execution_count": null,
   "id": "57d6a4c6-73f4-4517-a731-99c059accf4d",
   "metadata": {},
   "outputs": [],
   "source": [
    "# 4. Gaussian Mixture Model para estratificación probabilística\n",
    "with mlflow.start_run(run_name=\"probabilistic_stratification\"):\n",
    "    mlflow.set_tag(\"model_type\", \"gaussian_mixture\")\n",
    "    \n",
    "    # Determinar número óptimo de componentes\n",
    "    n_components_range = range(2, 6)\n",
    "    bic_scores = []\n",
    "    aic_scores = []\n",
    "    \n",
    "    for n_comp in n_components_range:\n",
    "        gmm = GaussianMixture(n_components=n_comp, random_state=42)\n",
    "        gmm.fit(X_scaled)\n",
    "        bic_scores.append(gmm.bic(X_scaled))\n",
    "        aic_scores.append(gmm.aic(X_scaled))\n",
    "    \n",
    "    # Seleccionar mejor modelo\n",
    "    optimal_components = n_components_range[np.argmin(bic_scores)]\n",
    "    \n",
    "    # Modelo GMM final\n",
    "    gmm_final = GaussianMixture(n_components=optimal_components, random_state=42)\n",
    "    gmm_final.fit(X_scaled)\n",
    "    \n",
    "    # Asignaciones probabilísticas\n",
    "    risk_probabilities = gmm_final.predict_proba(X_scaled)\n",
    "    risk_assignments = gmm_final.predict(X_scaled)\n",
    "    \n",
    "    # Registrar modelo\n",
    "    mlflow.log_param(\"n_components\", optimal_components)\n",
    "    mlflow.log_metric(\"best_bic\", min(bic_scores))\n",
    "    mlflow.log_metric(\"best_aic\", min(aic_scores))\n",
    "    mlflow.sklearn.log_model(gmm_final, \"gmm_risk_stratification\")\n",
    "    \n",
    "    print(f\"🎯 Componentes GMM óptimos: {optimal_components}\")\n",
    "    print(f\"📊 BIC Score: {min(bic_scores):.1f}\")"
   ]
  },
  {
   "cell_type": "code",
   "execution_count": null,
   "id": "2e11b82e-2ace-4b99-91fd-99918de8e78c",
   "metadata": {},
   "outputs": [],
   "source": [
    "# Análisis de componentes GMM\n",
    "df_clustering['gmm_component'] = risk_assignments\n",
    "df_clustering['gmm_max_prob'] = np.max(risk_probabilities, axis=1)\n",
    "\n",
    "gmm_analysis = df_clustering.groupby('gmm_component').agg({\n",
    "    'composite_risk_score': ['mean', 'std', 'count'],\n",
    "    'gmm_max_prob': 'mean'\n",
    "}).round(3)\n",
    "\n",
    "print(\"\\n🎲 ANÁLISIS DE COMPONENTES GMM\")\n",
    "print(\"=\" * 40)\n",
    "print(gmm_analysis)\n",
    "\n",
    "# Visualización GMM\n",
    "fig, axes = plt.subplots(1, 2, figsize=(15, 6))\n",
    "\n",
    "# Componentes en espacio PCA\n",
    "scatter = axes[0].scatter(X_pca[:, 0], X_pca[:, 1], c=risk_assignments, \n",
    "                         cmap='viridis', alpha=0.6)\n",
    "axes[0].set_title('Componentes GMM en Espacio PCA')\n",
    "axes[0].set_xlabel(f'PC1 ({pca.explained_variance_ratio_[0]:.1%})')\n",
    "axes[0].set_ylabel(f'PC2 ({pca.explained_variance_ratio_[1]:.1%})')\n",
    "plt.colorbar(scatter, ax=axes[0])\n",
    "\n",
    "# Probabilidades máximas\n",
    "axes[1].hist(df_clustering['gmm_max_prob'], bins=30, alpha=0.7, color='orange')\n",
    "axes[1].set_title('Distribución de Probabilidades Máximas GMM')\n",
    "axes[1].set_xlabel('Probabilidad Máxima')\n",
    "axes[1].set_ylabel('Frecuencia')\n",
    "\n",
    "plt.tight_layout()\n",
    "plt.show()"
   ]
  },
  {
   "cell_type": "markdown",
   "id": "7056407f-21ee-4726-8a3c-27b06f5a2357",
   "metadata": {},
   "source": [
    "## 5. Modelo jerárquico de estratificación"
   ]
  },
  {
   "cell_type": "code",
   "execution_count": null,
   "id": "30f554db-a8f1-401b-8f49-39e2b9e27df4",
   "metadata": {},
   "outputs": [],
   "source": [
    "# 5. Modelo jerárquico de estratificación\n",
    "with mlflow.start_run(run_name=\"hierarchical_stratification\"):\n",
    "    mlflow.set_tag(\"model_type\", \"hierarchical\")\n",
    "    \n",
    "    # Crear estratificación jerárquica\n",
    "    # Nivel 1: Riesgo general (bajo, moderado, alto)\n",
    "    df_hierarchical = df.copy()\n",
    "    \n",
    "    # Nivel 2: Subestratos por características específicas\n",
    "    conditions = []\n",
    "    \n",
    "    # Alto riesgo + APOE4\n",
    "    if 'APOE_e4_carrier' in df.columns:\n",
    "        high_risk_apoe = (df['risk_category'] == 'High') & (df['APOE_e4_carrier'] == 1)\n",
    "        conditions.append(('High_Risk_APOE4', high_risk_apoe))\n",
    "    \n",
    "    # Alto riesgo sin APOE4\n",
    "    if 'APOE_e4_carrier' in df.columns:\n",
    "        high_risk_no_apoe = (df['risk_category'] == 'High') & (df['APOE_e4_carrier'] == 0)\n",
    "        conditions.append(('High_Risk_No_APOE4', high_risk_no_apoe))\n",
    "    \n",
    "    # Riesgo moderado con biomarcadores altos\n",
    "    if 'biomarker_risk_score' in df.columns:\n",
    "        mod_risk_high_bio = (df['risk_category'] == 'Moderate') & \\\n",
    "                           (df['biomarker_risk_score'] > df['biomarker_risk_score'].quantile(0.75))\n",
    "        conditions.append(('Moderate_Risk_High_Biomarkers', mod_risk_high_bio))\n",
    "    \n",
    "    # Asignar subestratos\n",
    "    df_hierarchical['substrata'] = 'Other'\n",
    "    for name, condition in conditions:\n",
    "        df_hierarchical.loc[condition, 'substrata'] = name\n",
    "    \n",
    "    # Análisis de subestratos\n",
    "    substrata_analysis = df_hierarchical.groupby('substrata').agg({\n",
    "        'composite_risk_score': ['mean', 'std', 'count']\n",
    "    }).round(3)\n",
    "    \n",
    "    print(\"\\n🏗️ ESTRATIFICACIÓN JERÁRQUICA\")\n",
    "    print(\"=\" * 40)\n",
    "    print(substrata_analysis)\n",
    "    \n",
    "    # Registrar métricas\n",
    "    for substrata in df_hierarchical['substrata'].unique():\n",
    "        substrata_data = df_hierarchical[df_hierarchical['substrata'] == substrata]\n",
    "        mlflow.log_metric(f\"substrata_{substrata}_count\", len(substrata_data))\n",
    "        mlflow.log_metric(f\"substrata_{substrata}_mean_risk\", \n",
    "                         substrata_data['composite_risk_score'].mean())"
   ]
  },
  {
   "cell_type": "markdown",
   "id": "fa4198e6-dae5-4f75-a86f-21481adabce6",
   "metadata": {},
   "source": [
    "## 6. Modelo de estratificación basado en biomarcadores"
   ]
  },
  {
   "cell_type": "code",
   "execution_count": null,
   "id": "784bf4af-640f-4547-b0ef-d35fbed4ffe2",
   "metadata": {},
   "outputs": [],
   "source": [
    "# 6. Modelo de estratificación basado en biomarcadores\n",
    "if any('tau' in col.lower() for col in df.columns) or any('abeta' in col.lower() for col in df.columns):\n",
    "    with mlflow.start_run(run_name=\"biomarker_stratification\"):\n",
    "        mlflow.set_tag(\"stratification_type\", \"biomarker_based\")\n",
    "        \n",
    "        # Seleccionar features de biomarcadores\n",
    "        biomarker_cols = [col for col in df.columns if \n",
    "                         any(marker in col.lower() for marker in ['tau', 'abeta', 'ptau'])]\n",
    "        \n",
    "        if biomarker_cols:\n",
    "            biomarker_data = df[biomarker_cols + ['composite_risk_score']].dropna()\n",
    "            \n",
    "            # Clustering específico para biomarcadores\n",
    "            if len(biomarker_data) > 100:\n",
    "                X_bio = biomarker_data.drop('composite_risk_score', axis=1)\n",
    "                X_bio_scaled = StandardScaler().fit_transform(X_bio)\n",
    "                \n",
    "                # K-means para biomarcadores\n",
    "                kmeans_bio = KMeans(n_clusters=3, random_state=42)\n",
    "                bio_clusters = kmeans_bio.fit_predict(X_bio_scaled)\n",
    "                \n",
    "                biomarker_data['biomarker_cluster'] = bio_clusters\n",
    "                \n",
    "                bio_cluster_analysis = biomarker_data.groupby('biomarker_cluster').agg({\n",
    "                    'composite_risk_score': ['mean', 'std', 'count']\n",
    "                }).round(3)\n",
    "                \n",
    "                print(\"\\n🧪 ESTRATIFICACIÓN POR BIOMARCADORES\")\n",
    "                print(\"=\" * 45)\n",
    "                print(bio_cluster_analysis)\n",
    "                \n",
    "                # Registrar métricas\n",
    "                mlflow.log_param(\"biomarker_features\", len(biomarker_cols))\n",
    "                mlflow.log_metric(\"biomarker_samples\", len(biomarker_data))\n",
    "                mlflow.sklearn.log_model(kmeans_bio, \"biomarker_clustering\")"
   ]
  },
  {
   "cell_type": "markdown",
   "id": "ce97b2a0-6fa9-41cd-a491-f8522eb3fff1",
   "metadata": {},
   "source": [
    "## Resumen final de estratificación"
   ]
  },
  {
   "cell_type": "code",
   "execution_count": null,
   "id": "9faa1db2-8b9e-4ee0-937d-888a670aed3f",
   "metadata": {},
   "outputs": [],
   "source": [
    "print(\"\\n\" + \"=\"*60)\n",
    "print(\"📊 RESUMEN DE ESTRATIFICACIÓN DE RIESGO\")\n",
    "print(\"=\"*60)\n",
    "\n",
    "stratification_summary = {\n",
    "    'Total_Pacientes': len(df),\n",
    "    'Fenotipos_Identificados': optimal_k,\n",
    "    'Componentes_GMM': optimal_components,\n",
    "}\n",
    "\n",
    "if 'APOE_e4_carrier' in df.columns:\n",
    "    stratification_summary['APOE4_Carriers'] = df['APOE_e4_carrier'].sum()\n",
    "    stratification_summary['APOE4_Percentage'] = f\"{df['APOE_e4_carrier'].mean()*100:.1f}%\"\n",
    "\n",
    "if 'age_group' in df.columns:\n",
    "    stratification_summary['Grupos_Edad'] = df['age_group'].nunique()\n",
    "\n",
    "if 'substrata' in locals():\n",
    "    stratification_summary['Subestratos_Jerarquicos'] = df_hierarchical['substrata'].nunique()\n",
    "\n",
    "for key, value in stratification_summary.items():\n",
    "    print(f\"🎯 {key}: {value}\")\n",
    "\n",
    "print(\"\\n✅ Estratificación de riesgo completada exitosamente\")\n",
    "print(\"📁 Modelos guardados en MLflow\")\n",
    "print(\"🔄 Listo para la siguiente fase: Evaluación y Optimización\")"
   ]
  },
  {
   "cell_type": "markdown",
   "id": "81711a15-5340-4c57-86e1-5cbfc0828901",
   "metadata": {},
   "source": [
    "## Guardar resultados de estratificación"
   ]
  },
  {
   "cell_type": "code",
   "execution_count": null,
   "id": "7d3191dc-bc04-489c-b6a2-2b68391e967f",
   "metadata": {},
   "outputs": [],
   "source": [
    "# Guardar resultados de estratificación\n",
    "results_to_save = df_clustering.copy()\n",
    "if 'age_group' in df.columns:\n",
    "    results_to_save['age_group'] = df['age_group']\n",
    "if 'substrata' in locals():\n",
    "    results_to_save['substrata'] = df_hierarchical['substrata']\n",
    "\n",
    "results_to_save.to_csv('../data/processed/risk_stratification_results.csv', index=False)\n",
    "print(\"📁 Resultados guardados en: ../data/processed/risk_stratification_results.csv\")"
   ]
  },
  {
   "cell_type": "markdown",
   "id": "86638d6c-9b26-4ab7-9ecd-04ef58de0db8",
   "metadata": {},
   "source": [
    "\n",
    "\n",
    "\n"
   ]
  },
  {
   "cell_type": "markdown",
   "id": "ce9c1760-7e96-4ef7-8630-396c47fedf70",
   "metadata": {},
   "source": [
    "---"
   ]
  },
  {
   "cell_type": "markdown",
   "id": "1c858778-ff19-42c1-9c93-038db2376f2c",
   "metadata": {},
   "source": [
    "__Abraham Tartalos__"
   ]
  }
 ],
 "metadata": {
  "kernelspec": {
   "display_name": "Python 3.10 (Alzheimer)",
   "language": "python",
   "name": "alzheimer-env-py310"
  },
  "language_info": {
   "codemirror_mode": {
    "name": "ipython",
    "version": 3
   },
   "file_extension": ".py",
   "mimetype": "text/x-python",
   "name": "python",
   "nbconvert_exporter": "python",
   "pygments_lexer": "ipython3",
   "version": "3.10.17"
  }
 },
 "nbformat": 4,
 "nbformat_minor": 5
}
