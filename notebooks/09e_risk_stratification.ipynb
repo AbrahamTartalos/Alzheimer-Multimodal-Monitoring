{
 "cells": [
  {
   "cell_type": "markdown",
   "id": "11627ce7-78c5-4a7d-a943-a14045c30105",
   "metadata": {},
   "source": [
    "# 09e - Risk Stratification Models\n",
    " \n",
    "**Objetivo**: Desarrollar modelos de estratificación de riesgo utilizando los pipelines especializados\n",
    " \n",
    "**Componentes**:\n",
    "- Clustering para identificación de fenotipos\n",
    "- Estratificación genética y demográfica  \n",
    "- Modelos probabilísticos GMM\n",
    "- Análisis jerárquico de subestratos"
   ]
  },
  {
   "cell_type": "markdown",
   "id": "3672a99e-016e-467d-b4d4-53d68076f945",
   "metadata": {},
   "source": [
    "   "
   ]
  },
  {
   "cell_type": "markdown",
   "id": "06f4fbcb-0c87-4ae7-8a26-c25f0d504500",
   "metadata": {},
   "source": [
    "---"
   ]
  },
  {
   "cell_type": "markdown",
   "id": "5956f2bd-5236-49c1-9f22-96350e023fd4",
   "metadata": {},
   "source": [
    "## Importar librerías y Configuraciones"
   ]
  },
  {
   "cell_type": "code",
   "execution_count": null,
   "id": "f33faa02-7ffa-427f-943f-9959755b7e8f",
   "metadata": {},
   "outputs": [],
   "source": [
    "import sys\n",
    "import os\n",
    "sys.path.append('../scripts/modeling')\n",
    "\n",
    "import pandas as pd\n",
    "import numpy as np\n",
    "import matplotlib.pyplot as plt\n",
    "import seaborn as sns\n",
    "import mlflow\n",
    "from datetime import datetime\n",
    "import warnings\n",
    "warnings.filterwarnings('ignore')\n",
    "\n",
    "# Importar scripts especializados\n",
    "from risk_stratification import RiskStratificationPipeline\n",
    "from model_utils import ModelEvaluator, DataPreprocessor\n",
    "import ensemble_methods"
   ]
  },
  {
   "cell_type": "code",
   "execution_count": null,
   "id": "4948e9cf-f608-4bb9-a860-4b41ed6d91c9",
   "metadata": {},
   "outputs": [],
   "source": [
    "# Configuración\n",
    "plt.style.use('seaborn-v0_8')\n",
    "sns.set_palette(\"husl\")\n"
   ]
  },
  {
   "cell_type": "code",
   "execution_count": null,
   "id": "867c6f90-3ec5-4c75-8206-efd02c5f191c",
   "metadata": {},
   "outputs": [],
   "source": [
    "print(\"✅ Librerías y scripts importados correctamente\")\n",
    "print(f\"📅 Fecha de ejecución: {datetime.now().strftime('%Y-%m-%d %H:%M:%S')}\")"
   ]
  },
  {
   "cell_type": "code",
   "execution_count": null,
   "id": "4247eada-2808-445a-8e96-10aaf28d9d9d",
   "metadata": {},
   "outputs": [],
   "source": [
    "# Configuración MLflow\n",
    "mlflow.set_experiment(\"alzheimer_risk_stratification\")"
   ]
  },
  {
   "cell_type": "markdown",
   "id": "53c8191c-33fc-4a3c-a79e-95de134b15f7",
   "metadata": {},
   "source": [
    "## Cargar datos procesados"
   ]
  },
  {
   "cell_type": "code",
   "execution_count": null,
   "id": "01554632-a0a9-4024-b33e-fec3f4246e72",
   "metadata": {},
   "outputs": [],
   "source": [
    "# Cargar datos procesados\n",
    "try:\n",
    "    df = pd.read_csv('../data/processed/integrated_features_final.csv')\n",
    "    print(f\"📊 Dataset cargado: {df.shape}\")\n",
    "    print(f\"📈 Score de riesgo disponible: {df['composite_risk_score'].notna().sum()} registros\")\n",
    "    print(f\"🎯 Distribución de categorías:\")\n",
    "    print(df['risk_category'].value_counts())\n",
    "except FileNotFoundError:\n",
    "    print(\"❌ Error: Archivo de features no encontrado\")\n",
    "    print(\"💡 Ejecuta primero el notebook 03_feature_engineering_master.ipynb\")\n"
   ]
  },
  {
   "cell_type": "markdown",
   "id": "4d1bdfad-e576-40d8-984c-89cccaa23430",
   "metadata": {},
   "source": [
    "## Inicializar pipeline de estratificación y Preparar datos usando utilities"
   ]
  },
  {
   "cell_type": "code",
   "execution_count": null,
   "id": "c3e4fbdd-b642-436b-bedf-481a71c9e038",
   "metadata": {},
   "outputs": [],
   "source": [
    "# Inicializar pipeline de estratificación\n",
    "stratifier = RiskStratificationPipeline(\n",
    "    target_column='composite_risk_score',\n",
    "    category_column='risk_category'\n",
    ")\n",
    "\n",
    "# Preparar datos usando utilities\n",
    "preprocessor = DataPreprocessor()\n",
    "X_processed, feature_names = preprocessor.prepare_stratification_features(df)\n",
    "y_risk = df['composite_risk_score'].dropna()\n",
    "\n",
    "print(f\"🔧 Features preparadas: {len(feature_names)}\")\n",
    "print(f\"📊 Registros válidos: {len(X_processed)}\")"
   ]
  },
  {
   "cell_type": "markdown",
   "id": "995ad42e-8647-4192-ae70-899c1a375986",
   "metadata": {},
   "source": [
    "## 1. Identificación de Fenotipos con K-Means"
   ]
  },
  {
   "cell_type": "code",
   "execution_count": null,
   "id": "cbd40dc1-430b-462e-8a8e-bc27e82cd0f2",
   "metadata": {},
   "outputs": [],
   "source": [
    "# 1. Identificación de Fenotipos con K-Means\n",
    "with mlflow.start_run(run_name=\"phenotype_identification\"):\n",
    "    mlflow.set_tag(\"phase\", \"risk_stratification\")\n",
    "    mlflow.set_tag(\"method\", \"kmeans_clustering\")\n",
    "    \n",
    "    # Ejecutar clustering de fenotipos\n",
    "    phenotype_results = stratifier.identify_phenotypes(\n",
    "        X_processed, \n",
    "        method='kmeans',\n",
    "        k_range=(2, 8)\n",
    "    )\n",
    "    \n",
    "    # Registrar resultados\n",
    "    mlflow.log_params(phenotype_results['params'])\n",
    "    mlflow.log_metrics(phenotype_results['metrics'])\n",
    "    mlflow.sklearn.log_model(phenotype_results['model'], \"phenotype_model\")\n",
    "    \n",
    "    print(f\"🧬 Fenotipos identificados: {phenotype_results['n_clusters']}\")\n",
    "    print(f\"📊 Silhouette Score: {phenotype_results['metrics']['silhouette_score']:.3f}\")\n"
   ]
  },
  {
   "cell_type": "markdown",
   "id": "f8b47553-4f37-4465-afce-49e2387fc2ab",
   "metadata": {},
   "source": [
    "## 2. Estratificación Genética por APOE"
   ]
  },
  {
   "cell_type": "code",
   "execution_count": null,
   "id": "1a169533-61c8-4228-8b18-4ae9051d163e",
   "metadata": {},
   "outputs": [],
   "source": [
    "# 2. Estratificación Genética por APOE\n",
    "if 'APOE_e4_carrier' in df.columns:\n",
    "    with mlflow.start_run(run_name=\"genetic_stratification\"):\n",
    "        mlflow.set_tag(\"stratification_type\", \"genetic_apoe\")\n",
    "        \n",
    "        # Ejecutar estratificación genética\n",
    "        genetic_results = stratifier.genetic_stratification(\n",
    "            df, \n",
    "            genetic_markers=['APOE_e4_carrier', 'APOE_e4_present']\n",
    "        )\n",
    "        \n",
    "        # Registrar métricas\n",
    "        mlflow.log_metrics(genetic_results['metrics'])\n",
    "        \n",
    "        print(\"🧬 ESTRATIFICACIÓN GENÉTICA COMPLETADA\")\n",
    "        print(f\"📊 APOE4 Carriers: {genetic_results['apoe_carrier_stats']['count']}\")\n",
    "        print(f\"📈 Diferencia de riesgo: {genetic_results['metrics']['risk_difference']:.3f}\")\n"
   ]
  },
  {
   "cell_type": "markdown",
   "id": "f195fb84-dde7-4b0a-8771-c8fb69f0deac",
   "metadata": {},
   "source": [
    "## 3. Estratificación Probabilística con GMM"
   ]
  },
  {
   "cell_type": "code",
   "execution_count": null,
   "id": "3c35f385-ffdf-41f1-b21c-7a82ed9f1ff6",
   "metadata": {},
   "outputs": [],
   "source": [
    "# 3. Estratificación Probabilística con GMM\n",
    "with mlflow.start_run(run_name=\"probabilistic_stratification\"):\n",
    "    mlflow.set_tag(\"method\", \"gaussian_mixture\")\n",
    "    \n",
    "    # Ejecutar GMM\n",
    "    gmm_results = stratifier.probabilistic_stratification(\n",
    "        X_processed,\n",
    "        method='gmm',\n",
    "        n_components_range=(2, 6)\n",
    "    )\n",
    "    \n",
    "    # Registrar modelo\n",
    "    mlflow.log_params(gmm_results['params'])\n",
    "    mlflow.log_metrics(gmm_results['metrics'])\n",
    "    mlflow.sklearn.log_model(gmm_results['model'], \"gmm_model\")\n",
    "    \n",
    "    print(f\"🎲 Componentes GMM óptimos: {gmm_results['n_components']}\")\n",
    "    print(f\"📊 BIC Score: {gmm_results['metrics']['bic_score']:.1f}\")\n"
   ]
  },
  {
   "cell_type": "markdown",
   "id": "45c56af1-ef50-4515-be1c-87a8c77eaaef",
   "metadata": {},
   "source": [
    "## 4. Estratificación Jerárquica"
   ]
  },
  {
   "cell_type": "code",
   "execution_count": null,
   "id": "57d6a4c6-73f4-4517-a731-99c059accf4d",
   "metadata": {},
   "outputs": [],
   "source": [
    "# 4. Estratificación Jerárquica\n",
    "with mlflow.start_run(run_name=\"hierarchical_stratification\"):\n",
    "    mlflow.set_tag(\"method\", \"hierarchical\")\n",
    "    \n",
    "    # Definir criterios jerárquicos\n",
    "    hierarchical_criteria = {\n",
    "        'high_risk_apoe': {\n",
    "            'conditions': ['risk_category == \"High\"', 'APOE_e4_carrier == 1'],\n",
    "            'operator': 'and'\n",
    "        },\n",
    "        'moderate_risk_high_bio': {\n",
    "            'conditions': ['risk_category == \"Moderate\"', 'biomarker_risk_score > 0.7'],\n",
    "            'operator': 'and'\n",
    "        }\n",
    "    }\n",
    "    \n",
    "    # Ejecutar estratificación jerárquica\n",
    "    hierarchical_results = stratifier.hierarchical_stratification(\n",
    "        df,\n",
    "        criteria=hierarchical_criteria\n",
    "    )\n",
    "    \n",
    "    # Registrar resultados\n",
    "    mlflow.log_metrics(hierarchical_results['metrics'])\n",
    "    \n",
    "    print(\"🏗️ ESTRATIFICACIÓN JERÁRQUICA COMPLETADA\")\n",
    "    print(f\"📊 Subestratos identificados: {hierarchical_results['n_substrata']}\")\n"
   ]
  },
  {
   "cell_type": "markdown",
   "id": "7056407f-21ee-4726-8a3c-27b06f5a2357",
   "metadata": {},
   "source": [
    "## 5. Estratificación por Biomarcadores"
   ]
  },
  {
   "cell_type": "code",
   "execution_count": null,
   "id": "30f554db-a8f1-401b-8f49-39e2b9e27df4",
   "metadata": {},
   "outputs": [],
   "source": [
    "# 5. Estratificación por Biomarcadores\n",
    "biomarker_features = [col for col in df.columns if \n",
    "                     any(marker in col.lower() for marker in ['tau', 'abeta', 'ptau'])]\n",
    "\n",
    "if biomarker_features:\n",
    "    with mlflow.start_run(run_name=\"biomarker_stratification\"):\n",
    "        mlflow.set_tag(\"stratification_type\", \"biomarker\")\n",
    "        \n",
    "        # Ejecutar clustering de biomarcadores\n",
    "        biomarker_results = stratifier.biomarker_stratification(\n",
    "            df,\n",
    "            biomarker_columns=biomarker_features,\n",
    "            n_clusters=3\n",
    "        )\n",
    "        \n",
    "        # Registrar modelo\n",
    "        mlflow.log_params(biomarker_results['params'])\n",
    "        mlflow.log_metrics(biomarker_results['metrics'])\n",
    "        mlflow.sklearn.log_model(biomarker_results['model'], \"biomarker_model\")\n",
    "        \n",
    "        print(\"🧪 ESTRATIFICACIÓN POR BIOMARCADORES COMPLETADA\")\n",
    "        print(f\"📊 Clusters de biomarcadores: {biomarker_results['n_clusters']}\")\n"
   ]
  },
  {
   "cell_type": "markdown",
   "id": "fa4198e6-dae5-4f75-a86f-21481adabce6",
   "metadata": {},
   "source": [
    "## 6. Ensemble de Estratificación"
   ]
  },
  {
   "cell_type": "code",
   "execution_count": null,
   "id": "784bf4af-640f-4547-b0ef-d35fbed4ffe2",
   "metadata": {},
   "outputs": [],
   "source": [
    "# 6. Ensemble de Estratificación\n",
    "with mlflow.start_run(run_name=\"ensemble_stratification\"):\n",
    "    mlflow.set_tag(\"method\", \"ensemble\")\n",
    "    \n",
    "    # Combinar resultados de múltiples métodos\n",
    "    ensemble_stratifier = ensemble_methods.StratificationEnsemble()\n",
    "    \n",
    "    # Agregar métodos individuales\n",
    "    ensemble_stratifier.add_method('phenotypes', phenotype_results)\n",
    "    ensemble_stratifier.add_method('gmm', gmm_results)\n",
    "    if 'genetic_results' in locals():\n",
    "        ensemble_stratifier.add_method('genetic', genetic_results)\n",
    "    \n",
    "    # Generar ensemble\n",
    "    ensemble_results = ensemble_stratifier.combine_stratifications(\n",
    "        method='voting',\n",
    "        weights='performance'\n",
    "    )\n",
    "    \n",
    "    # Registrar ensemble\n",
    "    mlflow.log_metrics(ensemble_results['metrics'])\n",
    "    \n",
    "    print(\"🎯 ENSEMBLE DE ESTRATIFICACIÓN COMPLETADO\")\n",
    "    print(f\"📊 Score de consenso: {ensemble_results['consensus_score']:.3f}\")\n"
   ]
  },
  {
   "cell_type": "markdown",
   "id": "ce97b2a0-6fa9-41cd-a491-f8522eb3fff1",
   "metadata": {},
   "source": [
    "## Visualización de Resultados"
   ]
  },
  {
   "cell_type": "code",
   "execution_count": null,
   "id": "9faa1db2-8b9e-4ee0-937d-888a670aed3f",
   "metadata": {},
   "outputs": [],
   "source": [
    "# Visualización de Resultados\n",
    "evaluator = ModelEvaluator()\n",
    "\n",
    "# Crear visualizaciones integradas\n",
    "fig, axes = plt.subplots(2, 3, figsize=(18, 12))\n",
    "\n",
    "# 1. Distribución de fenotipos\n",
    "evaluator.plot_stratification_results(\n",
    "    phenotype_results, \n",
    "    title=\"Fenotipos Identificados\",\n",
    "    ax=axes[0,0]\n",
    ")\n",
    "\n",
    "# 2. Componentes GMM\n",
    "evaluator.plot_stratification_results(\n",
    "    gmm_results,\n",
    "    title=\"Componentes GMM\", \n",
    "    ax=axes[0,1]\n",
    ")\n",
    "\n",
    "# 3. Distribución de riesgo por estrato\n",
    "stratifier.plot_risk_distribution_by_strata(ax=axes[0,2])\n",
    "\n",
    "# 4. Comparación de métodos\n",
    "if 'ensemble_results' in locals():\n",
    "    evaluator.plot_method_comparison(\n",
    "        [phenotype_results, gmm_results, ensemble_results],\n",
    "        method_names=['K-Means', 'GMM', 'Ensemble'],\n",
    "        ax=axes[1,0]\n",
    "    )\n",
    "\n",
    "# 5. Matriz de consenso\n",
    "if 'ensemble_results' in locals():\n",
    "    evaluator.plot_consensus_matrix(ensemble_results, ax=axes[1,1])\n",
    "\n",
    "# 6. Métricas de calidad\n",
    "quality_metrics = stratifier.compute_stratification_quality()\n",
    "evaluator.plot_quality_metrics(quality_metrics, ax=axes[1,2])\n",
    "\n",
    "plt.tight_layout()\n",
    "plt.show()\n",
    "\n",
    "print(\"📊 Visualizaciones generadas correctamente\")\n"
   ]
  },
  {
   "cell_type": "markdown",
   "id": "81711a15-5340-4c57-86e1-5cbfc0828901",
   "metadata": {},
   "source": [
    "## Resumen Final, Exportación y Guardado resultados"
   ]
  },
  {
   "cell_type": "code",
   "execution_count": null,
   "id": "7d3191dc-bc04-489c-b6a2-2b68391e967f",
   "metadata": {},
   "outputs": [],
   "source": [
    "# Resumen Final y Exportación\n",
    "print(\"\\n\" + \"=\"*60)\n",
    "print(\"📊 RESUMEN DE ESTRATIFICACIÓN DE RIESGO\")\n",
    "print(\"=\"*60)\n",
    "\n",
    "# Compilar resumen\n",
    "summary_stats = stratifier.generate_summary_report()\n",
    "\n",
    "for category, stats in summary_stats.items():\n",
    "    print(f\"\\n🎯 {category.upper()}:\")\n",
    "    for key, value in stats.items():\n",
    "        print(f\"   • {key}: {value}\")\n"
   ]
  },
  {
   "cell_type": "code",
   "execution_count": null,
   "id": "987a120f-7029-4281-b966-26f38d974242",
   "metadata": {},
   "outputs": [],
   "source": [
    "# Guardar resultados consolidados\n",
    "consolidated_results = stratifier.consolidate_results()\n",
    "consolidated_results.to_csv('../data/processed/risk_stratification_results.csv', index=False)\n",
    "\n",
    "# Guardar modelos para la siguiente fase\n",
    "model_artifacts = {\n",
    "    'phenotype_model': phenotype_results['model'],\n",
    "    'gmm_model': gmm_results['model'],\n",
    "}\n",
    "\n",
    "if 'genetic_results' in locals():\n",
    "    model_artifacts['genetic_stratification'] = genetic_results\n",
    "\n",
    "if 'ensemble_results' in locals():\n",
    "    model_artifacts['ensemble_model'] = ensemble_results\n",
    "\n",
    "# Exportar para fase de evaluación\n",
    "import joblib\n",
    "joblib.dump(model_artifacts, '../models/stratification_models.pkl')\n",
    "\n",
    "print(\"\\n✅ Estratificación de riesgo completada exitosamente\")\n",
    "print(\"📁 Modelos guardados en MLflow y ../models/\")\n",
    "print(\"📊 Resultados exportados a ../data/processed/\")\n",
    "print(\"🔄 Listo para Fase 5: Evaluación y Optimización\")"
   ]
  },
  {
   "cell_type": "markdown",
   "id": "86638d6c-9b26-4ab7-9ecd-04ef58de0db8",
   "metadata": {},
   "source": [
    "\n",
    "\n",
    "\n"
   ]
  },
  {
   "cell_type": "markdown",
   "id": "ce9c1760-7e96-4ef7-8630-396c47fedf70",
   "metadata": {},
   "source": [
    "---"
   ]
  },
  {
   "cell_type": "markdown",
   "id": "1c858778-ff19-42c1-9c93-038db2376f2c",
   "metadata": {},
   "source": [
    "__Abraham Tartalos__"
   ]
  }
 ],
 "metadata": {
  "kernelspec": {
   "display_name": "Python 3.10 (Alzheimer)",
   "language": "python",
   "name": "alzheimer-env-py310"
  },
  "language_info": {
   "codemirror_mode": {
    "name": "ipython",
    "version": 3
   },
   "file_extension": ".py",
   "mimetype": "text/x-python",
   "name": "python",
   "nbconvert_exporter": "python",
   "pygments_lexer": "ipython3",
   "version": "3.10.17"
  }
 },
 "nbformat": 4,
 "nbformat_minor": 5
}
