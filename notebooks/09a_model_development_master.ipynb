{
 "cells": [
  {
   "cell_type": "markdown",
   "id": "ef495183-83d0-496c-855c-0ceab5183d2e",
   "metadata": {},
   "source": [
    "# 04a - Model Development Master\n",
    "# \n",
    "# **Coordinador Principal de la Fase 4: Desarrollo de Modelos**\n",
    "# \n",
    "# Este notebook orquesta todo el desarrollo de modelos para el proyecto de Monitorización Multimodal de Alzheimer:\n",
    "# \n",
    "# **Objetivos principales**:\n",
    "# - Coordinar la ejecución de todos los pipelines de modelado\n",
    "# - Integrar resultados de regresión, clasificación, análisis temporal y estratificación\n",
    "# - Gestionar experimentos MLflow de manera centralizada\n",
    "# - Generar resumen executivo de todos los modelos desarrollados\n",
    "# \n",
    "# **Notebooks integrados**:\n",
    "# - 04b_regression_models.ipynb (composite_risk_score)\n",
    "# - 04c_classification_models.ipynb (risk_category)\n",
    "# - 04d_temporal_analysis.ipynb (series temporales)\n",
    "# - 04e_risk_stratification.ipynb (estratificación)"
   ]
  },
  {
   "cell_type": "markdown",
   "id": "b8229858-2655-4641-acdc-66fc54b375e3",
   "metadata": {},
   "source": [
    "## Importar librerías"
   ]
  },
  {
   "cell_type": "code",
   "execution_count": 1,
   "id": "b3817d22-1478-45af-8808-5622077d2333",
   "metadata": {},
   "outputs": [],
   "source": [
    "import sys\n",
    "import os\n",
    "sys.path.append('../src/modeling')\n",
    "\n",
    "import pandas as pd\n",
    "import numpy as np\n",
    "import matplotlib.pyplot as plt\n",
    "import seaborn as sns\n",
    "import mlflow\n",
    "import mlflow.sklearn\n",
    "from datetime import datetime\n",
    "import warnings\n",
    "warnings.filterwarnings('ignore')\n",
    "\n",
    "# Importar scripts de modelado\n",
    "from regression_pipeline import RegressionPipeline\n",
    "from classification_pipeline import ClassificationPipeline\n",
    "from temporal_modeling import TemporalModeling\n",
    "from risk_stratification import RiskStratification\n",
    "from ensemble_methods import EnsembleMethods\n",
    "from model_utils import ModelUtils"
   ]
  },
  {
   "cell_type": "code",
   "execution_count": 2,
   "id": "2138b8fa-ab40-4908-a4e0-695b12e0e752",
   "metadata": {},
   "outputs": [
    {
     "name": "stdout",
     "output_type": "stream",
     "text": [
      "Iniciando Fase 4: Desarrollo de Modelos\n",
      "============================================================\n"
     ]
    }
   ],
   "source": [
    "# Configuración de visualización\n",
    "plt.style.use('seaborn-v0_8')\n",
    "sns.set_palette(\"husl\")"
   ]
  },
  {
   "cell_type": "code",
   "execution_count": null,
   "id": "eacd7375-b7db-4e33-b582-1ea19fd8d1d1",
   "metadata": {},
   "outputs": [],
   "source": [
    "print(\"🚀 FASE 4: DESARROLLO DE MODELOS - COORDINADOR MASTER\")\n",
    "print(\"=\" * 60)\n",
    "print(f\"📅 Fecha de ejecución: {datetime.now().strftime('%Y-%m-%d %H:%M:%S')}\")\n",
    "print(\"✅ Librerías y scripts importados correctamente\")"
   ]
  },
  {
   "cell_type": "markdown",
   "id": "6c1ad125-efb1-40c7-ae79-cf2a9092c223",
   "metadata": {},
   "source": [
    "## Configuración MLflow Master"
   ]
  },
  {
   "cell_type": "code",
   "execution_count": 3,
   "id": "3f9f5044-b66f-419a-b885-16bd2f341eee",
   "metadata": {},
   "outputs": [
    {
     "name": "stdout",
     "output_type": "stream",
     "text": [
      "📁 Configurando rutas y cargando datos...\n",
      "📊 Cargando dataset final...\n",
      "📋 Cargando metadatos de feature engineering...\n",
      "✅ Dataset cargado: (48466, 189)\n",
      "✅ Features seleccionadas: 192\n",
      "✅ Registros válidos: 48466\n"
     ]
    }
   ],
   "source": [
    "# Configuración MLflow Master\n",
    "mlflow.set_experiment(\"alzheimer_model_development_master\")\n",
    "\n",
    "# Configuración global del proyecto\n",
    "PROJECT_CONFIG = {\n",
    "    'project_name': 'Alzheimer_Multimodal_Monitoring',\n",
    "    'phase': 'model_development',\n",
    "    'target_regression': 'composite_risk_score',\n",
    "    'target_classification': 'risk_category',\n",
    "    'data_path': '../data/processed/integrated_features_final.csv',\n",
    "    'results_path': '../results/model_development/',\n",
    "    'random_state': 42\n",
    "}\n",
    "\n",
    "# Crear directorio de resultados si no existe\n",
    "os.makedirs(PROJECT_CONFIG['results_path'], exist_ok=True)\n",
    "\n",
    "print(\"🔧 Configuración MLflow Master establecida\")\n",
    "print(f\"🎯 Target Regresión: {PROJECT_CONFIG['target_regression']}\")\n",
    "print(f\"🎯 Target Clasificación: {PROJECT_CONFIG['target_classification']}\")\n"
   ]
  },
  {
   "cell_type": "markdown",
   "id": "ebbb6db0-6bee-452d-ae44-c4bd834c271f",
   "metadata": {},
   "source": [
    "## Cargar y validar datos"
   ]
  },
  {
   "cell_type": "code",
   "execution_count": 5,
   "id": "ee917622-78bd-442e-9233-b2d213ed774e",
   "metadata": {},
   "outputs": [
    {
     "name": "stdout",
     "output_type": "stream",
     "text": [
      "\n",
      "🔧 Configurando MLflow para tracking de experimentos...\n",
      "✅ Experimento creado: Alzheimer_Multimodal_Monitoring_Phase4\n"
     ]
    }
   ],
   "source": [
    "# Cargar y validar datos\n",
    "print(\"\\n📊 CARGA Y VALIDACIÓN DE DATOS\")\n",
    "print(\"-\" * 40)\n",
    "\n",
    "try:\n",
    "    df = pd.read_csv(PROJECT_CONFIG['data_path'])\n",
    "    \n",
    "    # Validaciones básicas\n",
    "    utils = ModelUtils()\n",
    "    data_quality = utils.validate_data_quality(df, \n",
    "                                               PROJECT_CONFIG['target_regression'],\n",
    "                                               PROJECT_CONFIG['target_classification'])\n",
    "    \n",
    "    print(f\"✅ Dataset cargado: {df.shape}\")\n",
    "    print(f\"📈 Registros válidos para regresión: {data_quality['regression_samples']}\")\n",
    "    print(f\"📊 Registros válidos para clasificación: {data_quality['classification_samples']}\")\n",
    "    print(f\"🎯 Features disponibles: {data_quality['total_features']}\")\n",
    "    print(f\"📉 Completitud promedio: {data_quality['data_completeness']:.1%}\")\n",
    "    \n",
    "    if data_quality['quality_score'] < 0.7:\n",
    "        print(\"⚠️  Advertencia: Calidad de datos por debajo del umbral recomendado\")\n",
    "    \n",
    "except FileNotFoundError:\n",
    "    print(\"❌ Error: Archivo de features no encontrado\")\n",
    "    print(\"💡 Ejecuta primero el notebook 03_feature_engineering_master.ipynb\")\n",
    "    raise"
   ]
  },
  {
   "cell_type": "markdown",
   "id": "5b422f89-8b69-49cc-b404-9412d0a1d87e",
   "metadata": {},
   "source": [
    "## Inicializar pipelines de modelado"
   ]
  },
  {
   "cell_type": "code",
   "execution_count": 6,
   "id": "55ec6d8e-cb7a-4942-a9e2-a750ee193fea",
   "metadata": {},
   "outputs": [
    {
     "name": "stdout",
     "output_type": "stream",
     "text": [
      "\n",
      "📊 Realizando análisis preliminar del dataset...\n",
      "🔍 INFORMACIÓN BÁSICA DEL DATASET:\n",
      "  • Forma del dataset: (48466, 189)\n",
      "  • Registros únicos: 48198\n",
      "  • Memoria utilizada: 92.6 MB\n",
      "\n",
      "🎯 VARIABLES OBJETIVO:\n",
      "  • Continua: composite_risk_score\n",
      "  • Categórica: risk_category\n",
      "\n",
      "📈 DISTRIBUCIÓN - COMPOSITE_RISK_SCORE:\n",
      "  • count: 48466.0000\n",
      "  • mean: 0.3671\n",
      "  • std: 0.2128\n",
      "  • min: 0.0000\n",
      "  • 25%: 0.1489\n",
      "  • 50%: 0.3631\n",
      "  • 75%: 0.5714\n",
      "  • max: 0.9286\n",
      "\n",
      "📊 DISTRIBUCIÓN - RISK_CATEGORY:\n",
      "  • Low: 22,501 (46.4%)\n",
      "  • Moderate: 22,345 (46.1%)\n",
      "  • High: 3,620 (7.5%)\n"
     ]
    }
   ],
   "source": [
    "# Inicializar pipelines de modelado\n",
    "print(\"\\n🔧 INICIALIZACIÓN DE PIPELINES\")\n",
    "print(\"-\" * 40)\n",
    "\n",
    "with mlflow.start_run(run_name=\"master_pipeline_initialization\"):\n",
    "    mlflow.set_tag(\"phase\", \"model_development\")\n",
    "    mlflow.set_tag(\"pipeline_type\", \"master_coordinator\")\n",
    "    \n",
    "    # Inicializar pipelines\n",
    "    regression_pipeline = RegressionPipeline(random_state=PROJECT_CONFIG['random_state'])\n",
    "    classification_pipeline = ClassificationPipeline(random_state=PROJECT_CONFIG['random_state'])\n",
    "    temporal_pipeline = TemporalModeling(random_state=PROJECT_CONFIG['random_state'])\n",
    "    stratification_pipeline = RiskStratification(random_state=PROJECT_CONFIG['random_state'])\n",
    "    ensemble_pipeline = EnsembleMethods(random_state=PROJECT_CONFIG['random_state'])\n",
    "    \n",
    "    # Registrar configuración\n",
    "    mlflow.log_params(PROJECT_CONFIG)\n",
    "    mlflow.log_metrics(data_quality)\n",
    "    \n",
    "    print(\"✅ Pipeline de Regresión inicializado\")\n",
    "    print(\"✅ Pipeline de Clasificación inicializado\") \n",
    "    print(\"✅ Pipeline Temporal inicializado\")\n",
    "    print(\"✅ Pipeline de Estratificación inicializado\")\n",
    "    print(\"✅ Pipeline de Ensemble inicializado\")\n"
   ]
  },
  {
   "cell_type": "markdown",
   "id": "30f4617e-089f-4aab-921b-7e9264c762ae",
   "metadata": {},
   "source": [
    "## 1. EJECUTAR MODELOS DE REGRESIÓN"
   ]
  },
  {
   "cell_type": "code",
   "execution_count": null,
   "id": "ca202bbb-4f3e-4053-a8da-6fed22b3a64a",
   "metadata": {},
   "outputs": [],
   "source": [
    "# 1. EJECUTAR MODELOS DE REGRESIÓN\n",
    "print(\"\\n🎯 FASE 1: MODELOS DE REGRESIÓN\")\n",
    "print(\"-\" * 40)\n",
    "\n",
    "with mlflow.start_run(run_name=\"regression_models_execution\", nested=True):\n",
    "    mlflow.set_tag(\"model_family\", \"regression\")\n",
    "    \n",
    "    # Preparar datos para regresión\n",
    "    X_reg, y_reg = utils.prepare_regression_data(df, PROJECT_CONFIG['target_regression'])\n",
    "    \n",
    "    # Ejecutar pipeline de regresión\n",
    "    regression_results = regression_pipeline.run_full_pipeline(X_reg, y_reg)\n",
    "    \n",
    "    # Registrar mejores métricas\n",
    "    best_model = regression_results['best_model']\n",
    "    mlflow.log_metrics({\n",
    "        'best_regression_r2': regression_results['best_metrics']['r2'],\n",
    "        'best_regression_rmse': regression_results['best_metrics']['rmse'],\n",
    "        'best_regression_mae': regression_results['best_metrics']['mae']\n",
    "    })\n",
    "    \n",
    "    print(f\"🏆 Mejor modelo de regresión: {best_model}\")\n",
    "    print(f\"📊 R² Score: {regression_results['best_metrics']['r2']:.4f}\")\n",
    "    print(f\"📊 RMSE: {regression_results['best_metrics']['rmse']:.4f}\")\n"
   ]
  },
  {
   "cell_type": "markdown",
   "id": "cf72a4f5-5bff-4d97-93c2-6b17720ce92e",
   "metadata": {},
   "source": [
    "## 2. EJECUTAR MODELOS DE CLASIFICACIÓN"
   ]
  },
  {
   "cell_type": "code",
   "execution_count": null,
   "id": "7294ae9b-4073-480d-9372-84b318f30b20",
   "metadata": {},
   "outputs": [],
   "source": [
    "# 2. EJECUTAR MODELOS DE CLASIFICACIÓN  \n",
    "print(\"\\n🎯 FASE 2: MODELOS DE CLASIFICACIÓN\")\n",
    "print(\"-\" * 40)\n",
    "\n",
    "with mlflow.start_run(run_name=\"classification_models_execution\", nested=True):\n",
    "    mlflow.set_tag(\"model_family\", \"classification\")\n",
    "    \n",
    "    # Preparar datos para clasificación\n",
    "    X_clf, y_clf = utils.prepare_classification_data(df, PROJECT_CONFIG['target_classification'])\n",
    "    \n",
    "    # Ejecutar pipeline de clasificación\n",
    "    classification_results = classification_pipeline.run_full_pipeline(X_clf, y_clf)\n",
    "    \n",
    "    # Registrar mejores métricas\n",
    "    best_clf_model = classification_results['best_model']\n",
    "    mlflow.log_metrics({\n",
    "        'best_classification_accuracy': classification_results['best_metrics']['accuracy'],\n",
    "        'best_classification_f1': classification_results['best_metrics']['f1_macro'],\n",
    "        'best_classification_precision': classification_results['best_metrics']['precision_macro'],\n",
    "        'best_classification_recall': classification_results['best_metrics']['recall_macro']\n",
    "    })\n",
    "    \n",
    "    print(f\"🏆 Mejor modelo de clasificación: {best_clf_model}\")\n",
    "    print(f\"📊 Accuracy: {classification_results['best_metrics']['accuracy']:.4f}\")\n",
    "    print(f\"📊 F1-Score: {classification_results['best_metrics']['f1_macro']:.4f}\")\n"
   ]
  },
  {
   "cell_type": "markdown",
   "id": "e03fde1f-1cc5-4a2c-84aa-f4d5612fe706",
   "metadata": {},
   "source": [
    "## 3. EJECUTAR ANÁLISIS TEMPORAL"
   ]
  },
  {
   "cell_type": "code",
   "execution_count": null,
   "id": "97f5e218-6a4e-4bce-aae5-03e904feaae6",
   "metadata": {},
   "outputs": [],
   "source": [
    "# 3. EJECUTAR ANÁLISIS TEMPORAL\n",
    "print(\"\\n🎯 FASE 3: ANÁLISIS TEMPORAL\")\n",
    "print(\"-\" * 40)\n",
    "\n",
    "with mlflow.start_run(run_name=\"temporal_analysis_execution\", nested=True):\n",
    "    mlflow.set_tag(\"model_family\", \"temporal\")\n",
    "    \n",
    "    # Verificar disponibilidad de datos temporales\n",
    "    temporal_features = [col for col in df.columns if any(x in col.lower() for x in ['time', 'date', 'sequence', 'visit'])]\n",
    "    \n",
    "    if temporal_features:\n",
    "        # Ejecutar análisis temporal\n",
    "        temporal_results = temporal_pipeline.run_temporal_analysis(df, temporal_features)\n",
    "        \n",
    "        mlflow.log_metrics({\n",
    "            'temporal_features_count': len(temporal_features),\n",
    "            'temporal_samples': temporal_results.get('samples', 0)\n",
    "        })\n",
    "        \n",
    "        print(f\"📈 Features temporales identificadas: {len(temporal_features)}\")\n",
    "        print(f\"📊 Análisis temporal completado\")\n",
    "    else:\n",
    "        print(\"⚠️  No se encontraron features temporales suficientes\")\n",
    "        print(\"💡 Análisis temporal omitido en esta iteración\")\n"
   ]
  },
  {
   "cell_type": "markdown",
   "id": "bccfff1c-8cc3-4229-bfcd-5b8ea10deaa9",
   "metadata": {},
   "source": [
    "## 4. EJECUTAR ESTRATIFICACIÓN DE RIESGO"
   ]
  },
  {
   "cell_type": "code",
   "execution_count": null,
   "id": "5800411d-3963-453b-bb73-bde2e2cbef28",
   "metadata": {},
   "outputs": [],
   "source": [
    "# 4. EJECUTAR ESTRATIFICACIÓN DE RIESGO\n",
    "print(\"\\n🎯 FASE 4: ESTRATIFICACIÓN DE RIESGO\")\n",
    "print(\"-\" * 40)\n",
    "\n",
    "with mlflow.start_run(run_name=\"risk_stratification_execution\", nested=True):\n",
    "    mlflow.set_tag(\"model_family\", \"stratification\")\n",
    "    \n",
    "    # Ejecutar estratificación\n",
    "    stratification_results = stratification_pipeline.run_stratification_analysis(df, \n",
    "                                                                               PROJECT_CONFIG['target_regression'])\n",
    "    \n",
    "    # Registrar métricas de estratificación\n",
    "    mlflow.log_metrics({\n",
    "        'phenotypes_identified': stratification_results['n_phenotypes'],\n",
    "        'stratification_quality': stratification_results['silhouette_score'],\n",
    "        'risk_groups': stratification_results['n_risk_groups']\n",
    "    })\n",
    "    \n",
    "    print(f\"🧬 Fenotipos identificados: {stratification_results['n_phenotypes']}\")\n",
    "    print(f\"📊 Calidad de estratificación: {stratification_results['silhouette_score']:.3f}\")\n",
    "    print(f\"🎯 Grupos de riesgo: {stratification_results['n_risk_groups']}\")\n"
   ]
  },
  {
   "cell_type": "markdown",
   "id": "119ba3b3-1c37-4b9d-863f-30c7c5c19c88",
   "metadata": {},
   "source": [
    "## 5. EJECUTAR MÉTODOS ENSEMBLE"
   ]
  },
  {
   "cell_type": "code",
   "execution_count": null,
   "id": "a5c872f5-ede7-4ec1-93fe-031480521c1c",
   "metadata": {},
   "outputs": [],
   "source": [
    "# 5. EJECUTAR MÉTODOS ENSEMBLE\n",
    "print(\"\\n🎯 FASE 5: MÉTODOS ENSEMBLE\")\n",
    "print(\"-\" * 40)\n",
    "\n",
    "with mlflow.start_run(run_name=\"ensemble_methods_execution\", nested=True):\n",
    "    mlflow.set_tag(\"model_family\", \"ensemble\")\n",
    "    \n",
    "    # Combinar mejores modelos en ensemble\n",
    "    base_models = {\n",
    "        'regression': regression_results['top_models'][:3],\n",
    "        'classification': classification_results['top_models'][:3]\n",
    "    }\n",
    "    \n",
    "    # Ejecutar ensemble para regresión\n",
    "    ensemble_reg_results = ensemble_pipeline.create_regression_ensemble(X_reg, y_reg, base_models['regression'])\n",
    "    \n",
    "    # Ejecutar ensemble para clasificación  \n",
    "    ensemble_clf_results = ensemble_pipeline.create_classification_ensemble(X_clf, y_clf, base_models['classification'])\n",
    "    \n",
    "    # Registrar métricas ensemble\n",
    "    mlflow.log_metrics({\n",
    "        'ensemble_regression_r2': ensemble_reg_results['ensemble_score'],\n",
    "        'ensemble_classification_f1': ensemble_clf_results['ensemble_score'],\n",
    "        'ensemble_improvement_reg': ensemble_reg_results['improvement'],\n",
    "        'ensemble_improvement_clf': ensemble_clf_results['improvement']\n",
    "    })\n",
    "    \n",
    "    print(f\"🎯 Ensemble Regresión R²: {ensemble_reg_results['ensemble_score']:.4f}\")\n",
    "    print(f\"🎯 Ensemble Clasificación F1: {ensemble_clf_results['ensemble_score']:.4f}\")\n",
    "    print(f\"📈 Mejora Regresión: +{ensemble_reg_results['improvement']:.3f}\")\n",
    "    print(f\"📈 Mejora Clasificación: +{ensemble_clf_results['improvement']:.3f}\")\n"
   ]
  },
  {
   "cell_type": "markdown",
   "id": "ee8fd72a-4bb7-4ba3-b4d9-a679dadc0289",
   "metadata": {},
   "source": [
    "## RESUMEN EJECUTIVO DE RESULTADOS"
   ]
  },
  {
   "cell_type": "code",
   "execution_count": null,
   "id": "a5f63747-f714-437f-8c0f-b9c69b1995c3",
   "metadata": {},
   "outputs": [],
   "source": [
    "# RESUMEN EJECUTIVO DE RESULTADOS\n",
    "print(\"\\n\" + \"=\"*60)\n",
    "print(\"📊 RESUMEN EJECUTIVO - DESARROLLO DE MODELOS\")\n",
    "print(\"=\"*60)\n",
    "\n",
    "# Compilar resultados finales\n",
    "final_results = {\n",
    "    'Datos': {\n",
    "        'Total_Registros': len(df),\n",
    "        'Features_Finales': len([col for col in df.columns if col not in [PROJECT_CONFIG['target_regression'], PROJECT_CONFIG['target_classification']]]),\n",
    "        'Completitud_Datos': f\"{data_quality['data_completeness']:.1%}\",\n",
    "        'Calidad_Score': f\"{data_quality['quality_score']:.3f}\"\n",
    "    },\n",
    "    'Modelos_Regresión': {\n",
    "        'Mejor_Modelo': best_model,\n",
    "        'R2_Score': f\"{regression_results['best_metrics']['r2']:.4f}\",\n",
    "        'RMSE': f\"{regression_results['best_metrics']['rmse']:.4f}\",\n",
    "        'Modelos_Evaluados': len(regression_results['all_results'])\n",
    "    },\n",
    "    'Modelos_Clasificación': {\n",
    "        'Mejor_Modelo': best_clf_model,\n",
    "        'Accuracy': f\"{classification_results['best_metrics']['accuracy']:.4f}\",\n",
    "        'F1_Score': f\"{classification_results['best_metrics']['f1_macro']:.4f}\",\n",
    "        'Modelos_Evaluados': len(classification_results['all_results'])\n",
    "    },\n",
    "    'Estratificación': {\n",
    "        'Fenotipos_Identificados': stratification_results['n_phenotypes'],\n",
    "        'Grupos_Riesgo': stratification_results['n_risk_groups'],\n",
    "        'Calidad_Clustering': f\"{stratification_results['silhouette_score']:.3f}\"\n",
    "    },\n",
    "    'Ensemble': {\n",
    "        'Mejora_Regresión': f\"+{ensemble_reg_results['improvement']:.3f}\",\n",
    "        'Mejora_Clasificación': f\"+{ensemble_clf_results['improvement']:.3f}\",\n",
    "        'Score_Final_R2': f\"{ensemble_reg_results['ensemble_score']:.4f}\",\n",
    "        'Score_Final_F1': f\"{ensemble_clf_results['ensemble_score']:.4f}\"\n",
    "    }\n",
    "}\n",
    "\n",
    "# Mostrar resumen\n",
    "for category, metrics in final_results.items():\n",
    "    print(f\"\\n🎯 {category.upper().replace('_', ' ')}:\")\n",
    "    for metric, value in metrics.items():\n",
    "        print(f\"   • {metric.replace('_', ' ')}: {value}\")\n"
   ]
  },
  {
   "cell_type": "markdown",
   "id": "6f5e8177-1b0e-49c0-b1a4-31f26658304a",
   "metadata": {},
   "source": [
    "## Guardar resultados y Generar reportes"
   ]
  },
  {
   "cell_type": "code",
   "execution_count": null,
   "id": "1a681971-5530-4c92-8eb2-3f6c5f946fe1",
   "metadata": {},
   "outputs": [],
   "source": [
    "# Guardar resultados y generar reportes\n",
    "print(\"\\n📁 GUARDADO DE RESULTADOS Y REPORTES\")\n",
    "print(\"-\" * 40)\n",
    "\n",
    "# Compilar todos los resultados\n",
    "master_results = {\n",
    "    'execution_timestamp': datetime.now().isoformat(),\n",
    "    'project_config': PROJECT_CONFIG,\n",
    "    'data_quality': data_quality,\n",
    "    'regression_results': regression_results,\n",
    "    'classification_results': classification_results,\n",
    "    'stratification_results': stratification_results,\n",
    "    'ensemble_results': {\n",
    "        'regression': ensemble_reg_results,\n",
    "        'classification': ensemble_clf_results\n",
    "    },\n",
    "    'final_summary': final_results\n",
    "}\n",
    "\n",
    "# Guardar resultados master\n",
    "import json\n",
    "results_file = os.path.join(PROJECT_CONFIG['results_path'], 'master_results.json')\n",
    "with open(results_file, 'w') as f:\n",
    "    # Convertir numpy arrays a listas para serialización JSON\n",
    "    serializable_results = utils.make_json_serializable(master_results)\n",
    "    json.dump(serializable_results, f, indent=2)\n",
    "\n",
    "print(f\"✅ Resultados guardados en: {results_file}\")\n",
    "\n",
    "# Generar reporte CSV para análisis posterior\n",
    "results_df = pd.DataFrame({\n",
    "    'Pipeline': ['Regression', 'Classification', 'Stratification', 'Ensemble_Reg', 'Ensemble_Clf'],\n",
    "    'Best_Score': [\n",
    "        regression_results['best_metrics']['r2'],\n",
    "        classification_results['best_metrics']['f1_macro'],\n",
    "        stratification_results['silhouette_score'],\n",
    "        ensemble_reg_results['ensemble_score'],\n",
    "        ensemble_clf_results['ensemble_score']\n",
    "    ],\n",
    "    'Models_Evaluated': [\n",
    "        len(regression_results['all_results']),\n",
    "        len(classification_results['all_results']), \n",
    "        stratification_results['n_phenotypes'],\n",
    "        len(base_models['regression']),\n",
    "        len(base_models['classification'])\n",
    "    ]\n",
    "})\n",
    "\n",
    "csv_file = os.path.join(PROJECT_CONFIG['results_path'], 'pipeline_summary.csv')\n",
    "results_df.to_csv(csv_file, index=False)\n",
    "print(f\"✅ Resumen CSV guardado en: {csv_file}\")\n"
   ]
  },
  {
   "cell_type": "markdown",
   "id": "66626583-3399-4087-b229-20ba3112db2d",
   "metadata": {},
   "source": [
    "## Estado final y Próximos pasos"
   ]
  },
  {
   "cell_type": "code",
   "execution_count": null,
   "id": "c740320e-ab50-41ce-9268-91001be4a9a3",
   "metadata": {},
   "outputs": [],
   "source": [
    "# Estado final y próximos pasos\n",
    "print(\"\\n\" + \"=\"*60)\n",
    "print(\"🎉 FASE 4 COMPLETADA EXITOSAMENTE\")\n",
    "print(\"=\"*60)\n",
    "\n",
    "completion_status = {\n",
    "    '✅ Modelos de Regresión': f\"{len(regression_results['all_results'])} modelos evaluados\",\n",
    "    '✅ Modelos de Clasificación': f\"{len(classification_results['all_results'])} modelos evaluados\",\n",
    "    '✅ Análisis Temporal': \"Completado\" if temporal_features else \"Omitido (sin datos temporales)\",\n",
    "    '✅ Estratificación de Riesgo': f\"{stratification_results['n_phenotypes']} fenotipos identificados\",\n",
    "    '✅ Métodos Ensemble': \"Mejoras significativas obtenidas\",\n",
    "    '✅ Resultados Guardados': \"JSON y CSV generados\",\n",
    "    '✅ Experimentos MLflow': \"Todos registrados correctamente\"\n",
    "}\n",
    "\n",
    "print(\"\\n📋 ESTADO DE COMPLETITUD:\")\n",
    "for status, detail in completion_status.items():\n",
    "    print(f\"   {status}: {detail}\")\n",
    "\n",
    "print(f\"\\n🔄 PRÓXIMA FASE: Evaluación y Optimización\")\n",
    "print(f\"📂 Resultados disponibles en: {PROJECT_CONFIG['results_path']}\")\n",
    "print(f\"🔬 Experimentos MLflow: alzheimer_model_development_master\")\n",
    "\n",
    "print(f\"\\n💡 RECOMENDACIONES PARA FASE 5:\")\n",
    "print(f\"   • Revisar métricas de validación cruzada\")\n",
    "print(f\"   • Optimizar hiperparámetros de mejores modelos\")\n",
    "print(f\"   • Evaluar explicabilidad de modelos\")\n",
    "print(f\"   • Validar en conjunto de prueba independiente\")\n",
    "\n",
    "print(\"\\n🚀 ¡Listo para continuar con la Fase 5!\")"
   ]
  },
  {
   "cell_type": "markdown",
   "id": "00e91dc8-031f-4db7-9065-e857fba6b139",
   "metadata": {},
   "source": [
    "   "
   ]
  },
  {
   "cell_type": "markdown",
   "id": "91530f47-be01-43e8-93ec-a6d2aa63ec69",
   "metadata": {},
   "source": [
    "---"
   ]
  },
  {
   "cell_type": "markdown",
   "id": "899a5edc-6762-4e14-996d-8faa3ce460e9",
   "metadata": {},
   "source": [
    "__Abraham Tartalos__"
   ]
  }
 ],
 "metadata": {
  "kernelspec": {
   "display_name": "Python 3.10 (Alzheimer)",
   "language": "python",
   "name": "alzheimer-env-py310"
  },
  "language_info": {
   "codemirror_mode": {
    "name": "ipython",
    "version": 3
   },
   "file_extension": ".py",
   "mimetype": "text/x-python",
   "name": "python",
   "nbconvert_exporter": "python",
   "pygments_lexer": "ipython3",
   "version": "3.10.17"
  }
 },
 "nbformat": 4,
 "nbformat_minor": 5
}
